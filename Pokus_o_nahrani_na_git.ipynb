{
  "nbformat": 4,
  "nbformat_minor": 0,
  "metadata": {
    "colab": {
      "name": "Pokus_o_nahrani_na_git.ipynb",
      "provenance": [],
      "authorship_tag": "ABX9TyM2wf+1VoGj69RDK3fo5BmS",
      "include_colab_link": true
    },
    "kernelspec": {
      "name": "python3",
      "display_name": "Python 3"
    }
  },
  "cells": [
    {
      "cell_type": "markdown",
      "metadata": {
        "id": "view-in-github",
        "colab_type": "text"
      },
      "source": [
        "<a href=\"https://colab.research.google.com/github/valenja9/Python_krouzek_pro_dospele/blob/main/Pokus_o_nahrani_na_git.ipynb\" target=\"_parent\"><img src=\"https://colab.research.google.com/assets/colab-badge.svg\" alt=\"Open In Colab\"/></a>"
      ]
    },
    {
      "cell_type": "code",
      "metadata": {
        "id": "KpnpF9IpLVXq"
      },
      "source": [
        "jmeno = \"Jakub\"\r\n",
        "prijmeni = \"Valenta\""
      ],
      "execution_count": null,
      "outputs": []
    }
  ]
}