{
  "nbformat": 4,
  "nbformat_minor": 0,
  "metadata": {
    "colab": {
      "name": "Projekt_cestovni_appka.ipynb",
      "provenance": [],
      "authorship_tag": "ABX9TyNzfnZryug/m9C5b5K04qhW",
      "include_colab_link": true
    },
    "kernelspec": {
      "name": "python3",
      "display_name": "Python 3"
    }
  },
  "cells": [
    {
      "cell_type": "markdown",
      "metadata": {
        "id": "view-in-github",
        "colab_type": "text"
      },
      "source": [
        "<a href=\"https://colab.research.google.com/github/valenja9/Python_krouzek_pro_dospele/blob/main/Projekt_cestovni_appka.ipynb\" target=\"_parent\"><img src=\"https://colab.research.google.com/assets/colab-badge.svg\" alt=\"Open In Colab\"/></a>"
      ]
    },
    {
      "cell_type": "markdown",
      "metadata": {
        "id": "-enRb81Y_4zI"
      },
      "source": [
        "# Dopravní společnost: \r\n",
        "Máme vlastní dopravní společnost, která přepravuje lodí, vlakem a letadlem. \r\n",
        "- Zákazník si může vybrat čím bude přepraven a kam.\r\n",
        "- Data jsou zadánna ve slovníku.\r\n",
        "- Lokality jednotlivých prostředků budou uloženy v skriptu:\"*dopravni_informace.py*\" \r\n",
        "- Hlavní skript pojmenujte \"dopravni_spolecnost.py\"  \r\n",
        "- Vytvorte treti pomocny skript, ktery bude obsahovat zbylé funkce: \"potrebne_funkce.py\"\r\n",
        "\r\n",
        "- Od uživatele budeme potřebovat zadat následující informace:\r\n",
        "  - Jméno, příjmení, věk, mailová adresa.\r\n",
        "- Jméno a příjmení jsou složeny jen z písmen. (Funkce: kontrola_pismen) \r\n",
        "- Program by měl kontrolovat věkovou hranici 12 let (Funkce: kontrola_veku)\r\n",
        "- Kontorlovat jestli mail obsahuje @ a .(Funkce: kontrola_spravnosti_mailu)\r\n",
        "- Pokud kontrola proběhne ok, tak může zákazník pokračovat na výběr. Jinak program skončí (exit())\r\n",
        "- Tato kontorla proběhne u všech podmínek.\r\n",
        "- Následuje while cyklus, kde se snaží zákazník vybrat prostředek a lokalitu. (Funkce: zadej_kam_chces_jet)\r\n",
        "- Pro finální výpis vytvořte proměnnou sablona = f\"\"\"{jmeno}....\"\"\", kde bude naformátovaný celý text(Funkce: rozlouceni).\r\n",
        "- Takto bude vypadat výstup:\r\n",
        "\r\n"
      ]
    },
    {
      "cell_type": "markdown",
      "metadata": {
        "id": "lYhdRYgbWGiq"
      },
      "source": [
        "```\r\n",
        "----------------------------------------\r\n",
        "Vytejte v nasi dopravni spolecnosti. Zadejte zakladni informace a vyberte kam chcete jet.\r\n",
        "----------------------------------------\r\n",
        "Zadej jmeno: Jakub\r\n",
        "Zadej prijmeni: Valenta\r\n",
        "Zadal jsi spravne!\r\n",
        "----------------------------------------\r\n",
        "Zadej vek: 26\r\n",
        "Jsi dostatecne stary\r\n",
        "----------------------------------------\r\n",
        "Zadej mail: kub@ddljd.cy\r\n",
        "Mail prosel\r\n",
        "----------------------------------------\r\n",
        "Ted můžeš vybírat z našcich prosttředků\r\n",
        "  Loď\r\n",
        "  Letadlo\r\n",
        "  vlak\r\n",
        "Zadej prostredek (bez diakritiky (lod, letadlo, vlak)): lok\r\n",
        "Tato lokace tu není. Vybírej dál\r\n",
        "Zadej prostredek (bez diakritiky (lod, letadlo, vlak)): lod\r\n",
        "Timto prostredkem muzete jet:  ['Nemecko', 'Polsko']\r\n",
        "Kam tedy chceš jet?Nemecko\r\n",
        "Listek si objednal Jakub, Valenta, pojedes nasim prostredkem Lod na Nemecko. Celkem te bude listek stat 500\r\n",
        "\r\n",
        "```\r\n",
        "\r\n"
      ]
    },
    {
      "cell_type": "markdown",
      "metadata": {
        "id": "C9F2vXJD10qQ"
      },
      "source": [
        "# Video navod\r\n",
        "https://www.loom.com/share/a2a41caf96904dd6b95f6910443aa1ea"
      ]
    },
    {
      "cell_type": "markdown",
      "metadata": {
        "id": "bt1uiSnCWlIE"
      },
      "source": [
        "# Data"
      ]
    },
    {
      "cell_type": "code",
      "metadata": {
        "id": "U-1WStPgJQgo"
      },
      "source": [
        "slovnik_lokaci = { \"vlak\"   : {\"Benatky\" : 1500, \r\n",
        "                               \"Viden\"   : 900\r\n",
        "                              },\r\n",
        "                  \"Letadlo\" : {\"Bali\" : 15000, \r\n",
        "                               \"Venezuela\" : 20000\r\n",
        "                              },  \r\n",
        "                  \"Lod\"     :  {\"Nemecko\" : 500, \r\n",
        "                                \"Polsko\" : 350\r\n",
        "                               }   \r\n",
        "                }"
      ],
      "execution_count": null,
      "outputs": []
    },
    {
      "cell_type": "code",
      "metadata": {
        "id": "VXpx9aJDiO83"
      },
      "source": [
        "#hlavni funkce\r\n",
        "def main():\r\n",
        "  pass\r\n",
        "  \r\n",
        "\r\n",
        "\r\n",
        "#kontrola jmena a prijmeni \r\n",
        "def kontrola_pismen(jmeno, prijmeni):\r\n",
        "  pass\r\n",
        "\r\n",
        "\r\n",
        "#kontrola veku:\r\n",
        "def kontrola_veku(vek):\r\n",
        "  pass\r\n",
        "\r\n",
        "def kontrola_mailu(mail):\r\n",
        "  pass\r\n",
        "\r\n",
        "def zadej_kam_chces_jet():\r\n",
        "  pass\r\n",
        "\r\n",
        "\r\n",
        "def rozlouceni(jmeno, prijmeni, prostredek, lokace, cena):\r\n",
        "  pass"
      ],
      "execution_count": null,
      "outputs": []
    },
    {
      "cell_type": "markdown",
      "metadata": {
        "id": "BlfKwzU0Wnof"
      },
      "source": [
        "# Bez funkci"
      ]
    },
    {
      "cell_type": "code",
      "metadata": {
        "colab": {
          "base_uri": "https://localhost:8080/",
          "height": 623
        },
        "id": "wksPuiGG_nMl",
        "outputId": "9f62d96c-ab8f-4fea-e76e-5cdabc3aa8af"
      },
      "source": [
        "#jednoducha veze bez funkci.\r\n",
        "oddelovac = \"-\" * 40\r\n",
        "print(oddelovac)\r\n",
        "print(\"Vytejte v nasi dopravni spolecnosti. Zadejte zakladni informace a vyberte kam chcete jet.\")\r\n",
        "print(oddelovac)\r\n",
        "\r\n",
        "#prvni zadani\r\n",
        "jmeno = input('Zadej jmeno: ')\r\n",
        "prijmeni = input(\"Zadej prijmeni: \")\r\n",
        "\r\n",
        "#kontrola jmena a prijmeni \r\n",
        "if jmeno.isalpha() and prijmeni.isalpha():\r\n",
        "    print('Zadal jsi spravne!')\r\n",
        "else:\r\n",
        "  exit()\r\n",
        "print(oddelovac)\r\n",
        "vek = int(input(\"Zadej vek: \"))\r\n",
        "print(oddelovac)\r\n",
        "\r\n",
        "#kontrola veku:\r\n",
        "if vek > 12:\r\n",
        "  print(\"Jsi dostatecne stary\")\r\n",
        "else:\r\n",
        "  exit()\r\n",
        "\r\n",
        "print(oddelovac)\r\n",
        "mail = input(\"Zadej mail: \")\r\n",
        "print(oddelovac)\r\n",
        "\r\n",
        "if \"@\" in mail and \".\" in mail:\r\n",
        "  print(\"Mail prosel\")\r\n",
        "else:\r\n",
        "  exit()\r\n",
        "\r\n",
        "print(\"\"\"Ted můžeš vybírat z našcich prosgtředků\r\n",
        "Loď\r\n",
        "Letadlo\r\n",
        "vlak\"\"\"\r\n",
        ")\r\n",
        "\r\n",
        "while True:\r\n",
        "  prostredek = input(\"Zadej prostredek (bez diakritiky (lod, letadlo, vlak)): \").lower()\r\n",
        "  volba = slovnik_lokaci.get(prostredek, \"Neni\")\r\n",
        "  if volba == \"Neni\":\r\n",
        "    print(\"Tato lokace tu není. Vybírej dál\")\r\n",
        "    continue\r\n",
        "  else:\r\n",
        "    print(\"Timto prostredkem muzete jet: \", list(volba.keys()))\r\n",
        "    lokace = input(\"Kam tedy chceš jet?\").title()\r\n",
        "    cena = volba.get(lokace, 0)\r\n",
        "    if cena == 0:\r\n",
        "      print(\"spatna lokace, musis zadat znovu.\")\r\n",
        "    else:\r\n",
        "      break\r\n",
        "print(oddelovac)\r\n",
        "\r\n",
        "#Vypis vysledek\r\n",
        "sablona = f\"\"\"Listek si objednal {jmeno}, {prijmeni}, pojedes pomoci {prostredek} na {lokace}. Celkem te bude listek stat {cena} kc\"\"\"\r\n",
        "print(sablona)"
      ],
      "execution_count": null,
      "outputs": [
        {
          "output_type": "stream",
          "text": [
            "----------------------------------------\n",
            "Vytejte v nasi dopravni spolecnosti. Zadejte zakladni informace a vyberte kam chcete jet.\n",
            "----------------------------------------\n"
          ],
          "name": "stdout"
        },
        {
          "output_type": "error",
          "ename": "KeyboardInterrupt",
          "evalue": "ignored",
          "traceback": [
            "\u001b[0;31m---------------------------------------------------------------------------\u001b[0m",
            "\u001b[0;31mKeyboardInterrupt\u001b[0m                         Traceback (most recent call last)",
            "\u001b[0;32m/usr/local/lib/python3.7/dist-packages/ipykernel/kernelbase.py\u001b[0m in \u001b[0;36m_input_request\u001b[0;34m(self, prompt, ident, parent, password)\u001b[0m\n\u001b[1;32m    728\u001b[0m             \u001b[0;32mtry\u001b[0m\u001b[0;34m:\u001b[0m\u001b[0;34m\u001b[0m\u001b[0;34m\u001b[0m\u001b[0m\n\u001b[0;32m--> 729\u001b[0;31m                 \u001b[0mident\u001b[0m\u001b[0;34m,\u001b[0m \u001b[0mreply\u001b[0m \u001b[0;34m=\u001b[0m \u001b[0mself\u001b[0m\u001b[0;34m.\u001b[0m\u001b[0msession\u001b[0m\u001b[0;34m.\u001b[0m\u001b[0mrecv\u001b[0m\u001b[0;34m(\u001b[0m\u001b[0mself\u001b[0m\u001b[0;34m.\u001b[0m\u001b[0mstdin_socket\u001b[0m\u001b[0;34m,\u001b[0m \u001b[0;36m0\u001b[0m\u001b[0;34m)\u001b[0m\u001b[0;34m\u001b[0m\u001b[0;34m\u001b[0m\u001b[0m\n\u001b[0m\u001b[1;32m    730\u001b[0m             \u001b[0;32mexcept\u001b[0m \u001b[0mException\u001b[0m\u001b[0;34m:\u001b[0m\u001b[0;34m\u001b[0m\u001b[0;34m\u001b[0m\u001b[0m\n",
            "\u001b[0;32m/usr/local/lib/python3.7/dist-packages/jupyter_client/session.py\u001b[0m in \u001b[0;36mrecv\u001b[0;34m(self, socket, mode, content, copy)\u001b[0m\n\u001b[1;32m    802\u001b[0m         \u001b[0;32mtry\u001b[0m\u001b[0;34m:\u001b[0m\u001b[0;34m\u001b[0m\u001b[0;34m\u001b[0m\u001b[0m\n\u001b[0;32m--> 803\u001b[0;31m             \u001b[0mmsg_list\u001b[0m \u001b[0;34m=\u001b[0m \u001b[0msocket\u001b[0m\u001b[0;34m.\u001b[0m\u001b[0mrecv_multipart\u001b[0m\u001b[0;34m(\u001b[0m\u001b[0mmode\u001b[0m\u001b[0;34m,\u001b[0m \u001b[0mcopy\u001b[0m\u001b[0;34m=\u001b[0m\u001b[0mcopy\u001b[0m\u001b[0;34m)\u001b[0m\u001b[0;34m\u001b[0m\u001b[0;34m\u001b[0m\u001b[0m\n\u001b[0m\u001b[1;32m    804\u001b[0m         \u001b[0;32mexcept\u001b[0m \u001b[0mzmq\u001b[0m\u001b[0;34m.\u001b[0m\u001b[0mZMQError\u001b[0m \u001b[0;32mas\u001b[0m \u001b[0me\u001b[0m\u001b[0;34m:\u001b[0m\u001b[0;34m\u001b[0m\u001b[0;34m\u001b[0m\u001b[0m\n",
            "\u001b[0;32m/usr/local/lib/python3.7/dist-packages/zmq/sugar/socket.py\u001b[0m in \u001b[0;36mrecv_multipart\u001b[0;34m(self, flags, copy, track)\u001b[0m\n\u001b[1;32m    582\u001b[0m         \"\"\"\n\u001b[0;32m--> 583\u001b[0;31m         \u001b[0mparts\u001b[0m \u001b[0;34m=\u001b[0m \u001b[0;34m[\u001b[0m\u001b[0mself\u001b[0m\u001b[0;34m.\u001b[0m\u001b[0mrecv\u001b[0m\u001b[0;34m(\u001b[0m\u001b[0mflags\u001b[0m\u001b[0;34m,\u001b[0m \u001b[0mcopy\u001b[0m\u001b[0;34m=\u001b[0m\u001b[0mcopy\u001b[0m\u001b[0;34m,\u001b[0m \u001b[0mtrack\u001b[0m\u001b[0;34m=\u001b[0m\u001b[0mtrack\u001b[0m\u001b[0;34m)\u001b[0m\u001b[0;34m]\u001b[0m\u001b[0;34m\u001b[0m\u001b[0;34m\u001b[0m\u001b[0m\n\u001b[0m\u001b[1;32m    584\u001b[0m         \u001b[0;31m# have first part already, only loop while more to receive\u001b[0m\u001b[0;34m\u001b[0m\u001b[0;34m\u001b[0m\u001b[0;34m\u001b[0m\u001b[0m\n",
            "\u001b[0;32mzmq/backend/cython/socket.pyx\u001b[0m in \u001b[0;36mzmq.backend.cython.socket.Socket.recv\u001b[0;34m()\u001b[0m\n",
            "\u001b[0;32mzmq/backend/cython/socket.pyx\u001b[0m in \u001b[0;36mzmq.backend.cython.socket.Socket.recv\u001b[0;34m()\u001b[0m\n",
            "\u001b[0;32mzmq/backend/cython/socket.pyx\u001b[0m in \u001b[0;36mzmq.backend.cython.socket._recv_copy\u001b[0;34m()\u001b[0m\n",
            "\u001b[0;32m/usr/local/lib/python3.7/dist-packages/zmq/backend/cython/checkrc.pxd\u001b[0m in \u001b[0;36mzmq.backend.cython.checkrc._check_rc\u001b[0;34m()\u001b[0m\n",
            "\u001b[0;31mKeyboardInterrupt\u001b[0m: ",
            "\nDuring handling of the above exception, another exception occurred:\n",
            "\u001b[0;31mKeyboardInterrupt\u001b[0m                         Traceback (most recent call last)",
            "\u001b[0;32m<ipython-input-10-073b4c76a9fc>\u001b[0m in \u001b[0;36m<module>\u001b[0;34m()\u001b[0m\n\u001b[1;32m      6\u001b[0m \u001b[0;34m\u001b[0m\u001b[0m\n\u001b[1;32m      7\u001b[0m \u001b[0;31m#prvni zadani\u001b[0m\u001b[0;34m\u001b[0m\u001b[0;34m\u001b[0m\u001b[0;34m\u001b[0m\u001b[0m\n\u001b[0;32m----> 8\u001b[0;31m \u001b[0mjmeno\u001b[0m \u001b[0;34m=\u001b[0m \u001b[0minput\u001b[0m\u001b[0;34m(\u001b[0m\u001b[0;34m'Zadej jmeno: '\u001b[0m\u001b[0;34m)\u001b[0m\u001b[0;34m\u001b[0m\u001b[0;34m\u001b[0m\u001b[0m\n\u001b[0m\u001b[1;32m      9\u001b[0m \u001b[0mprijmeni\u001b[0m \u001b[0;34m=\u001b[0m \u001b[0minput\u001b[0m\u001b[0;34m(\u001b[0m\u001b[0;34m\"Zadej prijmeni: \"\u001b[0m\u001b[0;34m)\u001b[0m\u001b[0;34m\u001b[0m\u001b[0;34m\u001b[0m\u001b[0m\n\u001b[1;32m     10\u001b[0m \u001b[0;34m\u001b[0m\u001b[0m\n",
            "\u001b[0;32m/usr/local/lib/python3.7/dist-packages/ipykernel/kernelbase.py\u001b[0m in \u001b[0;36mraw_input\u001b[0;34m(self, prompt)\u001b[0m\n\u001b[1;32m    702\u001b[0m             \u001b[0mself\u001b[0m\u001b[0;34m.\u001b[0m\u001b[0m_parent_ident\u001b[0m\u001b[0;34m,\u001b[0m\u001b[0;34m\u001b[0m\u001b[0;34m\u001b[0m\u001b[0m\n\u001b[1;32m    703\u001b[0m             \u001b[0mself\u001b[0m\u001b[0;34m.\u001b[0m\u001b[0m_parent_header\u001b[0m\u001b[0;34m,\u001b[0m\u001b[0;34m\u001b[0m\u001b[0;34m\u001b[0m\u001b[0m\n\u001b[0;32m--> 704\u001b[0;31m             \u001b[0mpassword\u001b[0m\u001b[0;34m=\u001b[0m\u001b[0;32mFalse\u001b[0m\u001b[0;34m,\u001b[0m\u001b[0;34m\u001b[0m\u001b[0;34m\u001b[0m\u001b[0m\n\u001b[0m\u001b[1;32m    705\u001b[0m         )\n\u001b[1;32m    706\u001b[0m \u001b[0;34m\u001b[0m\u001b[0m\n",
            "\u001b[0;32m/usr/local/lib/python3.7/dist-packages/ipykernel/kernelbase.py\u001b[0m in \u001b[0;36m_input_request\u001b[0;34m(self, prompt, ident, parent, password)\u001b[0m\n\u001b[1;32m    732\u001b[0m             \u001b[0;32mexcept\u001b[0m \u001b[0mKeyboardInterrupt\u001b[0m\u001b[0;34m:\u001b[0m\u001b[0;34m\u001b[0m\u001b[0;34m\u001b[0m\u001b[0m\n\u001b[1;32m    733\u001b[0m                 \u001b[0;31m# re-raise KeyboardInterrupt, to truncate traceback\u001b[0m\u001b[0;34m\u001b[0m\u001b[0;34m\u001b[0m\u001b[0;34m\u001b[0m\u001b[0m\n\u001b[0;32m--> 734\u001b[0;31m                 \u001b[0;32mraise\u001b[0m \u001b[0mKeyboardInterrupt\u001b[0m\u001b[0;34m\u001b[0m\u001b[0;34m\u001b[0m\u001b[0m\n\u001b[0m\u001b[1;32m    735\u001b[0m             \u001b[0;32melse\u001b[0m\u001b[0;34m:\u001b[0m\u001b[0;34m\u001b[0m\u001b[0;34m\u001b[0m\u001b[0m\n\u001b[1;32m    736\u001b[0m                 \u001b[0;32mbreak\u001b[0m\u001b[0;34m\u001b[0m\u001b[0;34m\u001b[0m\u001b[0m\n",
            "\u001b[0;31mKeyboardInterrupt\u001b[0m: "
          ]
        }
      ]
    },
    {
      "cell_type": "markdown",
      "metadata": {
        "id": "66tJ9oeZQsEo"
      },
      "source": [
        "# Pomoci funkci"
      ]
    },
    {
      "cell_type": "code",
      "metadata": {
        "colab": {
          "base_uri": "https://localhost:8080/"
        },
        "id": "pzkRWpasQqeH",
        "outputId": "67418f05-0936-44de-8e7a-e1e81a9c2020"
      },
      "source": [
        "def main():\r\n",
        "  oddelovac = \"-\" * 40\r\n",
        "  print(oddelovac)\r\n",
        "  print(\"Vytejte v nasi dopravni spolecnosti. Zadejte zakladni informace a vyberte kam chcete jet.\")\r\n",
        "  print(oddelovac)\r\n",
        "  \r\n",
        "  #kontorla jmen\r\n",
        "  jmeno = input('Zadej jmeno: ')\r\n",
        "  prijmeni = input(\"Zadej prijmeni: \")\r\n",
        "  kontrola_pismen(jmeno, prijmeni)\r\n",
        "  print(oddelovac)\r\n",
        "  \r\n",
        "  #kontrola veku\r\n",
        "  vek = int(input(\"Zadej vek: \"))\r\n",
        "  kontrola_veku(vek)\r\n",
        "  print(oddelovac)\r\n",
        "\r\n",
        "  #Kontorla mailu\r\n",
        "  mail = input(\"Zadej mail: \")\r\n",
        "  kontrola_mailu(mail)\r\n",
        "  print(oddelovac)\r\n",
        "  #nabidka\r\n",
        "  print(\"\"\"Ted můžeš vybírat z našcich prostředků\r\n",
        "  Loď\r\n",
        "  Letadlo\r\n",
        "  vlak\"\"\"\r\n",
        "      )\r\n",
        "  #vyber z funkce\r\n",
        "  prostredek, lokace, cena = zadej_kam_chces_jet()\r\n",
        "  #rozlouceni\r\n",
        "  rozlouceni(jmeno, prijmeni, prostredek, lokace, cena)\r\n",
        "\r\n",
        "  \r\n",
        "\r\n",
        "\r\n",
        "#kontrola jmena a prijmeni \r\n",
        "def kontrola_pismen(jmeno, prijmeni):\r\n",
        "  if jmeno.isalpha() and prijmeni.isalpha():\r\n",
        "      print('Zadal jsi spravne!')\r\n",
        "  else:\r\n",
        "    exit()\r\n",
        "\r\n",
        "\r\n",
        "#kontrola veku:\r\n",
        "def kontrola_veku(vek):\r\n",
        "  if vek > 12:\r\n",
        "    print(\"Jsi dostatecne stary\")\r\n",
        "  else:\r\n",
        "    exit()\r\n",
        "\r\n",
        "\r\n",
        "def kontrola_mailu(mail):\r\n",
        "  if \"@\" in mail and \".\" in mail:\r\n",
        "    print(\"Mail prosel\")\r\n",
        "  else:\r\n",
        "    exit()\r\n",
        "\r\n",
        "def zadej_kam_chces_jet():\r\n",
        "  while True:\r\n",
        "    prostredek = input(\"Zadej prostredek (bez diakritiky (lod, letadlo, vlak)): \").lower()\r\n",
        "    volba = slovnik_lokaci.get(prostredek, \"Neni\")\r\n",
        "    if volba == \"Neni\":\r\n",
        "      print(\"Tato lokace tu není. Vybírej dál\")\r\n",
        "      continue\r\n",
        "    else:\r\n",
        "      print(\"Timto prostredkem muzete jet: \", list(volba.keys()))\r\n",
        "      lokace = input(\"Kam tedy chceš jet?\").title()\r\n",
        "      cena = volba.get(lokace, 0)\r\n",
        "      if cena == 0:\r\n",
        "        print(\"spatna lokace, musis zadat znovu.\")\r\n",
        "      else:\r\n",
        "        break\r\n",
        "  return prostredek, lokace, cena\r\n",
        "print(oddelovac) \r\n",
        "def rozlouceni(jmeno, prijmeni, prostredek, lokace, cena):\r\n",
        "  #Vypis vysledek\r\n",
        "  sablona = f\"\"\"Listek si objednal {jmeno}, {prijmeni}, pojedes pomoci {prostredek} na {lokace}. Celkem te bude listek stat {cena} kc\"\"\"\r\n",
        "  print(sablona)"
      ],
      "execution_count": null,
      "outputs": [
        {
          "output_type": "stream",
          "text": [
            "----------------------------------------\n"
          ],
          "name": "stdout"
        }
      ]
    },
    {
      "cell_type": "code",
      "metadata": {
        "colab": {
          "base_uri": "https://localhost:8080/"
        },
        "id": "37xfWDRXT8qP",
        "outputId": "9e21ae36-a190-4518-e9df-129dafb26d18"
      },
      "source": [
        "if __name__ == \"__main__\":\r\n",
        "  main()"
      ],
      "execution_count": null,
      "outputs": [
        {
          "output_type": "stream",
          "text": [
            "----------------------------------------\n",
            "Vytejte v nasi dopravni spolecnosti. Zadejte zakladni informace a vyberte kam chcete jet.\n",
            "----------------------------------------\n",
            "Zadej jmeno: Jakub\n",
            "Zadej prijmeni: Valenta\n",
            "Zadal jsi spravne!\n",
            "----------------------------------------\n",
            "Zadej vek: 26\n",
            "Jsi dostatecne stary\n",
            "----------------------------------------\n",
            "Zadej mail: kub@ddljd.cy\n",
            "Mail prosel\n",
            "----------------------------------------\n",
            "Ted můžeš vybírat z našcich prosttředků\n",
            "  Loď\n",
            "  Letadlo\n",
            "  vlak\n",
            "Zadej prostredek (bez diakritiky (lod, letadlo, vlak)): lok\n",
            "Tato lokace tu není. Vybírej dál\n",
            "Zadej prostredek (bez diakritiky (lod, letadlo, vlak)): lod\n",
            "Timto prostredkem muzete jet:  ['Nemecko', 'Polsko']\n",
            "Kam tedy chceš jet?Nemecko\n",
            "Listek si objednal Jakub, Valenta, pojedes nasim prostredkem Lod na Nemecko. Celkem te bude listek stat 500\n"
          ],
          "name": "stdout"
        }
      ]
    },
    {
      "cell_type": "markdown",
      "metadata": {
        "id": "x9hARZ_PU_FL"
      },
      "source": [
        "# Rozhozeni do skriptu"
      ]
    },
    {
      "cell_type": "code",
      "metadata": {
        "id": "VZNTE64YVHCZ"
      },
      "source": [
        "#dopravni_informace.py\r\n",
        "slovnik_lokaci = { \"vlak\"   : {\"Benatky\" : 1500, \r\n",
        "                               \"Viden\"   : 900\r\n",
        "                              },\r\n",
        "                  \"Letadlo\" : {\"Bali\" : 15000, \r\n",
        "                               \"Venezuela\" : 20000\r\n",
        "                              },  \r\n",
        "                  \"Lod\"     :  {\"Nemecko\" : 500, \r\n",
        "                                \"Polsko\" : 350\r\n",
        "                               }   \r\n",
        "                }"
      ],
      "execution_count": null,
      "outputs": []
    },
    {
      "cell_type": "code",
      "metadata": {
        "id": "Z13LzOadVReM"
      },
      "source": [
        "#potrebne funkce.py\r\n",
        "#kontrola jmena a prijmeni \r\n",
        "def kontrola_pismen(jmeno, prijmeni):\r\n",
        "  if jmeno.isalpha() and prijmeni.isalpha():\r\n",
        "      print('Zadal jsi spravne!')\r\n",
        "  else:\r\n",
        "    exit()\r\n",
        "\r\n",
        "\r\n",
        "#kontrola veku:\r\n",
        "def kontrola_veku(vek):\r\n",
        "  if vek > 12:\r\n",
        "    print(\"Jsi dostatecne stary\")\r\n",
        "  else:\r\n",
        "    exit()\r\n",
        "\r\n",
        "\r\n",
        "def kontrola_mailu(mail):\r\n",
        "  if \"@\" in mail and \".\" in mail:\r\n",
        "    print(\"Mail prosel\")\r\n",
        "  else:\r\n",
        "    exit()\r\n",
        "\r\n",
        "def zadej_kam_chces_jet():\r\n",
        "  while True:\r\n",
        "    prostredek = input(\"Zadej prostredek (bez diakritiky (lod, letadlo, vlak)): \").lower()\r\n",
        "    volba = slovnik_lokaci.get(prostredek, \"Neni\")\r\n",
        "    if volba == \"Neni\":\r\n",
        "      print(\"Tato lokace tu není. Vybírej dál\")\r\n",
        "      continue\r\n",
        "    else:\r\n",
        "      print(\"Timto prostredkem muzete jet: \", list(volba.keys()))\r\n",
        "      lokace = input(\"Kam tedy chceš jet?\").title()\r\n",
        "      cena = volba.get(lokace, 0)\r\n",
        "      if cena == 0:\r\n",
        "        print(\"spatna lokace, musis zadat znovu.\")\r\n",
        "      else:\r\n",
        "        break\r\n",
        "  return prostredek, lokace, cena\r\n",
        "print(oddelovac) \r\n",
        "def rozlouceni(jmeno, prijmeni, prostredek, lokace, cena):\r\n",
        "  #Vypis vysledek\r\n",
        "  sablona = f\"\"\"Listek si objednal {jmeno}, {prijmeni}, pojedes pomoci {prostredek} na {lokace}. Celkem te bude listek stat {cena} kc\"\"\"\r\n",
        "  print(sablona)\r\n"
      ],
      "execution_count": null,
      "outputs": []
    },
    {
      "cell_type": "code",
      "metadata": {
        "id": "RNWyfd8RXM7o"
      },
      "source": [
        "#dopravni_spolecnost.py\r\n",
        "from potrebne_funkce import *\r\n",
        "from dopravni_informace import slovnik_lokaci\r\n",
        "\r\n",
        "def main():\r\n",
        "  oddelovac = \"-\" * 40\r\n",
        "  print(oddelovac)\r\n",
        "  print(\"Vytejte v nasi dopravni spolecnosti. Zadejte zakladni informace a vyberte kam chcete jet.\")\r\n",
        "  print(oddelovac)\r\n",
        "  \r\n",
        "  #kontorla jmen\r\n",
        "  jmeno = input('Zadej jmeno: ')\r\n",
        "  prijmeni = input(\"Zadej prijmeni: \")\r\n",
        "  kontrola_pismen(jmeno, prijmeni)\r\n",
        "  print(oddelovac)\r\n",
        "  \r\n",
        "  #kontrola veku\r\n",
        "  vek = int(input(\"Zadej vek: \"))\r\n",
        "  kontrola_veku(vek)\r\n",
        "  print(oddelovac)\r\n",
        "\r\n",
        "  #Kontorla mailu\r\n",
        "  mail = input(\"Zadej mail: \")\r\n",
        "  kontrola_mailu(mail)\r\n",
        "  print(oddelovac)\r\n",
        "  #nabidka\r\n",
        "  print(\"\"\"Ted můžeš vybírat z našcich prostředků\r\n",
        "  Loď\r\n",
        "  Letadlo\r\n",
        "  vlak\"\"\"\r\n",
        "      )\r\n",
        "  #vyber z funkce\r\n",
        "  prostredek, lokace, cena = zadej_kam_chces_jet()\r\n",
        "  #rozlouceni\r\n",
        "  rozlouceni(jmeno, prijmeni, prostredek, lokace, cena)"
      ],
      "execution_count": null,
      "outputs": []
    }
  ]
}