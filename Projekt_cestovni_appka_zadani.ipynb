{
  "nbformat": 4,
  "nbformat_minor": 0,
  "metadata": {
    "colab": {
      "name": "Projekt_cestovni_appka_zadani.ipynb",
      "provenance": [],
      "authorship_tag": "ABX9TyOiCDmQsUHJwJeZO/Lw/zXU",
      "include_colab_link": true
    },
    "kernelspec": {
      "name": "python3",
      "display_name": "Python 3"
    }
  },
  "cells": [
    {
      "cell_type": "markdown",
      "metadata": {
        "id": "view-in-github",
        "colab_type": "text"
      },
      "source": [
        "<a href=\"https://colab.research.google.com/github/valenja9/Python_krouzek_pro_dospele/blob/main/Projekt_cestovni_appka_zadani.ipynb\" target=\"_parent\"><img src=\"https://colab.research.google.com/assets/colab-badge.svg\" alt=\"Open In Colab\"/></a>"
      ]
    },
    {
      "cell_type": "markdown",
      "metadata": {
        "id": "-enRb81Y_4zI"
      },
      "source": [
        "# Dopravní společnost: \r\n",
        "Máme vlastní dopravní společnost, která přepravuje lodí, vlakem a letadlem. Zákazník si může vybrat čím bude přepraven a kam.\r\n",
        "\r\n",
        "- Data jsou zadánna ve slovníku.\r\n",
        "\r\n",
        "\r\n",
        "- Od uživatele budeme potřebovat zadat následující informace:\r\n",
        "  - Jméno, příjmení, věk, mailová adresa.\r\n",
        "- Jméno a příjmení jsou složeny jen z písmen. (Funkce: kontrola_pismen) \r\n",
        "- Program by měl kontrolovat věkovou hranici 12 let (Funkce: kontrola_veku)\r\n",
        "- Kontorlovat jestli mail obsahuje @ a .(Funkce: kontrola_spravnosti_mailu)\r\n",
        "- Pokud kontrola proběhne ok, tak může zákazník pokračovat na výběr. Jinak program skončí (exit())\r\n",
        "- Tato kontorla proběhne u všech podmínek.\r\n",
        "- Následuje while cyklus, kde se snaží zákazník vybrat prostředek a lokalitu. (Funkce: zadej_kam_chces_jet)\r\n",
        "- Pro finální výpis vytvořte proměnnou sablona = f\"\"\"{jmeno}....\"\"\", kde bude naformátovaný celý text(Funkce: rozlouceni).\r\n",
        "\r\n",
        "- Moduly:\r\n",
        "- Lokality jednotlivých prostředků budou uloženy v skriptu:\"*dopravni_informace.py*\" \r\n",
        "- Hlavní skript pojmenujte \"dopravni_spolecnost.py\"  \r\n",
        "- Vytvorte treti pomocny skript, ktery bude obsahovat zbylé funkce: \"potrebne_funkce.py\"\r\n",
        "\r\n",
        "\r\n",
        "- Takto bude vypadat výstup:\r\n",
        "\r\n",
        "\r\n"
      ]
    },
    {
      "cell_type": "markdown",
      "metadata": {
        "id": "lYhdRYgbWGiq"
      },
      "source": [
        "```\r\n",
        "----------------------------------------\r\n",
        "Vytejte v nasi dopravni spolecnosti. Zadejte zakladni informace a vyberte kam chcete jet.\r\n",
        "----------------------------------------\r\n",
        "Zadej jmeno: Jakub\r\n",
        "Zadej prijmeni: Valenta\r\n",
        "Zadal jsi spravne!\r\n",
        "----------------------------------------\r\n",
        "Zadej vek: 26\r\n",
        "Jsi dostatecne stary\r\n",
        "----------------------------------------\r\n",
        "Zadej mail: kub@ddljd.cy\r\n",
        "Mail prosel\r\n",
        "----------------------------------------\r\n",
        "Ted můžeš vybírat z našcich prosttředků\r\n",
        "  Loď\r\n",
        "  Letadlo\r\n",
        "  vlak\r\n",
        "Zadej prostredek (bez diakritiky (lod, letadlo, vlak)): lok\r\n",
        "Tato lokace tu není. Vybírej dál\r\n",
        "Zadej prostredek (bez diakritiky (lod, letadlo, vlak)): lod\r\n",
        "Timto prostredkem muzete jet:  ['Nemecko', 'Polsko']\r\n",
        "Kam tedy chceš jet?Nemecko\r\n",
        "Listek si objednal Jakub, Valenta, pojedes nasim prostredkem Lod na Nemecko. Celkem te bude listek stat 500\r\n",
        "\r\n",
        "```\r\n",
        "\r\n"
      ]
    },
    {
      "cell_type": "markdown",
      "metadata": {
        "id": "C9F2vXJD10qQ"
      },
      "source": [
        "# Video navod\r\n",
        "https://www.loom.com/share/a2a41caf96904dd6b95f6910443aa1ea"
      ]
    },
    {
      "cell_type": "markdown",
      "metadata": {
        "id": "bt1uiSnCWlIE"
      },
      "source": [
        "# Data"
      ]
    },
    {
      "cell_type": "code",
      "metadata": {
        "id": "U-1WStPgJQgo"
      },
      "source": [
        "slovnik_lokaci = { \"vlak\"   : {\"Benatky\" : 1500, \r\n",
        "                               \"Viden\"   : 900\r\n",
        "                              },\r\n",
        "                  \"Letadlo\" : {\"Bali\" : 15000, \r\n",
        "                               \"Venezuela\" : 20000\r\n",
        "                              },  \r\n",
        "                  \"Lod\"     :  {\"Nemecko\" : 500, \r\n",
        "                                \"Polsko\" : 350\r\n",
        "                               }   \r\n",
        "                }"
      ],
      "execution_count": null,
      "outputs": []
    },
    {
      "cell_type": "code",
      "metadata": {
        "id": "VXpx9aJDiO83"
      },
      "source": [
        "#hlavni funkce\r\n",
        "def main():\r\n",
        "  pass\r\n",
        "  \r\n",
        "\r\n",
        "\r\n",
        "#kontrola jmena a prijmeni \r\n",
        "def kontrola_pismen(jmeno, prijmeni):\r\n",
        "  pass\r\n",
        "\r\n",
        "\r\n",
        "#kontrola veku:\r\n",
        "def kontrola_veku(vek):\r\n",
        "  pass\r\n",
        "\r\n",
        "def kontrola_mailu(mail):\r\n",
        "  pass\r\n",
        "\r\n",
        "def zadej_kam_chces_jet():\r\n",
        "  pass\r\n",
        "\r\n",
        "\r\n",
        "def rozlouceni(jmeno, prijmeni, prostredek, lokace, cena):\r\n",
        "  pass"
      ],
      "execution_count": null,
      "outputs": []
    }
  ]
}