{
  "nbformat": 4,
  "nbformat_minor": 0,
  "metadata": {
    "colab": {
      "name": "Projekt_kucharka.ipynb",
      "provenance": [],
      "authorship_tag": "ABX9TyOr5iUDGXSe4ljZJBIjhySH",
      "include_colab_link": true
    },
    "kernelspec": {
      "name": "python3",
      "display_name": "Python 3"
    }
  },
  "cells": [
    {
      "cell_type": "markdown",
      "metadata": {
        "id": "view-in-github",
        "colab_type": "text"
      },
      "source": [
        "<a href=\"https://colab.research.google.com/github/valenja9/Python_krouzek_pro_dospele/blob/main/Projekt_kucharka.ipynb\" target=\"_parent\"><img src=\"https://colab.research.google.com/assets/colab-badge.svg\" alt=\"Open In Colab\"/></a>"
      ]
    },
    {
      "cell_type": "markdown",
      "metadata": {
        "id": "um8QNq8HLX-P"
      },
      "source": [
        "# Kucharka.cz: \r\n",
        "Máme vlastní kuchařku, kde se nacházejí recepty na kuřecí a hovězí maso a žampion portobello. Každý uživatel se přihlašuje svým jménem, příjmením a věkem, který je nastaven na hranici 12 let, pomocí správně zadaného mailu. Následně si může uživatel nechat vypsat všechny recepty ze zvoleného druhu.\r\n",
        " \r\n",
        "Data jsou zadaná ve slovníku.\r\n",
        " \r\n",
        " \r\n",
        "Vytvořte:\r\n",
        "- Od uživatele budeme potřebovat zadat následující informace:\r\n",
        "  - Jméno, příjmení, věk, mailová adresa.\r\n",
        "- Jméno a příjmení jsou složeny jen z písmen. (Funkce: kontrola_pismen) \r\n",
        "- Program by měl kontrolovat věkovou hranici 12 let (Funkce: kontrola_veku)\r\n",
        "- Kontrolovat, jestli mail obsahuje @ a .(Funkce: kontrola_spravnosti_mailu)\r\n",
        "- Pokud kontrola proběhne v pořádku, tak může zákazník pokračovat na výběr. Jinak program skončí (exit())\r\n",
        " \r\n",
        "Moduly:\r\n",
        "- slovník receptu je uložen ve skriptu:\"*soubor_recepty.py*\" \r\n",
        "- Hlavní skript pojmenujte \"moje_kucharka.py\"  \r\n",
        "- Vytvořte třetí pomocný skript, který bude obsahovat zbylé funkce: \"potrebne_funkce.py\"\r\n",
        "- Tento skript by měl obsahovat všechny kontrolní funkce a funkci: prochazeni_kucharky\r\n",
        " \r\n",
        "- Zkuste tento skript napsat nejdříve bez funkcí\r\n",
        "\r\n"
      ]
    },
    {
      "cell_type": "markdown",
      "metadata": {
        "id": "PhAmESg8LQMR"
      },
      "source": [
        "\r\n",
        "\r\n",
        "```\r\n",
        "----------------------------------------\r\n",
        "Vytejte v aplikaci Kucharka.cz. Zadejte zakladni informa a pak ti umoznime prochazet recepty.\r\n",
        "----------------------------------------\r\n",
        "Zadej jmeno: Jakub\r\n",
        "Zadej prijmeni: Valenta\r\n",
        "Zadal jsi spravne!\r\n",
        "----------------------------------------\r\n",
        "Zadej vek: 26\r\n",
        "----------------------------------------\r\n",
        "Jsi dostatecne stary\r\n",
        "----------------------------------------\r\n",
        "Zadej mail: kub@val.cz\r\n",
        "----------------------------------------\r\n",
        "Mail prosel\r\n",
        "Ted můžeš vybírat z našich produktů:\r\n",
        "kure\r\n",
        "hovezi\r\n",
        "portobelo\r\n",
        "\r\n",
        "Zadej druh, ktery chces nakupovat (bez diakritiky (kure, hovezi, portobelo, pro ukonceni zmackni klavesu q)): kure\r\n",
        "----------------------------------------\r\n",
        " kure recept1\r\n",
        "----------------------------------------\r\n",
        " Postup přípravy receptu Kuřecí prsa omyjeme studenou vodou, osušíme papírovou utěrkou, odblaníme a nakrájíme na plátky\r\n",
        " Plátky lehce naklepeme, osolíme, opepříme, potřeme prolisovaným česnekem a obalíme v mouce, smíchané s mletou červenou paprikou\r\n",
        " Na másle zprudka opečeme (já dávám přepuštěné máslo anebo k máslu přidám trochu olivového oleje, aby se nepřepalovalo)\r\n",
        "\r\n",
        "----------------------------------------\r\n",
        "```\r\n",
        "\r\n"
      ]
    },
    {
      "cell_type": "markdown",
      "metadata": {
        "id": "Pf71e5EOMGs4"
      },
      "source": [
        "# Video zadani"
      ]
    },
    {
      "cell_type": "code",
      "metadata": {
        "id": "RTrO1sv12gfS"
      },
      "source": [
        "recepty = {\"kure\": \r\n",
        "           [(\" kure recept1\", \"\"\" Postup přípravy receptu Kuřecí prsa omyjeme studenou vodou, osušíme papírovou utěrkou, odblaníme a nakrájíme na plátky. Plátky lehce naklepeme, osolíme, opepříme, potřeme prolisovaným česnekem a obalíme v mouce, smíchané s mletou červenou paprikou. Na másle zprudka opečeme (já dávám přepuštěné máslo anebo k máslu přidám trochu olivového oleje, aby se nepřepalovalo).\"\"\")],\r\n",
        "\r\n",
        "           \"portobelo\" : [(\" portobelo recept1\",\"\"\" Portobelo oloupeme (ale nemusíme, jak je kdo zvyklý) odstraníme nožku, vnitřek osolíme a pokapeme olejem. Žampióny, (pokud máme čerstvé,) také oloupeme a v kutru drobně posekáme.\"\"\")],        \r\n",
        "           \"hovezi\" : [( \" hovezi recept1\",\r\n",
        "                         \"\"\" Cibule oloupeme a nakrájíme na drobno. Osmažíme na rozpáleném oleji společně s nadrobno nakrájenou slaninku\"\"\")]\r\n",
        "          }"
      ],
      "execution_count": 4,
      "outputs": []
    },
    {
      "cell_type": "code",
      "metadata": {
        "id": "GF7PV85liBiV"
      },
      "source": [
        "#hlavni funkce\r\n",
        "def main():\r\n",
        "  pass\r\n",
        "  \r\n",
        "\r\n",
        "\r\n",
        "#kontrola jmena a prijmeni \r\n",
        "def kontrola_pismen(jmeno, prijmeni):\r\n",
        "  pass\r\n",
        "\r\n",
        "\r\n",
        "#kontrola veku:\r\n",
        "def kontrola_veku(vek):\r\n",
        "  pass\r\n",
        "\r\n",
        "def kontrola_mailu(mail):\r\n",
        "  pass\r\n",
        "\r\n",
        "def prochazeni_kucharky():\r\n",
        "  pass\r\n"
      ],
      "execution_count": null,
      "outputs": []
    },
    {
      "cell_type": "code",
      "metadata": {
        "colab": {
          "base_uri": "https://localhost:8080/"
        },
        "id": "CDXE40GXlIFx",
        "outputId": "09f36ac1-0f85-4105-898b-2899d5fb77e0"
      },
      "source": [
        "mail = input(\"Zadej mail: \")\r\n",
        "\r\n",
        "if \"@.\" in mail:\r\n",
        "  print(\"Mail prosel\")\r\n",
        "else:\r\n",
        "  exit()"
      ],
      "execution_count": 2,
      "outputs": [
        {
          "output_type": "stream",
          "text": [
            "Zadej mail: @.\n",
            "Mail prosel\n"
          ],
          "name": "stdout"
        }
      ]
    },
    {
      "cell_type": "code",
      "metadata": {
        "colab": {
          "base_uri": "https://localhost:8080/"
        },
        "id": "owsd5I528iOT",
        "outputId": "b58445e2-3053-4e9c-f70d-6f9079eaac38"
      },
      "source": [
        "#jednoducha veze bez funkci.\r\n",
        "oddelovac = \"-\" * 40\r\n",
        "print(oddelovac)\r\n",
        "print(\"Vytejte v aplikaci Kucharka.cz. Zadejte zakladni informa a pak ti umoznime prochazet recepty.\")\r\n",
        "print(oddelovac)\r\n",
        "\r\n",
        "#prvni zadani\r\n",
        "jmeno = input('Zadej jmeno: ')\r\n",
        "prijmeni = input(\"Zadej prijmeni: \")\r\n",
        "\r\n",
        "#kontrola jmena a prijmeni \r\n",
        "if jmeno.isalpha() and prijmeni.isalpha():\r\n",
        "    print('Zadal jsi spravne!')\r\n",
        "else:\r\n",
        "  exit()\r\n",
        "print(oddelovac)\r\n",
        "vek = int(input(\"Zadej vek: \"))\r\n",
        "print(oddelovac)\r\n",
        "\r\n",
        "#kontrola veku:\r\n",
        "if vek > 12:\r\n",
        "  print(\"Jsi dostatecne stary\")\r\n",
        "else:\r\n",
        "  exit()\r\n",
        "\r\n",
        "print(oddelovac)\r\n",
        "mail = input(\"Zadej mail: \")\r\n",
        "print(oddelovac)\r\n",
        "\r\n",
        "if \"@\" in mail and \".\" in mail:\r\n",
        "  print(\"Mail prosel\")\r\n",
        "else:\r\n",
        "  exit()\r\n",
        "\r\n",
        "print(\"\"\"Ted můžeš vybírat z našcich produktů\r\n",
        "kure\r\n",
        "hovezi\r\n",
        "portobelo\r\n",
        "\"\"\"\r\n",
        ")\r\n",
        "\r\n",
        "while True:\r\n",
        "  produkt = input(\"Zadej druh, ktery chces nakupovat (bez diakritiky (kure, hovezi, portobelo, pro ukonceni zmackni klavesu q)): \").lower()\r\n",
        "  if produkt == \"q\":\r\n",
        "    print(\"Chci koncit\")\r\n",
        "    break\r\n",
        "  volba = recepty.get(produkt, \"Neni\")\r\n",
        "  if volba == \"Neni\":\r\n",
        "    print(\"Tento produkt tu není. Vybírej dál\")\r\n",
        "    continue\r\n",
        "  else:\r\n",
        "    for nazev, obsah in volba:\r\n",
        "        print(oddelovac)\r\n",
        "        print(nazev)\r\n",
        "        print(oddelovac)\r\n",
        "        for veta in obsah.split(\".\"):\r\n",
        "          print(veta)\r\n",
        "    break\r\n",
        "print(oddelovac)\r\n"
      ],
      "execution_count": null,
      "outputs": [
        {
          "output_type": "stream",
          "text": [
            "----------------------------------------\n",
            "Vytejte v aplikaci Kucharka.cz. Zadejte zakladni informa a pak ti umoznime prochazet recepty.\n",
            "----------------------------------------\n",
            "Zadej jmeno: Jakub\n",
            "Zadej prijmeni: Valenta\n",
            "Zadal jsi spravne!\n",
            "----------------------------------------\n",
            "Zadej vek: 26\n",
            "----------------------------------------\n",
            "Jsi dostatecne stary\n",
            "----------------------------------------\n",
            "Zadej mail: kub@mail.cz\n",
            "----------------------------------------\n",
            "Mail prosel\n",
            "Ted můžeš vybírat z našcich produktů\n",
            "kure\n",
            "hovezi\n",
            "portobelo\n",
            "\n",
            "Zadej druh, ktery chces nakupovat (bez diakritiky (kure, hovezi, portobelo, pro ukonceni zmackni klavesu q)): kure\n",
            "----------------------------------------\n",
            " kure recept1\n",
            "----------------------------------------\n",
            " Postup přípravy receptu Kuřecí prsa omyjeme studenou vodou, osušíme papírovou utěrkou, odblaníme a nakrájíme na plátky\n",
            " Plátky lehce naklepeme, osolíme, opepříme, potřeme prolisovaným česnekem a obalíme v mouce, smíchané s mletou červenou paprikou\n",
            " Na másle zprudka opečeme (já dávám přepuštěné máslo anebo k máslu přidám trochu olivového oleje, aby se nepřepalovalo)\n",
            "\n",
            "----------------------------------------\n"
          ],
          "name": "stdout"
        }
      ]
    },
    {
      "cell_type": "code",
      "metadata": {
        "id": "2fzgXzWvIXZe"
      },
      "source": [
        "def main():\r\n",
        "  oddelovac = \"-\" * 40\r\n",
        "  print(oddelovac)\r\n",
        "  print(\"Vytejte v nasi dopravni spolecnosti. Zadejte zakladni informace a vyberte kam chcete jet.\")\r\n",
        "  print(oddelovac)\r\n",
        "  \r\n",
        "  #kontorla jmen\r\n",
        "  jmeno = input('Zadej jmeno: ')\r\n",
        "  prijmeni = input(\"Zadej prijmeni: \")\r\n",
        "  kontrola_pismen(jmeno, prijmeni)\r\n",
        "  print(oddelovac)\r\n",
        "  \r\n",
        "  #kontrola veku\r\n",
        "  vek = int(input(\"Zadej vek: \"))\r\n",
        "  kontrola_veku(vek)\r\n",
        "  print(oddelovac)\r\n",
        "\r\n",
        "  #Kontorla mailu\r\n",
        "  mail = input(\"Zadej mail: \")\r\n",
        "  kontrola_mailu(mail)\r\n",
        "  print(oddelovac)\r\n",
        "  #nabidka\r\n",
        "  print(\"\"\"Ted můžeš vybírat z našcich produktů\r\n",
        "  ovoce\r\n",
        "  zelenina\r\n",
        "  \"\"\"\r\n",
        "  )\r\n",
        "  #vyber z funkce\r\n",
        "  prochazeni_kucharky()\r\n",
        "\r\n",
        "\r\n",
        "  \r\n",
        "\r\n",
        "\r\n",
        "#kontrola jmena a prijmeni \r\n",
        "def kontrola_pismen(jmeno, prijmeni):\r\n",
        "  if jmeno.isalpha() and prijmeni.isalpha():\r\n",
        "      print('Zadal jsi spravne!')\r\n",
        "  else:\r\n",
        "    exit()\r\n",
        "\r\n",
        "\r\n",
        "#kontrola veku:\r\n",
        "def kontrola_veku(vek):\r\n",
        "    if vek > 12:\r\n",
        "      print(\"Jsi dostatecne stary\")\r\n",
        "    else:\r\n",
        "      exit()\r\n",
        "\r\n",
        "\r\n",
        "def kontrola_mailu(mail):\r\n",
        "  if \"@\" in mail and \".\" in mail:\r\n",
        "    print(\"Mail prosel\")\r\n",
        "  else:\r\n",
        "    exit()\r\n",
        "\r\n",
        "def prochazeni_kucharky():\r\n",
        "  while True:\r\n",
        "    produkt = input(\"Zadej druh, ktery chces nakupovat (bez diakritiky (kure, hovezi, portobelo, pro ukonceni nakupu zmackni q)): \").lower()\r\n",
        "    if produkt == \"q\":\r\n",
        "      print(\"Chci koncit\")\r\n",
        "      break\r\n",
        "    volba = recepty.get(produkt, \"Neni\")\r\n",
        "    if volba == \"Neni\":\r\n",
        "      print(\"Tento produkt tu není. Vybírej dál\")\r\n",
        "      continue\r\n",
        "    else:\r\n",
        "      oddelovac = \"-\" * 40\r\n",
        "      for nazev, obsah in volba:\r\n",
        "          print(oddelovac)\r\n",
        "          print(nazev)\r\n",
        "          print(oddelovac)\r\n",
        "          for veta in obsah.split(\".\"):\r\n",
        "            print(veta)\r\n",
        "      break"
      ],
      "execution_count": 7,
      "outputs": []
    },
    {
      "cell_type": "code",
      "metadata": {
        "id": "mUXsAzYHJNfG",
        "colab": {
          "base_uri": "https://localhost:8080/"
        },
        "outputId": "9b53e26d-e291-4598-adb2-29a7a2f8cffc"
      },
      "source": [
        "if __name__ == \"__main__\":\r\n",
        "  main()"
      ],
      "execution_count": 8,
      "outputs": [
        {
          "output_type": "stream",
          "text": [
            "----------------------------------------\n",
            "Vytejte v nasi dopravni spolecnosti. Zadejte zakladni informace a vyberte kam chcete jet.\n",
            "----------------------------------------\n",
            "Zadej jmeno: h\n",
            "Zadej prijmeni: k\n",
            "Zadal jsi spravne!\n",
            "----------------------------------------\n",
            "Zadej vek: 26\n",
            "Jsi dostatecne stary\n",
            "----------------------------------------\n",
            "Zadej mail: @.\n",
            "Mail prosel\n",
            "----------------------------------------\n",
            "Ted můžeš vybírat z našcich produktů\n",
            "  ovoce\n",
            "  zelenina\n",
            "  \n",
            "Zadej druh, ktery chces nakupovat (bez diakritiky (kure, hovezi, portobelo, pro ukonceni nakupu zmackni q)): kure\n",
            "----------------------------------------\n",
            " kure recept1\n",
            "----------------------------------------\n",
            " Postup přípravy receptu Kuřecí prsa omyjeme studenou vodou, osušíme papírovou utěrkou, odblaníme a nakrájíme na plátky\n",
            " Plátky lehce naklepeme, osolíme, opepříme, potřeme prolisovaným česnekem a obalíme v mouce, smíchané s mletou červenou paprikou\n",
            " Na másle zprudka opečeme (já dávám přepuštěné máslo anebo k máslu přidám trochu olivového oleje, aby se nepřepalovalo)\n",
            "\n"
          ],
          "name": "stdout"
        }
      ]
    },
    {
      "cell_type": "code",
      "metadata": {
        "id": "B7_3snikrR7d"
      },
      "source": [
        "for nazev, obsah in volba:\r\n",
        "          print(oddelovac)\r\n",
        "          print(nazev)\r\n",
        "          print(oddelovac)\r\n",
        "          for veta in obsah.split(\".\"):\r\n",
        "            print(veta)"
      ],
      "execution_count": null,
      "outputs": []
    },
    {
      "cell_type": "markdown",
      "metadata": {
        "id": "zceK6QL8JjDT"
      },
      "source": [
        "# Jednotlive moduly"
      ]
    },
    {
      "cell_type": "code",
      "metadata": {
        "id": "ypchFTlfJnEC"
      },
      "source": [
        "#soubor_receptu.py\r\n",
        "recepty = {\"kure\": \r\n",
        "           [(\" kure recept1\", \"\"\" Postup přípravy receptu Kuřecí prsa omyjeme studenou vodou, osušíme papírovou utěrkou, odblaníme a nakrájíme na plátky. Plátky lehce naklepeme, osolíme, opepříme, potřeme prolisovaným česnekem a obalíme v mouce, smíchané s mletou červenou paprikou. Na másle zprudka opečeme (já dávám přepuštěné máslo anebo k máslu přidám trochu olivového oleje, aby se nepřepalovalo).\"\"\")],\r\n",
        "\r\n",
        "           \"portobelo\" : [(\" portobelo recept1\",\"\"\" Portobelo oloupeme (ale nemusíme, jak je kdo zvyklý) odstraníme nožku, vnitřek osolíme a pokapeme olejem. Žampióny, (pokud máme čerstvé,) také oloupeme a v kutru drobně posekáme.\"\"\")],        \r\n",
        "           \"hovezi\" : [( \" hovezi recept1\",\r\n",
        "                         \"\"\" Cibule oloupeme a nakrájíme na drobno. Osmažíme na rozpáleném oleji společně s nadrobno nakrájenou slaninku\"\"\")]\r\n",
        "          }"
      ],
      "execution_count": null,
      "outputs": []
    },
    {
      "cell_type": "code",
      "metadata": {
        "id": "I3puffZ5JrUX"
      },
      "source": [
        "#potrebne_funkce.py\r\n",
        "#kontrola jmena a prijmeni \r\n",
        "def kontrola_pismen(jmeno, prijmeni):\r\n",
        "  if jmeno.isalpha() and prijmeni.isalpha():\r\n",
        "      print('Zadal jsi spravne!')\r\n",
        "  else:\r\n",
        "    exit()\r\n",
        "\r\n",
        "\r\n",
        "#kontrola veku:\r\n",
        "def kontrola_veku(vek):\r\n",
        "  if vek > 12:\r\n",
        "    print(\"Jsi dostatecne stary\")\r\n",
        "  else:\r\n",
        "    exit()\r\n",
        "\r\n",
        "\r\n",
        "def kontrola_mailu(mail):\r\n",
        "  if \"@\" in mail and \".\" in mail:\r\n",
        "    print(\"Mail prosel\")\r\n",
        "  else:\r\n",
        "    exit()\r\n",
        "\r\n",
        "def prochazeni_kucharky():\r\n",
        "  while True:\r\n",
        "  produkt = input(\"Zadej druh, ktery chces nakupovat (bez diakritiky (kure, hovezi, portobelo, pro ukonceni nakupu zmackni q)): \").lower()\r\n",
        "  if produkt == \"q\":\r\n",
        "    print(\"Chci koncit\")\r\n",
        "    break\r\n",
        "  volba = recepty.get(produkt, \"Neni\")\r\n",
        "  if volba == \"Neni\":\r\n",
        "    print(\"Tento produkt tu není. Vybírej dál\")\r\n",
        "    continue\r\n",
        "  else:\r\n",
        "    for nazev, obsah in volba:\r\n",
        "        print(oddelovac)\r\n",
        "        print(nazev)\r\n",
        "        print(oddelovac)\r\n",
        "        for veta in obsah.split(\".\"):\r\n",
        "          print(veta)\r\n",
        "    break\r\n"
      ],
      "execution_count": null,
      "outputs": []
    },
    {
      "cell_type": "code",
      "metadata": {
        "id": "Nhx1R7EaKal3"
      },
      "source": [
        "#moje_kucharka.py\r\n",
        "from potrebne_funkce import *\r\n",
        "from soubor_receptu import recepty\r\n",
        "\r\n",
        "\r\n",
        "def main():\r\n",
        "  oddelovac = \"-\" * 40\r\n",
        "  print(oddelovac)\r\n",
        "  print(\"Vytejte v nasi dopravni spolecnosti. Zadejte zakladni informace a vyberte kam chcete jet.\")\r\n",
        "  print(oddelovac)\r\n",
        "  \r\n",
        "  #kontorla jmen\r\n",
        "  jmeno = input('Zadej jmeno: ')\r\n",
        "  prijmeni = input(\"Zadej prijmeni: \")\r\n",
        "  kontrola_pismen(jmeno, prijmeni)\r\n",
        "  print(oddelovac)\r\n",
        "  \r\n",
        "  #kontrola veku\r\n",
        "  vek = int(input(\"Zadej vek: \"))\r\n",
        "  kontrola_veku(vek)\r\n",
        "  print(oddelovac)\r\n",
        "\r\n",
        "  #Kontorla mailu\r\n",
        "  mail = input(\"Zadej mail: \")\r\n",
        "  kontrola_mailu(mail)\r\n",
        "  print(oddelovac)\r\n",
        "  #nabidka\r\n",
        "  print(\"\"\"Ted můžeš vybírat z našich produktů\r\n",
        "  ovoce\r\n",
        "  zelenina\r\n",
        "  \"\"\"\r\n",
        "  )\r\n",
        "  #vyber z funkce\r\n",
        "  prochazeni_kucharky()\r\n"
      ],
      "execution_count": null,
      "outputs": []
    },
    {
      "cell_type": "markdown",
      "metadata": {
        "id": "hXgjzyN9KZ9h"
      },
      "source": [
        "# Video"
      ]
    }
  ]
}