{
  "nbformat": 4,
  "nbformat_minor": 0,
  "metadata": {
    "colab": {
      "name": "Projekt_kucharka_zadani.ipynb",
      "provenance": [],
      "authorship_tag": "ABX9TyPdps55JBXxqhtrzr9jaZM4",
      "include_colab_link": true
    },
    "kernelspec": {
      "name": "python3",
      "display_name": "Python 3"
    }
  },
  "cells": [
    {
      "cell_type": "markdown",
      "metadata": {
        "id": "view-in-github",
        "colab_type": "text"
      },
      "source": [
        "<a href=\"https://colab.research.google.com/github/valenja9/Python_krouzek_pro_dospele/blob/main/Projekt_kucharka_zadani.ipynb\" target=\"_parent\"><img src=\"https://colab.research.google.com/assets/colab-badge.svg\" alt=\"Open In Colab\"/></a>"
      ]
    },
    {
      "cell_type": "markdown",
      "metadata": {
        "id": "um8QNq8HLX-P"
      },
      "source": [
        "# Kucharka.cz: \r\n",
        "Máme vlastní kuchařku, kde se nacházejí recepty na kuřecí a hovězí maso a žampion portobello. Každý uživatel se přihlašuje svým jménem, příjmením a věkem, který je nastaven na hranici 12 let, pomocí správně zadaného mailu. Následně si může uživatel nechat vypsat všechny recepty ze zvoleného druhu.\r\n",
        " \r\n",
        "Data jsou zadaná ve slovníku.\r\n",
        " \r\n",
        " \r\n",
        "Vytvořte:\r\n",
        "- Od uživatele budeme potřebovat zadat následující informace:\r\n",
        "  - Jméno, příjmení, věk, mailová adresa.\r\n",
        "- Jméno a příjmení jsou složeny jen z písmen. (Funkce: kontrola_pismen) \r\n",
        "- Program by měl kontrolovat věkovou hranici 12 let (Funkce: kontrola_veku)\r\n",
        "- Kontrolovat, jestli mail obsahuje @ a .(Funkce: kontrola_spravnosti_mailu)\r\n",
        "- Pokud kontrola proběhne v pořádku, tak může zákazník pokračovat na výběr. Jinak program skončí (exit())\r\n",
        " \r\n",
        "Moduly:\r\n",
        "- slovník receptu je uložen ve skriptu:\"*soubor_recepty.py*\" \r\n",
        "- Hlavní skript pojmenujte \"moje_kucharka.py\"  \r\n",
        "- Vytvořte třetí pomocný skript, který bude obsahovat zbylé funkce: \"potrebne_funkce.py\"\r\n",
        "- Tento skript by měl obsahovat všechny kontrolní funkce a funkci: prochazeni_kucharky\r\n",
        " \r\n",
        "- Zkuste tento skript napsat nejdříve bez funkcí\r\n",
        "\r\n"
      ]
    },
    {
      "cell_type": "markdown",
      "metadata": {
        "id": "PhAmESg8LQMR"
      },
      "source": [
        "\r\n",
        "\r\n",
        "```\r\n",
        "----------------------------------------\r\n",
        "Vytejte v aplikaci Kucharka.cz. Zadejte zakladni informa a pak ti umoznime prochazet recepty.\r\n",
        "----------------------------------------\r\n",
        "Zadej jmeno: Jakub\r\n",
        "Zadej prijmeni: Valenta\r\n",
        "Zadal jsi spravne!\r\n",
        "----------------------------------------\r\n",
        "Zadej vek: 26\r\n",
        "----------------------------------------\r\n",
        "Jsi dostatecne stary\r\n",
        "----------------------------------------\r\n",
        "Zadej mail: kub@val.cz\r\n",
        "----------------------------------------\r\n",
        "Mail prosel\r\n",
        "Ted můžeš vybírat z našich produktů:\r\n",
        "kure\r\n",
        "hovezi\r\n",
        "portobelo\r\n",
        "\r\n",
        "Zadej druh, ktery chces nakupovat (bez diakritiky (kure, hovezi, portobelo, pro ukonceni zmackni klavesu q)): kure\r\n",
        "----------------------------------------\r\n",
        " kure recept1\r\n",
        "----------------------------------------\r\n",
        " Postup přípravy receptu Kuřecí prsa omyjeme studenou vodou, osušíme papírovou utěrkou, odblaníme a nakrájíme na plátky\r\n",
        " Plátky lehce naklepeme, osolíme, opepříme, potřeme prolisovaným česnekem a obalíme v mouce, smíchané s mletou červenou paprikou\r\n",
        " Na másle zprudka opečeme (já dávám přepuštěné máslo anebo k máslu přidám trochu olivového oleje, aby se nepřepalovalo)\r\n",
        "\r\n",
        "----------------------------------------\r\n",
        "```\r\n",
        "\r\n"
      ]
    },
    {
      "cell_type": "markdown",
      "metadata": {
        "id": "Pf71e5EOMGs4"
      },
      "source": [
        "# Video zadani\r\n",
        "https://www.loom.com/share/dd4ea8e18d8b4c55920f7563cd96e4b6\r\n"
      ]
    },
    {
      "cell_type": "code",
      "metadata": {
        "id": "RTrO1sv12gfS"
      },
      "source": [
        "recepty = {\"kure\": \r\n",
        "           [(\" kure recept1\", \"\"\" Postup přípravy receptu Kuřecí prsa omyjeme studenou vodou, osušíme papírovou utěrkou, odblaníme a nakrájíme na plátky. Plátky lehce naklepeme, osolíme, opepříme, potřeme prolisovaným česnekem a obalíme v mouce, smíchané s mletou červenou paprikou. Na másle zprudka opečeme (já dávám přepuštěné máslo anebo k máslu přidám trochu olivového oleje, aby se nepřepalovalo).\"\"\")],\r\n",
        "\r\n",
        "           \"portobelo\" : [(\" portobelo recept1\",\"\"\" Portobelo oloupeme (ale nemusíme, jak je kdo zvyklý) odstraníme nožku, vnitřek osolíme a pokapeme olejem. Žampióny, (pokud máme čerstvé,) také oloupeme a v kutru drobně posekáme.\"\"\")],        \r\n",
        "           \"hovezi\" : [( \" hovezi recept1\",\r\n",
        "                         \"\"\" Cibule oloupeme a nakrájíme na drobno. Osmažíme na rozpáleném oleji společně s nadrobno nakrájenou slaninku\"\"\")]\r\n",
        "          }"
      ],
      "execution_count": null,
      "outputs": []
    },
    {
      "cell_type": "code",
      "metadata": {
        "id": "GF7PV85liBiV"
      },
      "source": [
        "#hlavni funkce\r\n",
        "def main():\r\n",
        "  pass\r\n",
        "  \r\n",
        "\r\n",
        "\r\n",
        "#kontrola jmena a prijmeni \r\n",
        "def kontrola_pismen(jmeno, prijmeni):\r\n",
        "  pass\r\n",
        "\r\n",
        "\r\n",
        "#kontrola veku:\r\n",
        "def kontrola_veku(vek):\r\n",
        "  pass\r\n",
        "\r\n",
        "def kontrola_mailu(mail):\r\n",
        "  pass\r\n",
        "\r\n",
        "def prochazeni_kucharky():\r\n",
        "  pass\r\n"
      ],
      "execution_count": null,
      "outputs": []
    }
  ]
}