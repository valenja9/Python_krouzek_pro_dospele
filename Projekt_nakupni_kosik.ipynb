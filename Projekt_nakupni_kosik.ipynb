{
  "nbformat": 4,
  "nbformat_minor": 0,
  "metadata": {
    "colab": {
      "name": "Projekt_nakupni_kosik.ipynb",
      "provenance": [],
      "authorship_tag": "ABX9TyMWvOoPL4JUhPPr+/9x8Esi",
      "include_colab_link": true
    },
    "kernelspec": {
      "name": "python3",
      "display_name": "Python 3"
    }
  },
  "cells": [
    {
      "cell_type": "markdown",
      "metadata": {
        "id": "view-in-github",
        "colab_type": "text"
      },
      "source": [
        "<a href=\"https://colab.research.google.com/github/valenja9/Python_krouzek_pro_dospele/blob/main/Projekt_nakupni_kosik.ipynb\" target=\"_parent\"><img src=\"https://colab.research.google.com/assets/colab-badge.svg\" alt=\"Open In Colab\"/></a>"
      ]
    },
    {
      "cell_type": "markdown",
      "metadata": {
        "id": "0s-if25D0Jdh"
      },
      "source": [
        "# Nákupní společnost chleba.cz: \r\n",
        "Máme vlastní konzum, který zákazníkům umožní nakoupit ovoce/zeleninu.Každý uživatel se musí přihlásit pomoci jména, příjmení, věku, který je nastaven na hranici 12 let, korektně zadanného mailu. Následně uživatel si může nakoupit ze zmíněného zboží.\r\n",
        "\r\n",
        "Data jsou zadanná ve slovníku.\r\n",
        "\r\n",
        "Vytvořte:\r\n",
        "- Od uživatele budeme potřebovat zadat následující informace:\r\n",
        "  - Jméno, příjmení, věk, mailová adresa.\r\n",
        "- Jméno a příjmení jsou složeny jen z písmen. (Funkce: kontrola_pismen) \r\n",
        "- Program by měl kontrolovat věkovou hranici 12 let (Funkce: kontrola_veku)\r\n",
        "- Kontorlovat jestli mail obsahuje @ a .(Funkce: kontrola_spravnosti_mailu)\r\n",
        "- Pokud kontrola proběhne ok, tak může zákazník pokračovat na výběr. Jinak program skončí (exit())\r\n",
        "\r\n",
        "Moduly:\r\n",
        "- slovnik recptu je ulozen v skriptu:\"*konzum_produkty.py*\" \r\n",
        "- Hlavní skript pojmenujte \"prodejni_spolecnost.py\"  \r\n",
        "- Vytvorte treti pomocny skript, ktery bude obsahovat zbylé funkce: \"potrebne_funkce.py\"\r\n",
        "- Tento skript by měl obsahovat všechny kontrolní funkce a funkci: zadej_co_chces_koupit\r\n",
        "\r\n",
        "- Zkuste tento skript napsat nejdříve napsat bez funkcí\r\n",
        "- Pro finální výpis vytvořte proměnnou sablona = f\"\"\"{jmeno}....\"\"\", kde bude naformátovaný celý text(Funkce: rozlouceni).\r\n",
        "- Takto bude vypadat výstup:\r\n",
        "\r\n"
      ]
    },
    {
      "cell_type": "markdown",
      "metadata": {
        "id": "b_WQdpEdygpX"
      },
      "source": [
        "```\r\n",
        "----------------------------------------\r\n",
        "Vytejte v aplikaci Chleba.cz. Zadejte zakladni informa a pak ti umoznime naupavat.\r\n",
        "----------------------------------------\r\n",
        "Zadej jmeno: Jakub\r\n",
        "Zadej prijmeni: Valenta\r\n",
        "Zadal jsi spravne!\r\n",
        "----------------------------------------\r\n",
        "Zadej vek: 26\r\n",
        "----------------------------------------\r\n",
        "Jsi dostatecne stary\r\n",
        "----------------------------------------\r\n",
        "Zadej mail: kuba@gmil.cz\r\n",
        "----------------------------------------\r\n",
        "Mail prosel\r\n",
        "Ted můžeš vybírat z našcich produktů\r\n",
        "ovoce\r\n",
        "zelenina\r\n",
        "\r\n",
        "Zadej druh, ktery chces nakupovat (bez diakritiky (ovoce, zelenina, pro ukonceni nakupu zmackni q)): ovoce\r\n",
        "Tyto produkty můžeš vybírat:  ['broskev', 'mandarinka']\r\n",
        "Co tedy chceš koupit?broskev\r\n",
        "Zadej druh, ktery chces nakupovat (bez diakritiky (ovoce, zelenina, pro ukonceni nakupu zmackni q)): mandarinka\r\n",
        "Tento produkt tu není. Vybírej dál\r\n",
        "Zadej druh, ktery chces nakupovat (bez diakritiky (ovoce, zelenina, pro ukonceni nakupu zmackni q)): ovoce\r\n",
        "Tyto produkty můžeš vybírat:  ['broskev', 'mandarinka']\r\n",
        "Co tedy chceš koupit?mandarinka\r\n",
        "Zadej druh, ktery chces nakupovat (bez diakritiky (ovoce, zelenina, pro ukonceni nakupu zmackni q)): q\r\n",
        "Chci koncit\r\n",
        "----------------------------------------\r\n",
        "V ochodu byl Jakub, Valenta, nakoupil jsi  ['broskev', 'mandarinka']. Nakoupil v celkove hodnote 27 kc\r\n",
        "```\r\n",
        "\r\n"
      ]
    },
    {
      "cell_type": "markdown",
      "metadata": {
        "id": "KEQ3tfwo1Ba5"
      },
      "source": [
        "# Video zadání\r\n",
        "https://www.loom.com/share/efa14e1ed68b48ab920eb3a8e36c3a50"
      ]
    },
    {
      "cell_type": "markdown",
      "metadata": {
        "id": "MA2CtHb-1URR"
      },
      "source": [
        "# Data "
      ]
    },
    {
      "cell_type": "markdown",
      "metadata": {
        "id": "vAcJZn6p1Eek"
      },
      "source": [
        ""
      ]
    },
    {
      "cell_type": "code",
      "metadata": {
        "id": "G2H0l8WRja-I"
      },
      "source": [
        "muj_konzum = {\"ovoce\":{\"broskev\": 12, \r\n",
        "                       \"mandarinka\": 15}, \r\n",
        "             \"zelenina\":{\"kedlubna\": 10,\r\n",
        "                         \"cibule\" : 6 \r\n",
        "                        }\r\n",
        "             }"
      ],
      "execution_count": null,
      "outputs": []
    },
    {
      "cell_type": "code",
      "metadata": {
        "id": "KQlX5dQBsCyC"
      },
      "source": [
        "#hlavni funkce\r\n",
        "def main():\r\n",
        "  pass\r\n",
        "  \r\n",
        "\r\n",
        "\r\n",
        "#kontrola jmena a prijmeni \r\n",
        "def kontrola_pismen(jmeno, prijmeni):\r\n",
        "  pass\r\n",
        "\r\n",
        "\r\n",
        "#kontrola veku:\r\n",
        "def kontrola_veku(vek):\r\n",
        "  pass\r\n",
        "\r\n",
        "def kontrola_mailu(mail):\r\n",
        "  pass\r\n",
        "\r\n",
        "def zadej_co_chces_koupit():\r\n",
        "  pass\r\n",
        "\r\n",
        "\r\n",
        "def rozlouceni(jmeno, prijmeni, prostredek, lokace, cena):\r\n",
        "  pass"
      ],
      "execution_count": null,
      "outputs": []
    },
    {
      "cell_type": "code",
      "metadata": {
        "colab": {
          "base_uri": "https://localhost:8080/"
        },
        "id": "YIY_CEUSkBCz",
        "outputId": "d2f8ec21-def5-4dce-a87a-4c6178547bfb"
      },
      "source": [
        "#jednoducha veze bez funkci.\r\n",
        "oddelovac = \"-\" * 40\r\n",
        "print(oddelovac)\r\n",
        "print(\"Vytejte v aplikaci Chleba.cz. Zadejte zakladni informa a pak ti umoznime naupavat.\")\r\n",
        "print(oddelovac)\r\n",
        "\r\n",
        "#prvni zadani\r\n",
        "jmeno = input('Zadej jmeno: ')\r\n",
        "prijmeni = input(\"Zadej prijmeni: \")\r\n",
        "\r\n",
        "#kontrola jmena a prijmeni \r\n",
        "if jmeno.isalpha() and prijmeni.isalpha():\r\n",
        "    print('Zadal jsi spravne!')\r\n",
        "else:\r\n",
        "  exit()\r\n",
        "print(oddelovac)\r\n",
        "vek = int(input(\"Zadej vek: \"))\r\n",
        "print(oddelovac)\r\n",
        "\r\n",
        "#kontrola veku:\r\n",
        "if vek > 12:\r\n",
        "  print(\"Jsi dostatecne stary\")\r\n",
        "else:\r\n",
        "  exit()\r\n",
        "\r\n",
        "print(oddelovac)\r\n",
        "mail = input(\"Zadej mail: \")\r\n",
        "print(oddelovac)\r\n",
        "\r\n",
        "if \"@\" in mail and \".\" in mail:\r\n",
        "  print(\"Mail prosel\")\r\n",
        "else:\r\n",
        "  exit()\r\n",
        "\r\n",
        "print(\"\"\"Ted můžeš vybírat z našcich produktů\r\n",
        "ovoce\r\n",
        "zelenina\r\n",
        "\"\"\"\r\n",
        ")\r\n",
        "\r\n",
        "list_produktu = []\r\n",
        "list_cen = []\r\n",
        "while True:\r\n",
        "  produkt = input(\"Zadej druh, ktery chces nakupovat (bez diakritiky (ovoce, zelenina, pro ukonceni nakupu zmackni q)): \").lower()\r\n",
        "  if produkt == \"q\":\r\n",
        "    print(\"Chci koncit\")\r\n",
        "    break\r\n",
        "  volba = muj_konzum.get(produkt, \"Neni\")\r\n",
        "  if volba == \"Neni\":\r\n",
        "    print(\"Tento produkt tu není. Vybírej dál\")\r\n",
        "    continue\r\n",
        "  else:\r\n",
        "    print(\"Tyto produkty můžeš vybírat: \", list(volba.keys()))\r\n",
        "    zbozi = input(\"Co tedy chceš koupit?\")\r\n",
        "    list_produktu.append(zbozi)\r\n",
        "    cena = volba.get(zbozi, 0)\r\n",
        "    if cena == 0:\r\n",
        "      print(\"Toto zbozi tu není.\")\r\n",
        "    else:\r\n",
        "      list_cen.append(cena)\r\n",
        "print(oddelovac)\r\n",
        "\r\n",
        "#Vypis vysledek\r\n",
        "sablona = f\"\"\"V ochodu byl {jmeno}, {prijmeni}, nakoupil jsi  {list_produktu}. Nakoupil v celkove hodnote {sum(list_cen)} kc\"\"\"\r\n",
        "print(sablona)"
      ],
      "execution_count": null,
      "outputs": [
        {
          "output_type": "stream",
          "text": [
            "----------------------------------------\n",
            "Vytejte v aplikaci Chleba.cz. Zadejte zakladni informa a pak ti umoznime naupavat.\n",
            "----------------------------------------\n",
            "Zadej jmeno: Jakub\n",
            "Zadej prijmeni: Valenta\n",
            "Zadal jsi spravne!\n",
            "----------------------------------------\n",
            "Zadej vek: 26\n",
            "----------------------------------------\n",
            "Jsi dostatecne stary\n",
            "----------------------------------------\n",
            "Zadej mail: kuba@gmil.cz\n",
            "----------------------------------------\n",
            "Mail prosel\n",
            "Ted můžeš vybírat z našcich produktů\n",
            "ovoce\n",
            "zelenina\n",
            "\n",
            "Zadej druh, ktery chces nakupovat (bez diakritiky (ovoce, zelenina, pro ukonceni nakupu zmackni q)): ovoce\n",
            "Tyto produkty můžeš vybírat:  ['broskev', 'mandarinka']\n",
            "Co tedy chceš koupit?broskev\n",
            "Zadej druh, ktery chces nakupovat (bez diakritiky (ovoce, zelenina, pro ukonceni nakupu zmackni q)): mandarinka\n",
            "Tento produkt tu není. Vybírej dál\n",
            "Zadej druh, ktery chces nakupovat (bez diakritiky (ovoce, zelenina, pro ukonceni nakupu zmackni q)): ovoce\n",
            "Tyto produkty můžeš vybírat:  ['broskev', 'mandarinka']\n",
            "Co tedy chceš koupit?mandarinka\n",
            "Zadej druh, ktery chces nakupovat (bez diakritiky (ovoce, zelenina, pro ukonceni nakupu zmackni q)): q\n",
            "Chci koncit\n",
            "----------------------------------------\n",
            "V ochodu byl Jakub, Valenta, nakoupil jsi  ['broskev', 'mandarinka']. Nakoupil v celkove hodnote 27 kc\n"
          ],
          "name": "stdout"
        }
      ]
    },
    {
      "cell_type": "markdown",
      "metadata": {
        "id": "pgOXATtKzvIf"
      },
      "source": [
        "# Vytvořeno pomocí funkcí"
      ]
    },
    {
      "cell_type": "code",
      "metadata": {
        "id": "93HT26TjpNbg",
        "colab": {
          "base_uri": "https://localhost:8080/"
        },
        "outputId": "0927888b-c875-407a-c00b-626f5d1b9aa9"
      },
      "source": [
        "def main():\r\n",
        "  oddelovac = \"-\" * 40\r\n",
        "  print(oddelovac)\r\n",
        "  print(\"Vytejte v nasi dopravni spolecnosti. Zadejte zakladni informace a vyberte kam chcete jet.\")\r\n",
        "  print(oddelovac)\r\n",
        "  \r\n",
        "  #kontorla jmen\r\n",
        "  jmeno = input('Zadej jmeno: ')\r\n",
        "  prijmeni = input(\"Zadej prijmeni: \")\r\n",
        "  kontrola_pismen(jmeno, prijmeni)\r\n",
        "  print(oddelovac)\r\n",
        "  \r\n",
        "  #kontrola veku\r\n",
        "  vek = int(input(\"Zadej vek: \"))\r\n",
        "  kontrola_veku(vek)\r\n",
        "  print(oddelovac)\r\n",
        "\r\n",
        "  #Kontorla mailu\r\n",
        "  mail = input(\"Zadej mail: \")\r\n",
        "  kontrola_mailu(mail)\r\n",
        "  print(oddelovac)\r\n",
        "  #nabidka\r\n",
        "  print(\"\"\"Ted můžeš vybírat z našcich produktů\r\n",
        "  ovoce\r\n",
        "  zelenina\r\n",
        "  \"\"\"\r\n",
        "  )\r\n",
        "  #vyber z funkce\r\n",
        "  ceny, produkty = zadej_co_chces_koupit()\r\n",
        "  #rozlouceni\r\n",
        "  rozlouceni(jmeno, prijmeni, produkty, ceny)\r\n",
        "\r\n",
        "  \r\n",
        "\r\n",
        "\r\n",
        "#kontrola jmena a prijmeni \r\n",
        "def kontrola_pismen(jmeno, prijmeni):\r\n",
        "  if jmeno.isalpha() and prijmeni.isalpha():\r\n",
        "      print('Zadal jsi spravne!')\r\n",
        "  else:\r\n",
        "    exit()\r\n",
        "\r\n",
        "\r\n",
        "#kontrola veku:\r\n",
        "def kontrola_veku(vek):\r\n",
        "  if vek > 12:\r\n",
        "    print(\"Jsi dostatecne stary\")\r\n",
        "  else:\r\n",
        "    exit()\r\n",
        "\r\n",
        "\r\n",
        "def kontrola_mailu(mail):\r\n",
        "  if \"@\" in mail and \".\" in mail:\r\n",
        "    print(\"Mail prosel\")\r\n",
        "  else:\r\n",
        "    exit()\r\n",
        "\r\n",
        "def zadej_co_chces_koupit():\r\n",
        "  list_produktu = []\r\n",
        "  list_cen = []\r\n",
        "\r\n",
        "  while True:\r\n",
        "    produkt = input(\"Zadej druh, ktery chces nakupovat (bez diakritiky (ovoce, zelenina, pro ukonceni nakupu zmackni q)): \").lower()\r\n",
        "    if produkt == \"q\":\r\n",
        "      print(\"Chci koncit\")\r\n",
        "      break\r\n",
        "    volba = muj_konzum.get(produkt, \"Neni\")\r\n",
        "    if volba == \"Neni\":\r\n",
        "      print(\"Tento produkt tu není. Vybírej dál\")\r\n",
        "      continue\r\n",
        "    else:\r\n",
        "      print(\"Tyto produkty můžeš vybírat: \", list(volba.keys()))\r\n",
        "      zbozi = input(\"Co tedy chceš koupit?\")\r\n",
        "      list_produktu.append(zbozi)\r\n",
        "      cena = volba.get(zbozi, 0)\r\n",
        "      if cena == 0:\r\n",
        "        print(\"Toto zbozi tu není.\")\r\n",
        "      else:\r\n",
        "        list_cen.append(cena)\r\n",
        "  return list_cen, list_produktu\r\n",
        " \r\n",
        "\r\n",
        "def rozlouceni(jmeno, prijmeni, list_produktu, list_cen):\r\n",
        "  #Vypis vysledek\r\n",
        "  sablona = f\"\"\"V ochodu byl {jmeno}, {prijmeni}, nakoupil si  {list_produktu}. Nakoupil v celkove hodnote {sum(list_cen)} kc\"\"\"\r\n",
        "  print(sablona)\r\n",
        "\r\n",
        "if __name__ == \"__main__\":\r\n",
        "  main()"
      ],
      "execution_count": null,
      "outputs": [
        {
          "output_type": "stream",
          "text": [
            "----------------------------------------\n",
            "Vytejte v nasi dopravni spolecnosti. Zadejte zakladni informace a vyberte kam chcete jet.\n",
            "----------------------------------------\n",
            "Zadej jmeno: jakub\n",
            "Zadej prijmeni: valenta\n",
            "Zadal jsi spravne!\n",
            "----------------------------------------\n",
            "Zadej vek: 26\n",
            "Jsi dostatecne stary\n",
            "----------------------------------------\n",
            "Zadej mail: @.\n",
            "Mail prosel\n",
            "----------------------------------------\n",
            "Ted můžeš vybírat z našcich produktů\n",
            "  ovoce\n",
            "  zelenina\n",
            "  \n",
            "Zadej druh, ktery chces nakupovat (bez diakritiky (ovoce, zelenina, pro ukonceni nakupu zmackni q)): ovece\n",
            "Tento produkt tu není. Vybírej dál\n",
            "Zadej druh, ktery chces nakupovat (bez diakritiky (ovoce, zelenina, pro ukonceni nakupu zmackni q)): ovoce\n",
            "Tyto produkty můžeš vybírat:  ['broskev', 'mandarinka']\n",
            "Co tedy chceš koupit?broskev\n",
            "Zadej druh, ktery chces nakupovat (bez diakritiky (ovoce, zelenina, pro ukonceni nakupu zmackni q)): q\n",
            "Chci koncit\n",
            "V ochodu byl jakub, valenta, nakoupil si  ['broskev']. Nakoupil v celkove hodnote 12 kc\n"
          ],
          "name": "stdout"
        }
      ]
    },
    {
      "cell_type": "markdown",
      "metadata": {
        "id": "MAc5IlZKqZqe"
      },
      "source": [
        "# Vytvořeno několik modulů"
      ]
    },
    {
      "cell_type": "code",
      "metadata": {
        "id": "IK22zM53qamC"
      },
      "source": [
        "#konzum_produkty.py\r\n",
        "muj_konzum = {\"ovoce\":{\"broskev\": 12, \r\n",
        "                       \"mandarinka\": 15}, \r\n",
        "             \"zelenina\":{\"kedlubna\": 10,\r\n",
        "                         \"cibule\" : 6 \r\n",
        "                        }\r\n",
        "             }"
      ],
      "execution_count": null,
      "outputs": []
    },
    {
      "cell_type": "code",
      "metadata": {
        "colab": {
          "base_uri": "https://localhost:8080/"
        },
        "id": "4B6Omc8iqsIF",
        "outputId": "78c5c66e-9464-4eee-988c-65b2c5909910"
      },
      "source": [
        "#potrebne_funkce.py\r\n",
        "#kontrola jmena a prijmeni \r\n",
        "def kontrola_pismen(jmeno, prijmeni):\r\n",
        "  if jmeno.isalpha() and prijmeni.isalpha():\r\n",
        "      print('Zadal jsi spravne!')\r\n",
        "  else:\r\n",
        "    exit()\r\n",
        "\r\n",
        "\r\n",
        "#kontrola veku:\r\n",
        "def kontrola_veku(vek):\r\n",
        "  if vek > 12:\r\n",
        "    print(\"Jsi dostatecne stary\")\r\n",
        "  else:\r\n",
        "    exit()\r\n",
        "\r\n",
        "\r\n",
        "def kontrola_mailu(mail):\r\n",
        "  if \"@\" in mail and \".\" in mail:\r\n",
        "    print(\"Mail prosel\")\r\n",
        "  else:\r\n",
        "    exit()\r\n",
        "\r\n",
        "def zadej_co_chces_koupit():\r\n",
        "  list_produktu = []\r\n",
        "  list_cen = []\r\n",
        "  while True:\r\n",
        "    produkt = input(\"Zadej druh, ktery chces nakupovat (bez diakritiky (ovoce, zelenina, pro ukonceni nakupu zmackni q)): \").lower()\r\n",
        "    if produkt == \"q\":\r\n",
        "      print(\"Chci koncit\")\r\n",
        "      break\r\n",
        "    volba = muj_konzum.get(produkt, \"Neni\")\r\n",
        "    if volba == \"Neni\":\r\n",
        "      print(\"Tento produkt tu není. Vybírej dál\")\r\n",
        "      continue\r\n",
        "    else:\r\n",
        "      print(\"Tyto produkty můžeš vybírat: \", list(volba.keys()))\r\n",
        "      zbozi = input(\"Co tedy chceš koupit?\")\r\n",
        "      list_produktu.append(zbozi)\r\n",
        "      cena = volba.get(zbozi, 0)\r\n",
        "      if cena == 0:\r\n",
        "        print(\"Toto zbozi tu není.\")\r\n",
        "      else:\r\n",
        "        list_cen.append(cena)\r\n",
        "  return list_cen, list_produktu\r\n",
        "print(oddelovac) \r\n",
        "\r\n",
        "def rozlouceni(jmeno, prijmeni, prostredek, lokace, cena):\r\n",
        "  #Vypis vysledek\r\n",
        "  sablona = f\"\"\"V ochodu byl {jmeno}, {prijmeni}, nakoupil si  {list_produktu}. Nakoupil v celkove hodnote {sum(list_cen)} kc\"\"\"\r\n",
        "  print(sablona)\r\n",
        "\r\n"
      ],
      "execution_count": null,
      "outputs": [
        {
          "output_type": "stream",
          "text": [
            "----------------------------------------\n"
          ],
          "name": "stdout"
        }
      ]
    },
    {
      "cell_type": "code",
      "metadata": {
        "colab": {
          "base_uri": "https://localhost:8080/",
          "height": 374
        },
        "id": "J5hc_wa4qHwI",
        "outputId": "f4c3a2a0-aad0-4eee-c97c-c48bf82a17d1"
      },
      "source": [
        "#prodejni_spolecnost.py\r\n",
        "from potrebne_funkce import *\r\n",
        "from konzum_produkty import muj_konzum\r\n",
        "\r\n",
        "def main():\r\n",
        "  oddelovac = \"-\" * 40\r\n",
        "  print(oddelovac)\r\n",
        "  print(\"Vytejte v nasi dopravni spolecnosti. Zadejte zakladni informace a vyberte kam chcete jet.\")\r\n",
        "  print(oddelovac)\r\n",
        "  \r\n",
        "  #kontorla jmen\r\n",
        "  jmeno = input('Zadej jmeno: ')\r\n",
        "  prijmeni = input(\"Zadej prijmeni: \")\r\n",
        "  kontrola_pismen(jmeno, prijmeni)\r\n",
        "  print(oddelovac)\r\n",
        "  \r\n",
        "  #kontrola veku\r\n",
        "  vek = int(input(\"Zadej vek: \"))\r\n",
        "  kontrola_veku(vek)\r\n",
        "  print(oddelovac)\r\n",
        "\r\n",
        "  #Kontorla mailu\r\n",
        "  mail = input(\"Zadej mail: \")\r\n",
        "  kontrola_mailu(mail)\r\n",
        "  print(oddelovac)\r\n",
        "  #nabidka\r\n",
        "  print(\"\"\"Ted můžeš vybírat z našcich produktů\r\n",
        "  ovoce\r\n",
        "  zelenina\r\n",
        "  \"\"\"\r\n",
        "  )\r\n",
        "  #vyber z funkce\r\n",
        "  ceny, produkty = zadej_kam_chces_jet()\r\n",
        "  #rozlouceni\r\n",
        "  rozlouceni(jmeno, prijmeni, produkty, ceny)\r\n"
      ],
      "execution_count": null,
      "outputs": [
        {
          "output_type": "error",
          "ename": "ModuleNotFoundError",
          "evalue": "ignored",
          "traceback": [
            "\u001b[0;31m---------------------------------------------------------------------------\u001b[0m",
            "\u001b[0;31mModuleNotFoundError\u001b[0m                       Traceback (most recent call last)",
            "\u001b[0;32m<ipython-input-12-2d04fbb27a47>\u001b[0m in \u001b[0;36m<module>\u001b[0;34m()\u001b[0m\n\u001b[1;32m      1\u001b[0m \u001b[0;31m#dopravni_spolecnost.py\u001b[0m\u001b[0;34m\u001b[0m\u001b[0;34m\u001b[0m\u001b[0;34m\u001b[0m\u001b[0m\n\u001b[0;32m----> 2\u001b[0;31m \u001b[0;32mfrom\u001b[0m \u001b[0mpotrebne_funkce\u001b[0m \u001b[0;32mimport\u001b[0m \u001b[0;34m*\u001b[0m\u001b[0;34m\u001b[0m\u001b[0;34m\u001b[0m\u001b[0m\n\u001b[0m\u001b[1;32m      3\u001b[0m \u001b[0;32mfrom\u001b[0m \u001b[0mkonzum_produkty\u001b[0m \u001b[0;32mimport\u001b[0m \u001b[0mmuj_konzum\u001b[0m\u001b[0;34m\u001b[0m\u001b[0;34m\u001b[0m\u001b[0m\n\u001b[1;32m      4\u001b[0m \u001b[0;34m\u001b[0m\u001b[0m\n\u001b[1;32m      5\u001b[0m \u001b[0;32mdef\u001b[0m \u001b[0mmain\u001b[0m\u001b[0;34m(\u001b[0m\u001b[0;34m)\u001b[0m\u001b[0;34m:\u001b[0m\u001b[0;34m\u001b[0m\u001b[0;34m\u001b[0m\u001b[0m\n",
            "\u001b[0;31mModuleNotFoundError\u001b[0m: No module named 'potrebne_funkce'",
            "",
            "\u001b[0;31m---------------------------------------------------------------------------\u001b[0;32m\nNOTE: If your import is failing due to a missing package, you can\nmanually install dependencies using either !pip or !apt.\n\nTo view examples of installing some common dependencies, click the\n\"Open Examples\" button below.\n\u001b[0;31m---------------------------------------------------------------------------\u001b[0m\n"
          ]
        }
      ]
    }
  ]
}