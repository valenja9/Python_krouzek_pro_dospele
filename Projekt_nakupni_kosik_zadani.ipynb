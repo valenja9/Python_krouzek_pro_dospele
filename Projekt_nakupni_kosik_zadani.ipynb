{
  "nbformat": 4,
  "nbformat_minor": 0,
  "metadata": {
    "colab": {
      "name": "Projekt_nakupni_kosik_zadani.ipynb",
      "provenance": [],
      "authorship_tag": "ABX9TyMw1qNySx9hqT7kwdRbg9yP",
      "include_colab_link": true
    },
    "kernelspec": {
      "name": "python3",
      "display_name": "Python 3"
    }
  },
  "cells": [
    {
      "cell_type": "markdown",
      "metadata": {
        "id": "view-in-github",
        "colab_type": "text"
      },
      "source": [
        "<a href=\"https://colab.research.google.com/github/valenja9/Python_krouzek_pro_dospele/blob/main/Projekt_nakupni_kosik_zadani.ipynb\" target=\"_parent\"><img src=\"https://colab.research.google.com/assets/colab-badge.svg\" alt=\"Open In Colab\"/></a>"
      ]
    },
    {
      "cell_type": "markdown",
      "metadata": {
        "id": "0s-if25D0Jdh"
      },
      "source": [
        "# Nákupní společnost chleba.cz: \r\n",
        "Máme vlastní konzum, který zákazníkům umožní nakoupit ovoce/zeleninu.Každý uživatel se musí přihlásit pomoci jména, příjmení, věku, který je nastaven na hranici 12 let, korektně zadanného mailu. Následně uživatel si může nakoupit ze zmíněného zboží.\r\n",
        "\r\n",
        "Data jsou zadanná ve slovníku.\r\n",
        "\r\n",
        "Vytvořte:\r\n",
        "- Od uživatele budeme potřebovat zadat následující informace:\r\n",
        "  - Jméno, příjmení, věk, mailová adresa.\r\n",
        "- Jméno a příjmení jsou složeny jen z písmen. (Funkce: kontrola_pismen) \r\n",
        "- Program by měl kontrolovat věkovou hranici 12 let (Funkce: kontrola_veku)\r\n",
        "- Kontorlovat jestli mail obsahuje @ a .(Funkce: kontrola_spravnosti_mailu)\r\n",
        "- Pokud kontrola proběhne ok, tak může zákazník pokračovat na výběr. Jinak program skončí (exit())\r\n",
        "\r\n",
        "Moduly:\r\n",
        "- slovnik recptu je ulozen v skriptu:\"*konzum_produkty.py*\" \r\n",
        "- Hlavní skript pojmenujte \"prodejni_spolecnost.py\"  \r\n",
        "- Vytvorte treti pomocny skript, ktery bude obsahovat zbylé funkce: \"potrebne_funkce.py\"\r\n",
        "- Tento skript by měl obsahovat všechny kontrolní funkce a funkci: zadej_co_chces_koupit\r\n",
        "\r\n",
        "- Zkuste tento skript napsat nejdříve napsat bez funkcí\r\n",
        "- Pro finální výpis vytvořte proměnnou sablona = f\"\"\"{jmeno}....\"\"\", kde bude naformátovaný celý text(Funkce: rozlouceni).\r\n",
        "- Takto bude vypadat výstup:\r\n",
        "\r\n"
      ]
    },
    {
      "cell_type": "markdown",
      "metadata": {
        "id": "b_WQdpEdygpX"
      },
      "source": [
        "```\r\n",
        "----------------------------------------\r\n",
        "Vytejte v aplikaci Chleba.cz. Zadejte zakladni informa a pak ti umoznime naupavat.\r\n",
        "----------------------------------------\r\n",
        "Zadej jmeno: Jakub\r\n",
        "Zadej prijmeni: Valenta\r\n",
        "Zadal jsi spravne!\r\n",
        "----------------------------------------\r\n",
        "Zadej vek: 26\r\n",
        "----------------------------------------\r\n",
        "Jsi dostatecne stary\r\n",
        "----------------------------------------\r\n",
        "Zadej mail: kuba@gmil.cz\r\n",
        "----------------------------------------\r\n",
        "Mail prosel\r\n",
        "Ted můžeš vybírat z našcich produktů\r\n",
        "ovoce\r\n",
        "zelenina\r\n",
        "\r\n",
        "Zadej druh, ktery chces nakupovat (bez diakritiky (ovoce, zelenina, pro ukonceni nakupu zmackni q)): ovoce\r\n",
        "Tyto produkty můžeš vybírat:  ['broskev', 'mandarinka']\r\n",
        "Co tedy chceš koupit?broskev\r\n",
        "Zadej druh, ktery chces nakupovat (bez diakritiky (ovoce, zelenina, pro ukonceni nakupu zmackni q)): mandarinka\r\n",
        "Tento produkt tu není. Vybírej dál\r\n",
        "Zadej druh, ktery chces nakupovat (bez diakritiky (ovoce, zelenina, pro ukonceni nakupu zmackni q)): ovoce\r\n",
        "Tyto produkty můžeš vybírat:  ['broskev', 'mandarinka']\r\n",
        "Co tedy chceš koupit?mandarinka\r\n",
        "Zadej druh, ktery chces nakupovat (bez diakritiky (ovoce, zelenina, pro ukonceni nakupu zmackni q)): q\r\n",
        "Chci koncit\r\n",
        "----------------------------------------\r\n",
        "V ochodu byl Jakub, Valenta, nakoupil jsi  ['broskev', 'mandarinka']. Nakoupil v celkove hodnote 27 kc\r\n",
        "```\r\n",
        "\r\n"
      ]
    },
    {
      "cell_type": "markdown",
      "metadata": {
        "id": "KEQ3tfwo1Ba5"
      },
      "source": [
        "# Video zadání\r\n",
        "https://www.loom.com/share/efa14e1ed68b48ab920eb3a8e36c3a50"
      ]
    },
    {
      "cell_type": "markdown",
      "metadata": {
        "id": "MA2CtHb-1URR"
      },
      "source": [
        "# Data "
      ]
    },
    {
      "cell_type": "code",
      "metadata": {
        "id": "G2H0l8WRja-I"
      },
      "source": [
        "muj_konzum = {\"ovoce\":{\"broskev\": 12, \r\n",
        "                       \"mandarinka\": 15}, \r\n",
        "             \"zelenina\":{\"kedlubna\": 10,\r\n",
        "                         \"cibule\" : 6 \r\n",
        "                        }\r\n",
        "             }"
      ],
      "execution_count": null,
      "outputs": []
    },
    {
      "cell_type": "code",
      "metadata": {
        "id": "KQlX5dQBsCyC"
      },
      "source": [
        "#hlavni funkce\r\n",
        "def main():\r\n",
        "  pass\r\n",
        "  \r\n",
        "\r\n",
        "\r\n",
        "#kontrola jmena a prijmeni \r\n",
        "def kontrola_pismen(jmeno, prijmeni):\r\n",
        "  pass\r\n",
        "\r\n",
        "\r\n",
        "#kontrola veku:\r\n",
        "def kontrola_veku(vek):\r\n",
        "  pass\r\n",
        "\r\n",
        "def kontrola_mailu(mail):\r\n",
        "  pass\r\n",
        "\r\n",
        "def zadej_co_chces_koupit():\r\n",
        "  pass\r\n",
        "\r\n",
        "\r\n",
        "def rozlouceni(jmeno, prijmeni, prostredek, lokace, cena):\r\n",
        "  pass"
      ],
      "execution_count": null,
      "outputs": []
    }
  ]
}