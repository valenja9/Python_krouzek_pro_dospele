{
  "nbformat": 4,
  "nbformat_minor": 0,
  "metadata": {
    "colab": {
      "name": "Python_dospelaci_III",
      "provenance": [],
      "authorship_tag": "ABX9TyPVXonrhvxTSXzK7x9FqEkU",
      "include_colab_link": true
    },
    "kernelspec": {
      "name": "python3",
      "display_name": "Python 3"
    }
  },
  "cells": [
    {
      "cell_type": "markdown",
      "metadata": {
        "id": "view-in-github",
        "colab_type": "text"
      },
      "source": [
        "<a href=\"https://colab.research.google.com/github/valenja9/Python_krouzek_pro_dospele/blob/main/Python_dospelaci_III.ipynb\" target=\"_parent\"><img src=\"https://colab.research.google.com/assets/colab-badge.svg\" alt=\"Open In Colab\"/></a>"
      ]
    },
    {
      "cell_type": "markdown",
      "metadata": {
        "id": "lHph2yLw6pcK"
      },
      "source": [
        "# Lekce3"
      ]
    },
    {
      "cell_type": "markdown",
      "metadata": {
        "id": "ozyriJS76pX1"
      },
      "source": [
        "# Tuple"
      ]
    },
    {
      "cell_type": "code",
      "metadata": {
        "id": "b4GJuqJBCw43"
      },
      "source": [
        "tohle_je_tuple = (\"Jmeno\", \"Prijmeni\", 89, [\"list\"])"
      ],
      "execution_count": null,
      "outputs": []
    },
    {
      "cell_type": "code",
      "metadata": {
        "id": "YdWfHoKeDEfB",
        "colab": {
          "base_uri": "https://localhost:8080/"
        },
        "outputId": "5d55879d-854c-45c5-f48d-bfbb3b95832e"
      },
      "source": [
        "type(tohle_je_tuple)"
      ],
      "execution_count": null,
      "outputs": [
        {
          "output_type": "execute_result",
          "data": {
            "text/plain": [
              "tuple"
            ]
          },
          "metadata": {
            "tags": []
          },
          "execution_count": 2
        }
      ]
    },
    {
      "cell_type": "code",
      "metadata": {
        "id": "yhBSy-IbDNMO",
        "colab": {
          "base_uri": "https://localhost:8080/"
        },
        "outputId": "3a01a93d-29fe-4d22-82da-86b8f526e5f5"
      },
      "source": [
        "dir(tohle_je_tuple)"
      ],
      "execution_count": null,
      "outputs": [
        {
          "output_type": "execute_result",
          "data": {
            "text/plain": [
              "['__add__',\n",
              " '__class__',\n",
              " '__contains__',\n",
              " '__delattr__',\n",
              " '__dir__',\n",
              " '__doc__',\n",
              " '__eq__',\n",
              " '__format__',\n",
              " '__ge__',\n",
              " '__getattribute__',\n",
              " '__getitem__',\n",
              " '__getnewargs__',\n",
              " '__gt__',\n",
              " '__hash__',\n",
              " '__init__',\n",
              " '__init_subclass__',\n",
              " '__iter__',\n",
              " '__le__',\n",
              " '__len__',\n",
              " '__lt__',\n",
              " '__mul__',\n",
              " '__ne__',\n",
              " '__new__',\n",
              " '__reduce__',\n",
              " '__reduce_ex__',\n",
              " '__repr__',\n",
              " '__rmul__',\n",
              " '__setattr__',\n",
              " '__sizeof__',\n",
              " '__str__',\n",
              " '__subclasshook__',\n",
              " 'count',\n",
              " 'index']"
            ]
          },
          "metadata": {
            "tags": []
          },
          "execution_count": 3
        }
      ]
    },
    {
      "cell_type": "code",
      "metadata": {
        "id": "Y9AJU_32DgPV",
        "colab": {
          "base_uri": "https://localhost:8080/",
          "height": 164
        },
        "outputId": "2b7a3e06-1225-475c-f4e7-e99d5cc35db2"
      },
      "source": [
        "tohle_je_tuple[0] = 0"
      ],
      "execution_count": null,
      "outputs": [
        {
          "output_type": "error",
          "ename": "TypeError",
          "evalue": "ignored",
          "traceback": [
            "\u001b[0;31m---------------------------------------------------------------------------\u001b[0m",
            "\u001b[0;31mTypeError\u001b[0m                                 Traceback (most recent call last)",
            "\u001b[0;32m<ipython-input-4-72fdefd86e5b>\u001b[0m in \u001b[0;36m<module>\u001b[0;34m()\u001b[0m\n\u001b[0;32m----> 1\u001b[0;31m \u001b[0mtohle_je_tuple\u001b[0m\u001b[0;34m[\u001b[0m\u001b[0;36m0\u001b[0m\u001b[0;34m]\u001b[0m \u001b[0;34m=\u001b[0m \u001b[0;36m0\u001b[0m\u001b[0;34m\u001b[0m\u001b[0;34m\u001b[0m\u001b[0m\n\u001b[0m",
            "\u001b[0;31mTypeError\u001b[0m: 'tuple' object does not support item assignment"
          ]
        }
      ]
    },
    {
      "cell_type": "code",
      "metadata": {
        "id": "KCu7CHlyD1iR",
        "colab": {
          "base_uri": "https://localhost:8080/",
          "height": 35
        },
        "outputId": "89e02c07-d9bb-4f07-c24b-a7dd84728c1d"
      },
      "source": [
        "tohle_je_tuple[0]"
      ],
      "execution_count": null,
      "outputs": [
        {
          "output_type": "execute_result",
          "data": {
            "application/vnd.google.colaboratory.intrinsic+json": {
              "type": "string"
            },
            "text/plain": [
              "'Jmeno'"
            ]
          },
          "metadata": {
            "tags": []
          },
          "execution_count": 5
        }
      ]
    },
    {
      "cell_type": "markdown",
      "metadata": {
        "id": "IO2CTmP-D_TP"
      },
      "source": [
        "# Tuple vs list"
      ]
    },
    {
      "cell_type": "code",
      "metadata": {
        "id": "sgvb5pIrEVPY"
      },
      "source": [
        "list_na_tuple = tuple([\"Tohle je list\",\"Tohle je druhy prvek\"])"
      ],
      "execution_count": null,
      "outputs": []
    },
    {
      "cell_type": "code",
      "metadata": {
        "id": "Lyk6qWd4E8Xf",
        "colab": {
          "base_uri": "https://localhost:8080/"
        },
        "outputId": "08362778-49cc-4d4e-e5e4-2cd0c3bd1dd9"
      },
      "source": [
        "print(list_na_tuple)"
      ],
      "execution_count": null,
      "outputs": [
        {
          "output_type": "stream",
          "text": [
            "('Tohle je list', 'Tohle je druhy prvek')\n"
          ],
          "name": "stdout"
        }
      ]
    },
    {
      "cell_type": "code",
      "metadata": {
        "id": "TvGnrryeGjZZ",
        "colab": {
          "base_uri": "https://localhost:8080/"
        },
        "outputId": "1b887410-ab8f-4ad4-8dd8-341510b87110"
      },
      "source": [
        "print(len(list_na_tuple))"
      ],
      "execution_count": null,
      "outputs": [
        {
          "output_type": "stream",
          "text": [
            "2\n"
          ],
          "name": "stdout"
        }
      ]
    },
    {
      "cell_type": "code",
      "metadata": {
        "id": "rkM0f4-eED5l"
      },
      "source": [
        "str(), int(), list(), tuple(), dict(), set()"
      ],
      "execution_count": null,
      "outputs": []
    },
    {
      "cell_type": "markdown",
      "metadata": {
        "id": "lZs9wAEH6xW1"
      },
      "source": [
        "# Podminky"
      ]
    },
    {
      "cell_type": "code",
      "metadata": {
        "id": "L2iVWfB2IMt7",
        "colab": {
          "base_uri": "https://localhost:8080/"
        },
        "outputId": "c05c363a-f5c1-488c-9486-bdd5d8a67dd3"
      },
      "source": [
        "len(slovo) < 5"
      ],
      "execution_count": null,
      "outputs": [
        {
          "output_type": "execute_result",
          "data": {
            "text/plain": [
              "True"
            ]
          },
          "metadata": {
            "tags": []
          },
          "execution_count": 12
        }
      ]
    },
    {
      "cell_type": "code",
      "metadata": {
        "id": "SwuVph-eI6Yb",
        "colab": {
          "base_uri": "https://localhost:8080/"
        },
        "outputId": "35537cb9-2528-4272-8b5d-1ebfb6411863"
      },
      "source": [
        "\"a\" in \"ahoj\""
      ],
      "execution_count": null,
      "outputs": [
        {
          "output_type": "execute_result",
          "data": {
            "text/plain": [
              "True"
            ]
          },
          "metadata": {
            "tags": []
          },
          "execution_count": 13
        }
      ]
    },
    {
      "cell_type": "code",
      "metadata": {
        "id": "TOhS01RbGHW4",
        "colab": {
          "base_uri": "https://localhost:8080/"
        },
        "outputId": "d4eaf7ad-4007-4854-8987-cae0f15cc1da"
      },
      "source": [
        "slovo = input(\"Zadej slovo: \")\r\n",
        "list_slov = []\r\n",
        "\r\n",
        "if len(slovo) == 5:\r\n",
        "  print(5*slovo)\r\n",
        "elif len(slovo) > 10:\r\n",
        "  list_slov.append(slovo)\r\n",
        "else:\r\n",
        "  print(\"slovo ma min pismen nez 11\")"
      ],
      "execution_count": null,
      "outputs": [
        {
          "output_type": "stream",
          "text": [
            "Zadej slovo: ahoj\n",
            "slovo ma min pismen nez 11\n"
          ],
          "name": "stdout"
        }
      ]
    },
    {
      "cell_type": "code",
      "metadata": {
        "id": "7HbC0Af8JQS6",
        "colab": {
          "base_uri": "https://localhost:8080/"
        },
        "outputId": "bde2495e-4772-4038-ab67-a7165a1535f7"
      },
      "source": [
        "bool(5 and 6)"
      ],
      "execution_count": null,
      "outputs": [
        {
          "output_type": "execute_result",
          "data": {
            "text/plain": [
              "True"
            ]
          },
          "metadata": {
            "tags": []
          },
          "execution_count": 20
        }
      ]
    },
    {
      "cell_type": "code",
      "metadata": {
        "id": "kKtnT7FgJYA_",
        "colab": {
          "base_uri": "https://localhost:8080/"
        },
        "outputId": "575fd5be-66bb-457a-ae9c-bad5781206b9"
      },
      "source": [
        "5 and 0 "
      ],
      "execution_count": null,
      "outputs": [
        {
          "output_type": "execute_result",
          "data": {
            "text/plain": [
              "0"
            ]
          },
          "metadata": {
            "tags": []
          },
          "execution_count": 15
        }
      ]
    },
    {
      "cell_type": "code",
      "metadata": {
        "id": "nrAsP-7HJayK",
        "colab": {
          "base_uri": "https://localhost:8080/"
        },
        "outputId": "bee060f6-84fd-4c8c-ffd4-be2ab17ad8e5"
      },
      "source": [
        "5 or 4"
      ],
      "execution_count": null,
      "outputs": [
        {
          "output_type": "execute_result",
          "data": {
            "text/plain": [
              "5"
            ]
          },
          "metadata": {
            "tags": []
          },
          "execution_count": 16
        }
      ]
    },
    {
      "cell_type": "code",
      "metadata": {
        "id": "3zpTDjMbJeIK",
        "colab": {
          "base_uri": "https://localhost:8080/"
        },
        "outputId": "9b8b5967-fafe-4b9b-bf52-5c806bbf643c"
      },
      "source": [
        "0 or 6"
      ],
      "execution_count": null,
      "outputs": [
        {
          "output_type": "execute_result",
          "data": {
            "text/plain": [
              "6"
            ]
          },
          "metadata": {
            "tags": []
          },
          "execution_count": 17
        }
      ]
    },
    {
      "cell_type": "code",
      "metadata": {
        "id": "LCsq0dlnJzpS",
        "colab": {
          "base_uri": "https://localhost:8080/"
        },
        "outputId": "fd640bdf-9e56-4b5a-d833-082ecd066c50"
      },
      "source": [
        "slovo = \"kuba\"\r\n",
        "if slovo == \"Kuba\" and len(slovo) == 4:\r\n",
        "  print(slovo)\r\n",
        "else:\r\n",
        "  print(\"Pozor na Case sensitive\")"
      ],
      "execution_count": null,
      "outputs": [
        {
          "output_type": "stream",
          "text": [
            "Pozor na Case sensitive\n"
          ],
          "name": "stdout"
        }
      ]
    },
    {
      "cell_type": "markdown",
      "metadata": {
        "id": "yZ8_o76r7HHY"
      },
      "source": [
        "# Priklad"
      ]
    },
    {
      "cell_type": "code",
      "metadata": {
        "colab": {
          "base_uri": "https://localhost:8080/",
          "height": 232
        },
        "id": "GmnAzJ446wds",
        "outputId": "308645c7-c60a-4f53-917a-0d19bedbc500"
      },
      "source": [
        "#Dny v tydnu.\r\n",
        "dny = (\"Pondeli\", \"Utery\",\"Streda\", \"Ctvrtek\", \"Patek\", \"Sobota\", \"Nedele\")\r\n",
        "ktery_den_jedu = dny.index(input(\"Zadej den odjezdu: \"))\r\n",
        "na_jak_dlouho_jedu = int(input(\"Na kolik dni jedes? \"))\r\n",
        "kdy_se_vracim = (ktery_den_jedu + na_jak_dlouho_jedu)%len(dny)\r\n",
        "print(f\"Den, ktery se vracis je: {dny[kdy_se_vracim]}\")"
      ],
      "execution_count": null,
      "outputs": [
        {
          "output_type": "stream",
          "text": [
            "Zadej den odjezdu: Pondeli\n",
            "Na kolik dni jedes? 80\n"
          ],
          "name": "stdout"
        },
        {
          "output_type": "error",
          "ename": "IndexError",
          "evalue": "ignored",
          "traceback": [
            "\u001b[0;31m---------------------------------------------------------------------------\u001b[0m",
            "\u001b[0;31mIndexError\u001b[0m                                Traceback (most recent call last)",
            "\u001b[0;32m<ipython-input-32-8ef06230a6f0>\u001b[0m in \u001b[0;36m<module>\u001b[0;34m()\u001b[0m\n\u001b[1;32m      4\u001b[0m \u001b[0mna_jak_dlouho_jedu\u001b[0m \u001b[0;34m=\u001b[0m \u001b[0mint\u001b[0m\u001b[0;34m(\u001b[0m\u001b[0minput\u001b[0m\u001b[0;34m(\u001b[0m\u001b[0;34m\"Na kolik dni jedes? \"\u001b[0m\u001b[0;34m)\u001b[0m\u001b[0;34m)\u001b[0m\u001b[0;34m\u001b[0m\u001b[0;34m\u001b[0m\u001b[0m\n\u001b[1;32m      5\u001b[0m \u001b[0mkdy_se_vracim\u001b[0m \u001b[0;34m=\u001b[0m \u001b[0;34m(\u001b[0m\u001b[0mktery_den_jedu\u001b[0m \u001b[0;34m+\u001b[0m \u001b[0mna_jak_dlouho_jedu\u001b[0m\u001b[0;34m)\u001b[0m\u001b[0;34m\u001b[0m\u001b[0;34m\u001b[0m\u001b[0m\n\u001b[0;32m----> 6\u001b[0;31m \u001b[0mprint\u001b[0m\u001b[0;34m(\u001b[0m\u001b[0;34mf\"Den, ktery se vracis je: {dny[kdy_se_vracim]}\"\u001b[0m\u001b[0;34m)\u001b[0m\u001b[0;34m\u001b[0m\u001b[0;34m\u001b[0m\u001b[0m\n\u001b[0m",
            "\u001b[0;31mIndexError\u001b[0m: tuple index out of range"
          ]
        }
      ]
    },
    {
      "cell_type": "code",
      "metadata": {
        "id": "KAvntZEXNtt5",
        "colab": {
          "base_uri": "https://localhost:8080/"
        },
        "outputId": "d6c04a3f-e45d-46fb-d2ad-2fb2ba235a43"
      },
      "source": [
        "vracim_se = dny[kdy_se_vracim]\r\n",
        "if vracim_se == \"Pondeli\":\r\n",
        "  print(\"Nesnasim pondeli\")\r\n",
        "elif vracim_se == \"Utery\":\r\n",
        "  print(\"Utery neni tak spatny \")\r\n",
        "elif vracim_se in [\"Patek\", \"Sobota\", \"Nedele\"]:\r\n",
        "  print(\"Prijedes o vikendu.\")\r\n",
        "elif vracim_se == \"Streda\":\r\n",
        "  print(\"Streda zni ok :)\")\r\n",
        "else:\r\n",
        "  print(\"Trefil jsi Ctvrtek!\")\r\n"
      ],
      "execution_count": null,
      "outputs": [
        {
          "output_type": "stream",
          "text": [
            "Nesnasim pondeli\n"
          ],
          "name": "stdout"
        }
      ]
    },
    {
      "cell_type": "code",
      "metadata": {
        "id": "035fSZ-GMdpZ",
        "colab": {
          "base_uri": "https://localhost:8080/"
        },
        "outputId": "5d92728e-f0d2-4cae-8a24-3116313c0e24"
      },
      "source": [
        "1%7"
      ],
      "execution_count": null,
      "outputs": [
        {
          "output_type": "execute_result",
          "data": {
            "text/plain": [
              "1"
            ]
          },
          "metadata": {
            "tags": []
          },
          "execution_count": 26
        }
      ]
    },
    {
      "cell_type": "code",
      "metadata": {
        "id": "kNWwB5qhOfIw",
        "colab": {
          "base_uri": "https://localhost:8080/"
        },
        "outputId": "552f56f7-536f-4235-e772-736918238a6f"
      },
      "source": [
        "dny = (\"po\",\"út\",\"st\",\"čt\",\"pá\",\"so\",\"ne\")\r\n",
        "kdyJedu = dny.index(input(\"Zadej den odjezdu:\"))\r\n",
        "naJakDlouho = (input(\"Na kolik dní\"))\r\n",
        "kdyZpet = (kdyJedu+naJakDlouho)%7\r\n",
        "print(dny[kdyZpet])"
      ],
      "execution_count": null,
      "outputs": [
        {
          "output_type": "stream",
          "text": [
            "Zadej den odjezdu:po\n",
            "Na kolik dní5\n",
            "so\n"
          ],
          "name": "stdout"
        }
      ]
    }
  ]
}