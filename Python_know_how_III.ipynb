{
  "nbformat": 4,
  "nbformat_minor": 0,
  "metadata": {
    "colab": {
      "name": "Python_know_how_III.ipynb",
      "provenance": [],
      "authorship_tag": "ABX9TyN6F5yIl1B3Qh1hUXEiO57F",
      "include_colab_link": true
    },
    "kernelspec": {
      "name": "python3",
      "display_name": "Python 3"
    }
  },
  "cells": [
    {
      "cell_type": "markdown",
      "metadata": {
        "id": "view-in-github",
        "colab_type": "text"
      },
      "source": [
        "<a href=\"https://colab.research.google.com/github/valenja9/Python_krouzek_pro_dospele/blob/main/Python_know_how_III.ipynb\" target=\"_parent\"><img src=\"https://colab.research.google.com/assets/colab-badge.svg\" alt=\"Open In Colab\"/></a>"
      ]
    },
    {
      "cell_type": "markdown",
      "metadata": {
        "id": "BsgRmwpdEHN7"
      },
      "source": [
        "# Treti lekce\r\n",
        "- Dnes se zamerime na důležitou část programování! Musíme vědět, kde a jak jsou uložena naše data. Jejich pozici! Přeně to řeší indexováni. Mohu tuto věc řešit u textu, tuple, listu. Všechno jsou to sekvenční datové typy a stejně jako text se dají spojovat dohromady. "
      ]
    },
    {
      "cell_type": "markdown",
      "metadata": {
        "id": "EDuPWuO_57Er"
      },
      "source": [
        "# Indexovani\r\n",
        "- Jak se tedy v pythonu indexuje? \r\n",
        "- Jaký index má první prvak(První písmeno)?\r\n",
        "- indexujeme od 0! \r\n",
        "- Dáse indexovat i záporně! Tedy odzadu."
      ]
    },
    {
      "cell_type": "markdown",
      "metadata": {
        "id": "4k56nSLz7J4-"
      },
      "source": [
        "![indexing.png](data:image/png;base64,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)"
      ]
    },
    {
      "cell_type": "markdown",
      "metadata": {
        "id": "xWLOzTkl4dvY"
      },
      "source": [
        "\r\n",
        "Zapamatujme si, že když chci indexovat tak musím použít [] a taky jen celá čísla!\r\n",
        "```\r\n",
        "#Chci vedet co je na prvni pozici \r\n",
        "<promenna_ve_ktere_je_ulozen_text>[0]\r\n",
        "```\r\n",
        "\r\n"
      ]
    },
    {
      "cell_type": "markdown",
      "metadata": {
        "id": "airyu6PQ4_IP"
      },
      "source": [
        "# Ukázka na příkladu. Co za písmeno je na indexu 4?\r\n",
        "- index 4 znamená to stejné jako pozice 5!"
      ]
    },
    {
      "cell_type": "code",
      "metadata": {
        "colab": {
          "base_uri": "https://localhost:8080/"
        },
        "id": "E2qjZMt35urR",
        "outputId": "225dec6e-b3eb-4e08-fa69-8742f0377f3d"
      },
      "source": [
        "#Indexujeme od 0\r\n",
        "#       0123456789 \r\n",
        "veta = \"Tohle budu chtit indexovat\"\r\n",
        "print(veta[4])"
      ],
      "execution_count": null,
      "outputs": [
        {
          "output_type": "stream",
          "text": [
            "e\n"
          ],
          "name": "stdout"
        }
      ]
    },
    {
      "cell_type": "markdown",
      "metadata": {
        "id": "DlffV5vn5T6D"
      },
      "source": [
        "# Takže jaké písmeno je na pozici 1?(index0)"
      ]
    },
    {
      "cell_type": "code",
      "metadata": {
        "colab": {
          "base_uri": "https://localhost:8080/"
        },
        "id": "Na-AycvG6vCq",
        "outputId": "3f3c93dc-e592-48a3-a3eb-0b84539bb712"
      },
      "source": [
        "print(veta[0])"
      ],
      "execution_count": null,
      "outputs": [
        {
          "output_type": "stream",
          "text": [
            "T\n"
          ],
          "name": "stdout"
        }
      ]
    },
    {
      "cell_type": "markdown",
      "metadata": {
        "id": "VrluJDCx5c-q"
      },
      "source": [
        "# Jak se doptat na na poslední písmeno?"
      ]
    },
    {
      "cell_type": "code",
      "metadata": {
        "colab": {
          "base_uri": "https://localhost:8080/"
        },
        "id": "1XJVrP7k60fa",
        "outputId": "d7f6f7e6-6b6c-4ef5-c1b9-3a4139c28363"
      },
      "source": [
        "#bud vim, ze index je vzdy o jednu mensi nez pozice\r\n",
        "print(veta[len(veta)-1])\r\n",
        "#nebo vim, ze se da indexovat i zaporne.\r\n",
        "print(veta[-1])"
      ],
      "execution_count": null,
      "outputs": [
        {
          "output_type": "stream",
          "text": [
            "t\n",
            "t\n"
          ],
          "name": "stdout"
        }
      ]
    },
    {
      "cell_type": "markdown",
      "metadata": {
        "id": "98jxnTwF5zK9"
      },
      "source": [
        "# Ukol pro vás :)"
      ]
    },
    {
      "cell_type": "code",
      "metadata": {
        "id": "1gSPmcrN7ZJS"
      },
      "source": [
        "# zadej vetu pomoci input a vypos index0, index2 a posledni index. \r\n",
        "#Dej si pozor na to pokud nedo zada prazdny text, nebo jen jedno pismeno nebo jen dve\r\n",
        "veta = \r\n",
        "\r\n",
        "print(f\"Tohle je prvni pismeno: {pismeno_na_na_prvnim_indexu}.............................\")"
      ],
      "execution_count": null,
      "outputs": []
    },
    {
      "cell_type": "markdown",
      "metadata": {
        "id": "-8LRer7V55CJ"
      },
      "source": [
        "# Možné řešení"
      ]
    },
    {
      "cell_type": "code",
      "metadata": {
        "colab": {
          "base_uri": "https://localhost:8080/"
        },
        "id": "fEVCil0X8mmv",
        "outputId": "89623fc4-dbc0-4dc3-cc40-66be13abfbc4"
      },
      "source": [
        "veta = input(\"Zadej vetu: \")\r\n",
        "if len(veta) == 1:\r\n",
        "  prvni = veta\r\n",
        "  print(f\"Tato veta ma jen jedno pismeno! A to je {prvni}\")\r\n",
        "elif len(veta) == 2:\r\n",
        "  prvni = veta[0]\r\n",
        "  posledni = veta[-1]\r\n",
        "  print(f\"Prvni je: {prvni} a posledni je: {posledni}\")\r\n",
        "elif len(veta) >= 3:\r\n",
        "   prvni = veta[0]\r\n",
        "   posledni = veta[-1]\r\n",
        "   treti = veta[2]\r\n",
        "   print(f\"Prvni je: {prvni} a posledni je: {posledni} a treti pismeno je: {treti}\")\r\n",
        "else:\r\n",
        "  print(\"Nezadal jsi zadne pismeno!\")"
      ],
      "execution_count": null,
      "outputs": [
        {
          "output_type": "stream",
          "text": [
            "Zadej vetu: aaa\n",
            "Prvni je: a a posledni je: a a treti pismeno je: a\n"
          ],
          "name": "stdout"
        }
      ]
    },
    {
      "cell_type": "markdown",
      "metadata": {
        "id": "PZl1nWP-59Gv"
      },
      "source": [
        "# Možné řešení II (Chytře upravené zadání :) )"
      ]
    },
    {
      "cell_type": "code",
      "metadata": {
        "colab": {
          "base_uri": "https://localhost:8080/"
        },
        "id": "3cEePoUj8Q1v",
        "outputId": "587f397a-93d0-49e1-9391-fae6661f19e9"
      },
      "source": [
        "veta = input(\"Zadej větu (ktera ma vic nez 3 znaky):\")\r\n",
        "if len(veta) > 3:\r\n",
        "    print(veta[0],veta[3],veta[-1])\r\n",
        "else:\r\n",
        "    print(\"Nezadal si správnou hodnotu\")"
      ],
      "execution_count": null,
      "outputs": [
        {
          "output_type": "stream",
          "text": [
            "Zadej větu (ktera ma vic nez 3 znaky):ahoj jak se vede?\n",
            "a j ?\n"
          ],
          "name": "stdout"
        }
      ]
    },
    {
      "cell_type": "markdown",
      "metadata": {
        "id": "5d9ru97g6ITi"
      },
      "source": [
        "# Několik dalších řešení od studentů"
      ]
    },
    {
      "cell_type": "code",
      "metadata": {
        "id": "o3PubtqD-MNK"
      },
      "source": [
        "veta = input(\"Zadej větu s více než třemi písmeny: \")\r\n",
        "\r\n",
        "pismeno_na_1_indexu = veta[0]\r\n",
        "pismeno_na_3_indexu = veta[3]\r\n",
        "pismeno_na_poslednim_indexu = veta[-1]\r\n",
        "\r\n",
        "if len(veta) > 3:\r\n",
        "  print(veta[0], veta[3], veta [-1])\r\n",
        "else:\r\n",
        "  print(\"Zadal jsi špatně!\")\r\n",
        "\r\n",
        "print(f\"Tohle je první písmeno: {pismeno_na_1_indexu}\")\r\n",
        "print(f\"Tohle je třetí písmeno: {pismeno_na_3_indexu}\")\r\n",
        "print(f\"Tohle je poslední písmeno: {pismeno_na_poslednim_indexu}\")"
      ],
      "execution_count": null,
      "outputs": []
    },
    {
      "cell_type": "code",
      "metadata": {
        "id": "7qcIbfZ0AEaV"
      },
      "source": [
        "veta = input(\"Zadej větu delší než 2 znaky:\")\r\n",
        "def firstIndex():\r\n",
        "    prvniIndex = veta[0]\r\n",
        "    print(f\"Tohle je prvni pismeno: {prvniIndex}\")\r\n",
        "def secondIndex():\r\n",
        "    if len(veta) >= 4:\r\n",
        "        druhyIndex = veta[3]\r\n",
        "    else:\r\n",
        "        druhyIndex = \"není, protože není delší jak 4 písmena\"\r\n",
        "    print(f\"Tohle je čtvrté pismeno: {druhyIndex}\")\r\n",
        "def thirdIndex():\r\n",
        "    tretiIndex = veta[-1]\r\n",
        "    print(f\"Tohle je poslední pismeno: {tretiIndex}\")\r\n",
        "def funkce():\r\n",
        "    firstIndex()\r\n",
        "    secondIndex()\r\n",
        "    thirdIndex()"
      ],
      "execution_count": null,
      "outputs": []
    },
    {
      "cell_type": "markdown",
      "metadata": {
        "id": "SdNCxp8H6RyF"
      },
      "source": [
        "# Slicing\r\n",
        "- každý objek, který se dá indexovat, tak se dá i rozdělit na menší části. Jako když vezmeme jen část řetězu z vánošního stromku.\r\n",
        "```\r\n",
        "start = \"od ktereho indexu zacinam?\"\r\n",
        "stop = \"jaky index je hranicni?(písmeno na tomto indexu se již nevypíše)\"\r\n",
        "step = \"Chci třeba každý druhý?\"\r\n",
        "<tetx_ktery_rozeluji>[start:stop:step]\r\n",
        "```\r\n",
        "Jak by to vydalo na nějakém příkladu?\r\n",
        "```\r\n",
        "text = \"python\"\r\n",
        "tetx[0:3]\r\n",
        "#Vypise: pyt\r\n",
        "```\r\n",
        "\r\n",
        "\r\n",
        "\r\n"
      ]
    },
    {
      "cell_type": "markdown",
      "metadata": {
        "id": "Gh06zkrb-fjR"
      },
      "source": [
        "# Pro ověření:"
      ]
    },
    {
      "cell_type": "code",
      "metadata": {
        "colab": {
          "base_uri": "https://localhost:8080/",
          "height": 35
        },
        "id": "qTYAapsz-XkQ",
        "outputId": "b7e36ce0-ad6b-46b8-efd7-9542eb8c58c0"
      },
      "source": [
        "#012[Bez 3 indexu]\r\n",
        "\"python\"[:3]"
      ],
      "execution_count": null,
      "outputs": [
        {
          "output_type": "execute_result",
          "data": {
            "application/vnd.google.colaboratory.intrinsic+json": {
              "type": "string"
            },
            "text/plain": [
              "'pyt'"
            ]
          },
          "metadata": {
            "tags": []
          },
          "execution_count": 2
        }
      ]
    },
    {
      "cell_type": "code",
      "metadata": {
        "colab": {
          "base_uri": "https://localhost:8080/"
        },
        "id": "_LgMbWLRBgxi",
        "outputId": "7ec30f01-e261-489a-c81c-748837b62d37"
      },
      "source": [
        "veta = \"abcabcabcacb\"\r\n",
        "#prvnich 5\r\n",
        "print(veta[:5])\r\n",
        "#od indexu 4 do 10 indexu(bez)\r\n",
        "print(veta[4:10])\r\n",
        "#Od 1 do 10[bez] a kazdy druhy\r\n",
        "print(veta[1:10:2])\r\n",
        "#Vsechny, ale kady druhy. Musi tam byt ty dvojtecky!\r\n",
        "print(veta[::2])"
      ],
      "execution_count": null,
      "outputs": [
        {
          "output_type": "stream",
          "text": [
            "abcab\n",
            "bcabca\n",
            "bacba\n",
            "acbacc\n"
          ],
          "name": "stdout"
        }
      ]
    },
    {
      "cell_type": "markdown",
      "metadata": {
        "id": "n44O5Q0r_vnh"
      },
      "source": [
        "# Zkusme procvičit "
      ]
    },
    {
      "cell_type": "code",
      "metadata": {
        "id": "geCnwkD7CWmA"
      },
      "source": [
        "#a) vsechna pismena a a spojily je dohromady  př: aaaaa\r\n",
        "#b) vsechna pismena b a .....  př: bbbbb\r\n",
        "#c) vsechna pismena c a ....."
      ],
      "execution_count": null,
      "outputs": []
    },
    {
      "cell_type": "code",
      "metadata": {
        "colab": {
          "base_uri": "https://localhost:8080/"
        },
        "id": "ZBTU2Pf_Czbq",
        "outputId": "1e83f248-eb49-440e-b638-f139180283e5"
      },
      "source": [
        "dalsiveta = \"abcabcabcabc\"\r\n",
        "print(dalsiveta[:2])"
      ],
      "execution_count": null,
      "outputs": [
        {
          "output_type": "stream",
          "text": [
            "ab\n"
          ],
          "name": "stdout"
        }
      ]
    },
    {
      "cell_type": "code",
      "metadata": {
        "colab": {
          "base_uri": "https://localhost:8080/"
        },
        "id": "LCe7D8EBDOTp",
        "outputId": "4f7a310f-855b-4d7b-ecaf-6f5ceb44b3e9"
      },
      "source": [
        "veta = \"abcabcabcabc\"\r\n",
        "print(veta[::3])\r\n",
        "print(veta[1::3])\r\n",
        "print(veta[2::3])"
      ],
      "execution_count": null,
      "outputs": [
        {
          "output_type": "stream",
          "text": [
            "aaaa\n",
            "bbbb\n",
            "cccc\n"
          ],
          "name": "stdout"
        }
      ]
    }
  ]
}