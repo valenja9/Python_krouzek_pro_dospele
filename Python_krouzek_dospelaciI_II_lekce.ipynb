{
  "nbformat": 4,
  "nbformat_minor": 0,
  "metadata": {
    "colab": {
      "name": "Python_krouzek_dospelaciI_II_lekce.ipynb",
      "provenance": [],
      "authorship_tag": "ABX9TyOz9q8zEuakTGsOC3QAO9p0",
      "include_colab_link": true
    },
    "kernelspec": {
      "name": "python3",
      "display_name": "Python 3"
    }
  },
  "cells": [
    {
      "cell_type": "markdown",
      "metadata": {
        "id": "view-in-github",
        "colab_type": "text"
      },
      "source": [
        "<a href=\"https://colab.research.google.com/github/valenja9/Python_krouzek_pro_dospele/blob/main/Python_krouzek_dospelaciI_II_lekce.ipynb\" target=\"_parent\"><img src=\"https://colab.research.google.com/assets/colab-badge.svg\" alt=\"Open In Colab\"/></a>"
      ]
    },
    {
      "cell_type": "markdown",
      "metadata": {
        "id": "Ie7PrSHYC6Dt"
      },
      "source": [
        "# Začínáme programovat"
      ]
    },
    {
      "cell_type": "code",
      "metadata": {
        "id": "yp4pS7-fDM5L"
      },
      "source": [
        "budu_ukladat_sem = \"Teď jsem uloži text do proměnne: budu_ukladat_sem\"\n",
        "print(budu_ukladat_sem)"
      ],
      "execution_count": null,
      "outputs": []
    },
    {
      "cell_type": "code",
      "metadata": {
        "colab": {
          "base_uri": "https://localhost:8080/"
        },
        "id": "25LhumOfEJoX",
        "outputId": "34cbb0c3-65c1-4d4e-f9fc-353aa9d846f2"
      },
      "source": [
        "print(budu_ukladat_sem)"
      ],
      "execution_count": null,
      "outputs": [
        {
          "output_type": "stream",
          "text": [
            "Teď jsem uloži text do proměnne: budu_ukladat_sem\n"
          ],
          "name": "stdout"
        }
      ]
    },
    {
      "cell_type": "code",
      "metadata": {
        "colab": {
          "base_uri": "https://localhost:8080/"
        },
        "id": "USwkfd7tEVGx",
        "outputId": "c474a2d3-afa8-4e94-9ddf-127103ea6d07"
      },
      "source": [
        "cislo = 50\r\n",
        "print(cislo)"
      ],
      "execution_count": null,
      "outputs": [
        {
          "output_type": "stream",
          "text": [
            "50\n"
          ],
          "name": "stdout"
        }
      ]
    },
    {
      "cell_type": "code",
      "metadata": {
        "colab": {
          "base_uri": "https://localhost:8080/"
        },
        "id": "rVCSb9boGBPA",
        "outputId": "9d47426d-a9e3-401d-f647-923ed937db05"
      },
      "source": [
        "50 + 60"
      ],
      "execution_count": null,
      "outputs": [
        {
          "output_type": "execute_result",
          "data": {
            "text/plain": [
              "110"
            ]
          },
          "metadata": {
            "tags": []
          },
          "execution_count": 10
        }
      ]
    },
    {
      "cell_type": "markdown",
      "metadata": {
        "id": "T99gfaPLGUkB"
      },
      "source": [
        "# Jednoducha kalkulacka\r\n"
      ]
    },
    {
      "cell_type": "code",
      "metadata": {
        "colab": {
          "base_uri": "https://localhost:8080/"
        },
        "id": "GbzkJlOLFx3j",
        "outputId": "90eee071-8a96-4547-c75b-fd91739c76dc"
      },
      "source": [
        "cislo1 = 10\r\n",
        "cislo2 = 60\r\n",
        "print(cislo1 + cislo2)"
      ],
      "execution_count": null,
      "outputs": [
        {
          "output_type": "stream",
          "text": [
            "70\n"
          ],
          "name": "stdout"
        }
      ]
    },
    {
      "cell_type": "code",
      "metadata": {
        "colab": {
          "base_uri": "https://localhost:8080/"
        },
        "id": "HNmW6vjeGefz",
        "outputId": "7601c260-b097-43b8-f6cd-5055bbb9feeb"
      },
      "source": [
        "cislo1 = 20\r\n",
        "cislo2 = 30\r\n",
        "suma = cislo1 + cislo2\r\n",
        "print(suma) "
      ],
      "execution_count": null,
      "outputs": [
        {
          "output_type": "stream",
          "text": [
            "50\n"
          ],
          "name": "stdout"
        }
      ]
    },
    {
      "cell_type": "code",
      "metadata": {
        "colab": {
          "base_uri": "https://localhost:8080/"
        },
        "id": "fXSCxRUeGrDA",
        "outputId": "c5640546-9411-4546-ac40-27161b0f7346"
      },
      "source": [
        "cislo1 = input(\"Zadej cislo: \")\r\n",
        "cislo2 = input(\"Zadej druhe cislo:\")\r\n",
        "suma = cislo1 + cislo2\r\n",
        "print(suma) "
      ],
      "execution_count": null,
      "outputs": [
        {
          "output_type": "stream",
          "text": [
            "Zadej cislo: 5\n",
            "Zadej druhe cislo:69\n",
            "569\n"
          ],
          "name": "stdout"
        }
      ]
    },
    {
      "cell_type": "code",
      "metadata": {
        "colab": {
          "base_uri": "https://localhost:8080/"
        },
        "id": "2LRHQa7qHd85",
        "outputId": "331e8af2-2831-43c4-c838-915f6ecfc792"
      },
      "source": [
        "print(\"ahoj\" + \", jak se vede?\")"
      ],
      "execution_count": null,
      "outputs": [
        {
          "output_type": "stream",
          "text": [
            "ahoj, jak se vede?\n"
          ],
          "name": "stdout"
        }
      ]
    },
    {
      "cell_type": "code",
      "metadata": {
        "id": "fOeip5fPIbyH"
      },
      "source": [
        "cislo1 = int(input(\"Zadej cislo: \"))\r\n",
        "cislo2 = int(input(\"Zadej druhe cislo:\"))\r\n",
        "suma = cislo1 + cislo2\r\n",
        "print(suma) "
      ],
      "execution_count": null,
      "outputs": []
    },
    {
      "cell_type": "code",
      "metadata": {
        "colab": {
          "base_uri": "https://localhost:8080/"
        },
        "id": "4CzcsEPpHwIy",
        "outputId": "c4698c92-7452-41ee-be27-69bfdc7d9332"
      },
      "source": [
        "cislo1 = float(input(\"Zadej cislo: \"))\r\n",
        "cislo2 = float(input(\"Zadej druhe cislo:\"))\r\n",
        "suma = cislo1 + cislo2\r\n",
        "print(suma) "
      ],
      "execution_count": null,
      "outputs": [
        {
          "output_type": "stream",
          "text": [
            "Zadej cislo: 4.9\n",
            "Zadej druhe cislo:1\n",
            "5.9\n"
          ],
          "name": "stdout"
        }
      ]
    },
    {
      "cell_type": "code",
      "metadata": {
        "colab": {
          "base_uri": "https://localhost:8080/"
        },
        "id": "qGczgU6AIJzi",
        "outputId": "22cb6df1-7c2c-4433-e5ce-80829fff3b35"
      },
      "source": [
        "print(\"Ted budu zjistovat datovy typ:\", type(cislo1), \"Ted budu zjistovat datovy typ:\" , type(budu_ukladat_sem ))"
      ],
      "execution_count": null,
      "outputs": [
        {
          "output_type": "stream",
          "text": [
            "Ted budu zjistovat datovy typ: <class 'float'> Ted budu zjistovat datovy typ: <class 'str'>\n"
          ],
          "name": "stdout"
        }
      ]
    },
    {
      "cell_type": "code",
      "metadata": {
        "colab": {
          "base_uri": "https://localhost:8080/"
        },
        "id": "ybcCSuGxJsde",
        "outputId": "28aadd91-99c9-4464-bc6a-aedbff6d203f"
      },
      "source": [
        "print(dir(budu_ukladat_sem))"
      ],
      "execution_count": null,
      "outputs": [
        {
          "output_type": "stream",
          "text": [
            "['__add__', '__class__', '__contains__', '__delattr__', '__dir__', '__doc__', '__eq__', '__format__', '__ge__', '__getattribute__', '__getitem__', '__getnewargs__', '__gt__', '__hash__', '__init__', '__init_subclass__', '__iter__', '__le__', '__len__', '__lt__', '__mod__', '__mul__', '__ne__', '__new__', '__reduce__', '__reduce_ex__', '__repr__', '__rmod__', '__rmul__', '__setattr__', '__sizeof__', '__str__', '__subclasshook__', 'capitalize', 'casefold', 'center', 'count', 'encode', 'endswith', 'expandtabs', 'find', 'format', 'format_map', 'index', 'isalnum', 'isalpha', 'isdecimal', 'isdigit', 'isidentifier', 'islower', 'isnumeric', 'isprintable', 'isspace', 'istitle', 'isupper', 'join', 'ljust', 'lower', 'lstrip', 'maketrans', 'partition', 'replace', 'rfind', 'rindex', 'rjust', 'rpartition', 'rsplit', 'rstrip', 'split', 'splitlines', 'startswith', 'strip', 'swapcase', 'title', 'translate', 'upper', 'zfill']\n"
          ],
          "name": "stdout"
        }
      ]
    },
    {
      "cell_type": "code",
      "metadata": {
        "id": "KW-u-mgGKkbl"
      },
      "source": [
        "pes.zastekej()"
      ],
      "execution_count": null,
      "outputs": []
    },
    {
      "cell_type": "code",
      "metadata": {
        "colab": {
          "base_uri": "https://localhost:8080/"
        },
        "id": "e6RmFh84Kyjr",
        "outputId": "b57515d6-d5e5-4d18-e8f0-f22d3b719805"
      },
      "source": [
        "text = \"Dneska si tu hrajeme s textem. Zajima me kolik tu je celkem pismen a.\"\r\n",
        "print(text.count(\"a\"))"
      ],
      "execution_count": null,
      "outputs": [
        {
          "output_type": "stream",
          "text": [
            "5\n"
          ],
          "name": "stdout"
        }
      ]
    },
    {
      "cell_type": "code",
      "metadata": {
        "colab": {
          "base_uri": "https://localhost:8080/"
        },
        "id": "2pZOzXz9LjRj",
        "outputId": "69f7db0f-6366-4c5a-9257-c24dff418004"
      },
      "source": [
        "print(text.upper())"
      ],
      "execution_count": null,
      "outputs": [
        {
          "output_type": "stream",
          "text": [
            "PYTHON JE PYTHON\n"
          ],
          "name": "stdout"
        }
      ]
    },
    {
      "cell_type": "code",
      "metadata": {
        "colab": {
          "base_uri": "https://localhost:8080/"
        },
        "id": "76MVjtPLMCZO",
        "outputId": "fe5171f7-e54c-45ad-be3c-dd26a299a07c"
      },
      "source": [
        "text=\"Python je Python\"\r\n",
        "print(text.count(\"Python\"))"
      ],
      "execution_count": null,
      "outputs": [
        {
          "output_type": "stream",
          "text": [
            "2\n"
          ],
          "name": "stdout"
        }
      ]
    },
    {
      "cell_type": "code",
      "metadata": {
        "colab": {
          "base_uri": "https://localhost:8080/"
        },
        "id": "lzsCm4qMMRB0",
        "outputId": "3f291a6c-69da-4bf2-8391-f6875353c553"
      },
      "source": [
        "print(text.lower())\r\n",
        "print(text)"
      ],
      "execution_count": null,
      "outputs": [
        {
          "output_type": "stream",
          "text": [
            "python je python\n",
            "Python je Python\n"
          ],
          "name": "stdout"
        }
      ]
    },
    {
      "cell_type": "markdown",
      "metadata": {
        "id": "vptR86H_RVXE"
      },
      "source": [
        "# Lekce druha"
      ]
    },
    {
      "cell_type": "code",
      "metadata": {
        "id": "d5JG5L21P2b8",
        "colab": {
          "base_uri": "https://localhost:8080/",
          "height": 522
        },
        "outputId": "265c9a05-0319-4507-85a5-6b9b07921148"
      },
      "source": [
        "jmeno = input(\"Zadejte jméno: \")\r\n",
        "prijmeni = input(\"Zadejte příjmení: \")\r\n",
        "vek = int(input(\"Zadejte věk: \"))\r\n",
        "print(jmeno + \" \" + prijmeni + \", \" + str(vek) + \" let\")"
      ],
      "execution_count": null,
      "outputs": [
        {
          "output_type": "error",
          "ename": "KeyboardInterrupt",
          "evalue": "ignored",
          "traceback": [
            "\u001b[0;31m---------------------------------------------------------------------------\u001b[0m",
            "\u001b[0;31mKeyboardInterrupt\u001b[0m                         Traceback (most recent call last)",
            "\u001b[0;32m/usr/local/lib/python3.6/dist-packages/ipykernel/kernelbase.py\u001b[0m in \u001b[0;36m_input_request\u001b[0;34m(self, prompt, ident, parent, password)\u001b[0m\n\u001b[1;32m    728\u001b[0m             \u001b[0;32mtry\u001b[0m\u001b[0;34m:\u001b[0m\u001b[0;34m\u001b[0m\u001b[0;34m\u001b[0m\u001b[0m\n\u001b[0;32m--> 729\u001b[0;31m                 \u001b[0mident\u001b[0m\u001b[0;34m,\u001b[0m \u001b[0mreply\u001b[0m \u001b[0;34m=\u001b[0m \u001b[0mself\u001b[0m\u001b[0;34m.\u001b[0m\u001b[0msession\u001b[0m\u001b[0;34m.\u001b[0m\u001b[0mrecv\u001b[0m\u001b[0;34m(\u001b[0m\u001b[0mself\u001b[0m\u001b[0;34m.\u001b[0m\u001b[0mstdin_socket\u001b[0m\u001b[0;34m,\u001b[0m \u001b[0;36m0\u001b[0m\u001b[0;34m)\u001b[0m\u001b[0;34m\u001b[0m\u001b[0;34m\u001b[0m\u001b[0m\n\u001b[0m\u001b[1;32m    730\u001b[0m             \u001b[0;32mexcept\u001b[0m \u001b[0mException\u001b[0m\u001b[0;34m:\u001b[0m\u001b[0;34m\u001b[0m\u001b[0;34m\u001b[0m\u001b[0m\n",
            "\u001b[0;32m/usr/local/lib/python3.6/dist-packages/jupyter_client/session.py\u001b[0m in \u001b[0;36mrecv\u001b[0;34m(self, socket, mode, content, copy)\u001b[0m\n\u001b[1;32m    802\u001b[0m         \u001b[0;32mtry\u001b[0m\u001b[0;34m:\u001b[0m\u001b[0;34m\u001b[0m\u001b[0;34m\u001b[0m\u001b[0m\n\u001b[0;32m--> 803\u001b[0;31m             \u001b[0mmsg_list\u001b[0m \u001b[0;34m=\u001b[0m \u001b[0msocket\u001b[0m\u001b[0;34m.\u001b[0m\u001b[0mrecv_multipart\u001b[0m\u001b[0;34m(\u001b[0m\u001b[0mmode\u001b[0m\u001b[0;34m,\u001b[0m \u001b[0mcopy\u001b[0m\u001b[0;34m=\u001b[0m\u001b[0mcopy\u001b[0m\u001b[0;34m)\u001b[0m\u001b[0;34m\u001b[0m\u001b[0;34m\u001b[0m\u001b[0m\n\u001b[0m\u001b[1;32m    804\u001b[0m         \u001b[0;32mexcept\u001b[0m \u001b[0mzmq\u001b[0m\u001b[0;34m.\u001b[0m\u001b[0mZMQError\u001b[0m \u001b[0;32mas\u001b[0m \u001b[0me\u001b[0m\u001b[0;34m:\u001b[0m\u001b[0;34m\u001b[0m\u001b[0;34m\u001b[0m\u001b[0m\n",
            "\u001b[0;32m/usr/local/lib/python3.6/dist-packages/zmq/sugar/socket.py\u001b[0m in \u001b[0;36mrecv_multipart\u001b[0;34m(self, flags, copy, track)\u001b[0m\n\u001b[1;32m    582\u001b[0m         \"\"\"\n\u001b[0;32m--> 583\u001b[0;31m         \u001b[0mparts\u001b[0m \u001b[0;34m=\u001b[0m \u001b[0;34m[\u001b[0m\u001b[0mself\u001b[0m\u001b[0;34m.\u001b[0m\u001b[0mrecv\u001b[0m\u001b[0;34m(\u001b[0m\u001b[0mflags\u001b[0m\u001b[0;34m,\u001b[0m \u001b[0mcopy\u001b[0m\u001b[0;34m=\u001b[0m\u001b[0mcopy\u001b[0m\u001b[0;34m,\u001b[0m \u001b[0mtrack\u001b[0m\u001b[0;34m=\u001b[0m\u001b[0mtrack\u001b[0m\u001b[0;34m)\u001b[0m\u001b[0;34m]\u001b[0m\u001b[0;34m\u001b[0m\u001b[0;34m\u001b[0m\u001b[0m\n\u001b[0m\u001b[1;32m    584\u001b[0m         \u001b[0;31m# have first part already, only loop while more to receive\u001b[0m\u001b[0;34m\u001b[0m\u001b[0;34m\u001b[0m\u001b[0;34m\u001b[0m\u001b[0m\n",
            "\u001b[0;32mzmq/backend/cython/socket.pyx\u001b[0m in \u001b[0;36mzmq.backend.cython.socket.Socket.recv\u001b[0;34m()\u001b[0m\n",
            "\u001b[0;32mzmq/backend/cython/socket.pyx\u001b[0m in \u001b[0;36mzmq.backend.cython.socket.Socket.recv\u001b[0;34m()\u001b[0m\n",
            "\u001b[0;32mzmq/backend/cython/socket.pyx\u001b[0m in \u001b[0;36mzmq.backend.cython.socket._recv_copy\u001b[0;34m()\u001b[0m\n",
            "\u001b[0;32m/usr/local/lib/python3.6/dist-packages/zmq/backend/cython/checkrc.pxd\u001b[0m in \u001b[0;36mzmq.backend.cython.checkrc._check_rc\u001b[0;34m()\u001b[0m\n",
            "\u001b[0;31mKeyboardInterrupt\u001b[0m: ",
            "\nDuring handling of the above exception, another exception occurred:\n",
            "\u001b[0;31mKeyboardInterrupt\u001b[0m                         Traceback (most recent call last)",
            "\u001b[0;32m<ipython-input-1-f2e32c9eea23>\u001b[0m in \u001b[0;36m<module>\u001b[0;34m()\u001b[0m\n\u001b[0;32m----> 1\u001b[0;31m \u001b[0mjmeno\u001b[0m \u001b[0;34m=\u001b[0m \u001b[0minput\u001b[0m\u001b[0;34m(\u001b[0m\u001b[0;34m\"Zadejte jméno: \"\u001b[0m\u001b[0;34m)\u001b[0m\u001b[0;34m\u001b[0m\u001b[0;34m\u001b[0m\u001b[0m\n\u001b[0m\u001b[1;32m      2\u001b[0m \u001b[0mprijmeni\u001b[0m \u001b[0;34m=\u001b[0m \u001b[0minput\u001b[0m\u001b[0;34m(\u001b[0m\u001b[0;34m\"Zadejte příjmení: \"\u001b[0m\u001b[0;34m)\u001b[0m\u001b[0;34m\u001b[0m\u001b[0;34m\u001b[0m\u001b[0m\n\u001b[1;32m      3\u001b[0m \u001b[0mvek\u001b[0m \u001b[0;34m=\u001b[0m \u001b[0mint\u001b[0m\u001b[0;34m(\u001b[0m\u001b[0minput\u001b[0m\u001b[0;34m(\u001b[0m\u001b[0;34m\"Zadejte věk: \"\u001b[0m\u001b[0;34m)\u001b[0m\u001b[0;34m)\u001b[0m\u001b[0;34m\u001b[0m\u001b[0;34m\u001b[0m\u001b[0m\n\u001b[1;32m      4\u001b[0m \u001b[0mprint\u001b[0m\u001b[0;34m(\u001b[0m\u001b[0mjmeno\u001b[0m \u001b[0;34m+\u001b[0m \u001b[0;34m\" \"\u001b[0m \u001b[0;34m+\u001b[0m \u001b[0mprijmeni\u001b[0m \u001b[0;34m+\u001b[0m \u001b[0;34m\", \"\u001b[0m \u001b[0;34m+\u001b[0m \u001b[0mstr\u001b[0m\u001b[0;34m(\u001b[0m\u001b[0mvek\u001b[0m\u001b[0;34m)\u001b[0m \u001b[0;34m+\u001b[0m \u001b[0;34m\" let\"\u001b[0m\u001b[0;34m)\u001b[0m\u001b[0;34m\u001b[0m\u001b[0;34m\u001b[0m\u001b[0m\n",
            "\u001b[0;32m/usr/local/lib/python3.6/dist-packages/ipykernel/kernelbase.py\u001b[0m in \u001b[0;36mraw_input\u001b[0;34m(self, prompt)\u001b[0m\n\u001b[1;32m    702\u001b[0m             \u001b[0mself\u001b[0m\u001b[0;34m.\u001b[0m\u001b[0m_parent_ident\u001b[0m\u001b[0;34m,\u001b[0m\u001b[0;34m\u001b[0m\u001b[0;34m\u001b[0m\u001b[0m\n\u001b[1;32m    703\u001b[0m             \u001b[0mself\u001b[0m\u001b[0;34m.\u001b[0m\u001b[0m_parent_header\u001b[0m\u001b[0;34m,\u001b[0m\u001b[0;34m\u001b[0m\u001b[0;34m\u001b[0m\u001b[0m\n\u001b[0;32m--> 704\u001b[0;31m             \u001b[0mpassword\u001b[0m\u001b[0;34m=\u001b[0m\u001b[0;32mFalse\u001b[0m\u001b[0;34m,\u001b[0m\u001b[0;34m\u001b[0m\u001b[0;34m\u001b[0m\u001b[0m\n\u001b[0m\u001b[1;32m    705\u001b[0m         )\n\u001b[1;32m    706\u001b[0m \u001b[0;34m\u001b[0m\u001b[0m\n",
            "\u001b[0;32m/usr/local/lib/python3.6/dist-packages/ipykernel/kernelbase.py\u001b[0m in \u001b[0;36m_input_request\u001b[0;34m(self, prompt, ident, parent, password)\u001b[0m\n\u001b[1;32m    732\u001b[0m             \u001b[0;32mexcept\u001b[0m \u001b[0mKeyboardInterrupt\u001b[0m\u001b[0;34m:\u001b[0m\u001b[0;34m\u001b[0m\u001b[0;34m\u001b[0m\u001b[0m\n\u001b[1;32m    733\u001b[0m                 \u001b[0;31m# re-raise KeyboardInterrupt, to truncate traceback\u001b[0m\u001b[0;34m\u001b[0m\u001b[0;34m\u001b[0m\u001b[0;34m\u001b[0m\u001b[0m\n\u001b[0;32m--> 734\u001b[0;31m                 \u001b[0;32mraise\u001b[0m \u001b[0mKeyboardInterrupt\u001b[0m\u001b[0;34m\u001b[0m\u001b[0;34m\u001b[0m\u001b[0m\n\u001b[0m\u001b[1;32m    735\u001b[0m             \u001b[0;32melse\u001b[0m\u001b[0;34m:\u001b[0m\u001b[0;34m\u001b[0m\u001b[0;34m\u001b[0m\u001b[0m\n\u001b[1;32m    736\u001b[0m                 \u001b[0;32mbreak\u001b[0m\u001b[0;34m\u001b[0m\u001b[0;34m\u001b[0m\u001b[0m\n",
            "\u001b[0;31mKeyboardInterrupt\u001b[0m: "
          ]
        }
      ]
    },
    {
      "cell_type": "markdown",
      "metadata": {
        "id": "LXuBqGfVYpVe"
      },
      "source": [
        "# Indexovani"
      ]
    },
    {
      "cell_type": "markdown",
      "metadata": {
        "id": "a1B7D560Ythn"
      },
      "source": [
        "![indexing.png](data:image/png;base64,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)"
      ]
    },
    {
      "cell_type": "code",
      "metadata": {
        "id": "YQ2kHs-UYs9W"
      },
      "source": [
        "text = \"Tohle vsechno je text          huuhidflfffgjkjkfllfgffkljljkgll;       :'[[;;[;''\""
      ],
      "execution_count": null,
      "outputs": []
    },
    {
      "cell_type": "code",
      "metadata": {
        "colab": {
          "base_uri": "https://localhost:8080/"
        },
        "id": "KMkQwYOHZTR-",
        "outputId": "0a70d9c3-626f-4111-a596-f62f6c10e411"
      },
      "source": [
        "print(len(text))"
      ],
      "execution_count": null,
      "outputs": [
        {
          "output_type": "stream",
          "text": [
            "81\n"
          ],
          "name": "stdout"
        }
      ]
    },
    {
      "cell_type": "code",
      "metadata": {
        "colab": {
          "base_uri": "https://localhost:8080/",
          "height": 35
        },
        "id": "MAolbdiFZjSP",
        "outputId": "99c1f9d4-a26e-4596-ee22-d83d667218c1"
      },
      "source": [
        "text[0]"
      ],
      "execution_count": null,
      "outputs": [
        {
          "output_type": "execute_result",
          "data": {
            "application/vnd.google.colaboratory.intrinsic+json": {
              "type": "string"
            },
            "text/plain": [
              "'T'"
            ]
          },
          "metadata": {
            "tags": []
          },
          "execution_count": 6
        }
      ]
    },
    {
      "cell_type": "code",
      "metadata": {
        "colab": {
          "base_uri": "https://localhost:8080/",
          "height": 35
        },
        "id": "mQLk0QpLZsnS",
        "outputId": "e4b63864-faf7-4ac1-9274-05ab3ca41140"
      },
      "source": [
        "text[1]"
      ],
      "execution_count": null,
      "outputs": [
        {
          "output_type": "execute_result",
          "data": {
            "application/vnd.google.colaboratory.intrinsic+json": {
              "type": "string"
            },
            "text/plain": [
              "'o'"
            ]
          },
          "metadata": {
            "tags": []
          },
          "execution_count": 7
        }
      ]
    },
    {
      "cell_type": "code",
      "metadata": {
        "colab": {
          "base_uri": "https://localhost:8080/",
          "height": 35
        },
        "id": "HrnFLxEcZ3db",
        "outputId": "5370f35a-669c-480c-dfd7-dfcdc20e3c5a"
      },
      "source": [
        "text[-1]"
      ],
      "execution_count": null,
      "outputs": [
        {
          "output_type": "execute_result",
          "data": {
            "application/vnd.google.colaboratory.intrinsic+json": {
              "type": "string"
            },
            "text/plain": [
              "\"'\""
            ]
          },
          "metadata": {
            "tags": []
          },
          "execution_count": 8
        }
      ]
    },
    {
      "cell_type": "code",
      "metadata": {
        "colab": {
          "base_uri": "https://localhost:8080/",
          "height": 35
        },
        "id": "zRy6UrXpaG_Y",
        "outputId": "249fb0ac-6628-483b-c5d9-cce0a8ee1fc0"
      },
      "source": [
        "text[:5]"
      ],
      "execution_count": null,
      "outputs": [
        {
          "output_type": "execute_result",
          "data": {
            "application/vnd.google.colaboratory.intrinsic+json": {
              "type": "string"
            },
            "text/plain": [
              "'Tohle'"
            ]
          },
          "metadata": {
            "tags": []
          },
          "execution_count": 11
        }
      ]
    },
    {
      "cell_type": "code",
      "metadata": {
        "colab": {
          "base_uri": "https://localhost:8080/",
          "height": 35
        },
        "id": "8DzNYhYZaQQn",
        "outputId": "db8aaa5d-59ff-48eb-bf06-6fff69fc60fd"
      },
      "source": [
        "text[7:60]"
      ],
      "execution_count": null,
      "outputs": [
        {
          "output_type": "execute_result",
          "data": {
            "application/vnd.google.colaboratory.intrinsic+json": {
              "type": "string"
            },
            "text/plain": [
              "'sechno je text          huuhidflfffgjkjkfllfgffkljljk'"
            ]
          },
          "metadata": {
            "tags": []
          },
          "execution_count": 12
        }
      ]
    },
    {
      "cell_type": "code",
      "metadata": {
        "colab": {
          "base_uri": "https://localhost:8080/",
          "height": 35
        },
        "id": "fBd6K5mLaaYq",
        "outputId": "a84a0d44-48e3-4f39-fba1-68627faef35d"
      },
      "source": [
        "text[7:60:6]"
      ],
      "execution_count": null,
      "outputs": [
        {
          "output_type": "execute_result",
          "data": {
            "application/vnd.google.colaboratory.intrinsic+json": {
              "type": "string"
            },
            "text/plain": [
              "'s x hfjll'"
            ]
          },
          "metadata": {
            "tags": []
          },
          "execution_count": 14
        }
      ]
    },
    {
      "cell_type": "code",
      "metadata": {
        "id": "sw-QOV7pa0pa"
      },
      "source": [
        "veta = \"Dnes mame druhou lekci. Doufam ze je vsechno ok. Snad jo!\"\r\n"
      ],
      "execution_count": null,
      "outputs": []
    },
    {
      "cell_type": "code",
      "metadata": {
        "colab": {
          "base_uri": "https://localhost:8080/"
        },
        "id": "vVshAWlsbXby",
        "outputId": "ce2717f8-aba1-4c82-dc78-ca7698b0387a"
      },
      "source": [
        "cisty_text = veta[:4] + veta[23:30]\r\n",
        "print(cisty_text)"
      ],
      "execution_count": null,
      "outputs": [
        {
          "output_type": "stream",
          "text": [
            "Dnes Doufam\n"
          ],
          "name": "stdout"
        }
      ]
    },
    {
      "cell_type": "code",
      "metadata": {
        "colab": {
          "base_uri": "https://localhost:8080/"
        },
        "id": "4qGC5zYObFAB",
        "outputId": "3f507c96-a736-4841-bd98-1b639476241f"
      },
      "source": [
        "veta.split(\".\")"
      ],
      "execution_count": null,
      "outputs": [
        {
          "output_type": "execute_result",
          "data": {
            "text/plain": [
              "['Dnes mame druhou lekci', ' Doufam ze je vsechno ok', ' Snad jo!']"
            ]
          },
          "metadata": {
            "tags": []
          },
          "execution_count": 18
        }
      ]
    },
    {
      "cell_type": "code",
      "metadata": {
        "colab": {
          "base_uri": "https://localhost:8080/",
          "height": 35
        },
        "id": "GdkUGAbFcBV6",
        "outputId": "e5719ad9-4b5d-44ce-ac13-0a8837ee117c"
      },
      "source": [
        "\"           \"[:5]"
      ],
      "execution_count": null,
      "outputs": [
        {
          "output_type": "execute_result",
          "data": {
            "application/vnd.google.colaboratory.intrinsic+json": {
              "type": "string"
            },
            "text/plain": [
              "'     '"
            ]
          },
          "metadata": {
            "tags": []
          },
          "execution_count": 21
        }
      ]
    },
    {
      "cell_type": "markdown",
      "metadata": {
        "id": "7lS1FNxnb8Mr"
      },
      "source": [
        "# List"
      ]
    },
    {
      "cell_type": "code",
      "metadata": {
        "id": "rMHK7rvTb7Ty"
      },
      "source": [
        "tohle_je_list = [\"Jakub\", \"Valenta\", 45]"
      ],
      "execution_count": null,
      "outputs": []
    },
    {
      "cell_type": "code",
      "metadata": {
        "colab": {
          "base_uri": "https://localhost:8080/"
        },
        "id": "qKMFhwN7b7BM",
        "outputId": "1e94c739-1b2d-4657-a3fe-2aefd4480f47"
      },
      "source": [
        "type(tohle_je_list)"
      ],
      "execution_count": null,
      "outputs": [
        {
          "output_type": "execute_result",
          "data": {
            "text/plain": [
              "list"
            ]
          },
          "metadata": {
            "tags": []
          },
          "execution_count": 23
        }
      ]
    },
    {
      "cell_type": "code",
      "metadata": {
        "colab": {
          "base_uri": "https://localhost:8080/"
        },
        "id": "dByJeCjvcf3f",
        "outputId": "ea11851f-dc81-4c7e-860c-1c547190d82c"
      },
      "source": [
        "dir(tohle_je_list)"
      ],
      "execution_count": null,
      "outputs": [
        {
          "output_type": "execute_result",
          "data": {
            "text/plain": [
              "['__add__',\n",
              " '__class__',\n",
              " '__contains__',\n",
              " '__delattr__',\n",
              " '__delitem__',\n",
              " '__dir__',\n",
              " '__doc__',\n",
              " '__eq__',\n",
              " '__format__',\n",
              " '__ge__',\n",
              " '__getattribute__',\n",
              " '__getitem__',\n",
              " '__gt__',\n",
              " '__hash__',\n",
              " '__iadd__',\n",
              " '__imul__',\n",
              " '__init__',\n",
              " '__init_subclass__',\n",
              " '__iter__',\n",
              " '__le__',\n",
              " '__len__',\n",
              " '__lt__',\n",
              " '__mul__',\n",
              " '__ne__',\n",
              " '__new__',\n",
              " '__reduce__',\n",
              " '__reduce_ex__',\n",
              " '__repr__',\n",
              " '__reversed__',\n",
              " '__rmul__',\n",
              " '__setattr__',\n",
              " '__setitem__',\n",
              " '__sizeof__',\n",
              " '__str__',\n",
              " '__subclasshook__',\n",
              " 'append',\n",
              " 'clear',\n",
              " 'copy',\n",
              " 'count',\n",
              " 'extend',\n",
              " 'index',\n",
              " 'insert',\n",
              " 'pop',\n",
              " 'remove',\n",
              " 'reverse',\n",
              " 'sort']"
            ]
          },
          "metadata": {
            "tags": []
          },
          "execution_count": 24
        }
      ]
    },
    {
      "cell_type": "code",
      "metadata": {
        "colab": {
          "base_uri": "https://localhost:8080/",
          "height": 35
        },
        "id": "04pSmo2jcsWA",
        "outputId": "90b8dcef-c69a-4b26-f50e-97e275211294"
      },
      "source": [
        "tohle_je_list[0]"
      ],
      "execution_count": null,
      "outputs": [
        {
          "output_type": "execute_result",
          "data": {
            "application/vnd.google.colaboratory.intrinsic+json": {
              "type": "string"
            },
            "text/plain": [
              "'Jakub'"
            ]
          },
          "metadata": {
            "tags": []
          },
          "execution_count": 27
        }
      ]
    },
    {
      "cell_type": "code",
      "metadata": {
        "id": "DFpmF9zKc5-Z"
      },
      "source": [
        "tohle_je_list[0] = \"Petra\""
      ],
      "execution_count": null,
      "outputs": []
    },
    {
      "cell_type": "code",
      "metadata": {
        "colab": {
          "base_uri": "https://localhost:8080/"
        },
        "id": "gvckSlBcdACa",
        "outputId": "1e72dae7-c364-4211-c49a-97fd0fef79ca"
      },
      "source": [
        "tohle_je_list"
      ],
      "execution_count": null,
      "outputs": [
        {
          "output_type": "execute_result",
          "data": {
            "text/plain": [
              "['Petra', 'Valenta', 45]"
            ]
          },
          "metadata": {
            "tags": []
          },
          "execution_count": 29
        }
      ]
    },
    {
      "cell_type": "code",
      "metadata": {
        "colab": {
          "base_uri": "https://localhost:8080/"
        },
        "id": "wDRLMJoDdNMR",
        "outputId": "01c25e72-f688-40a8-c5fb-db9a0cd2f653"
      },
      "source": [
        "[\"a\",\"b\"] + [\"F\", \"h\"]"
      ],
      "execution_count": null,
      "outputs": [
        {
          "output_type": "execute_result",
          "data": {
            "text/plain": [
              "['a', 'b', 'F', 'h']"
            ]
          },
          "metadata": {
            "tags": []
          },
          "execution_count": 30
        }
      ]
    },
    {
      "cell_type": "code",
      "metadata": {
        "colab": {
          "base_uri": "https://localhost:8080/",
          "height": 35
        },
        "id": "bOURqxDLdY63",
        "outputId": "039e14e5-cd0d-4ee4-ff69-8f6528eea196"
      },
      "source": [
        "90 *\"=\""
      ],
      "execution_count": null,
      "outputs": [
        {
          "output_type": "execute_result",
          "data": {
            "application/vnd.google.colaboratory.intrinsic+json": {
              "type": "string"
            },
            "text/plain": [
              "'=========================================================================================='"
            ]
          },
          "metadata": {
            "tags": []
          },
          "execution_count": 33
        }
      ]
    },
    {
      "cell_type": "code",
      "metadata": {
        "colab": {
          "base_uri": "https://localhost:8080/"
        },
        "id": "IUT4L6B8dkw-",
        "outputId": "a1dd3e75-48f3-445b-aa1e-eadc7d4a536d"
      },
      "source": [
        "print([\"Jakub\"] * 90)"
      ],
      "execution_count": null,
      "outputs": [
        {
          "output_type": "stream",
          "text": [
            "['Jakub', 'Jakub', 'Jakub', 'Jakub', 'Jakub', 'Jakub', 'Jakub', 'Jakub', 'Jakub', 'Jakub', 'Jakub', 'Jakub', 'Jakub', 'Jakub', 'Jakub', 'Jakub', 'Jakub', 'Jakub', 'Jakub', 'Jakub', 'Jakub', 'Jakub', 'Jakub', 'Jakub', 'Jakub', 'Jakub', 'Jakub', 'Jakub', 'Jakub', 'Jakub', 'Jakub', 'Jakub', 'Jakub', 'Jakub', 'Jakub', 'Jakub', 'Jakub', 'Jakub', 'Jakub', 'Jakub', 'Jakub', 'Jakub', 'Jakub', 'Jakub', 'Jakub', 'Jakub', 'Jakub', 'Jakub', 'Jakub', 'Jakub', 'Jakub', 'Jakub', 'Jakub', 'Jakub', 'Jakub', 'Jakub', 'Jakub', 'Jakub', 'Jakub', 'Jakub', 'Jakub', 'Jakub', 'Jakub', 'Jakub', 'Jakub', 'Jakub', 'Jakub', 'Jakub', 'Jakub', 'Jakub', 'Jakub', 'Jakub', 'Jakub', 'Jakub', 'Jakub', 'Jakub', 'Jakub', 'Jakub', 'Jakub', 'Jakub', 'Jakub', 'Jakub', 'Jakub', 'Jakub', 'Jakub', 'Jakub', 'Jakub', 'Jakub', 'Jakub', 'Jakub']\n"
          ],
          "name": "stdout"
        }
      ]
    },
    {
      "cell_type": "markdown",
      "metadata": {
        "id": "eOiUUDM2eBi7"
      },
      "source": [
        "# Dynamicky"
      ]
    },
    {
      "cell_type": "code",
      "metadata": {
        "id": "eUVDgljieN-a"
      },
      "source": [
        "slovo = \"python\""
      ],
      "execution_count": null,
      "outputs": []
    },
    {
      "cell_type": "code",
      "metadata": {
        "colab": {
          "base_uri": "https://localhost:8080/",
          "height": 35
        },
        "id": "PuIjSl_QeU5D",
        "outputId": "7d6bde55-3ed4-487b-ffc9-5da7526b5309"
      },
      "source": [
        "slovo.upper()"
      ],
      "execution_count": null,
      "outputs": [
        {
          "output_type": "execute_result",
          "data": {
            "application/vnd.google.colaboratory.intrinsic+json": {
              "type": "string"
            },
            "text/plain": [
              "'PYTHON'"
            ]
          },
          "metadata": {
            "tags": []
          },
          "execution_count": 41
        }
      ]
    },
    {
      "cell_type": "code",
      "metadata": {
        "colab": {
          "base_uri": "https://localhost:8080/",
          "height": 35
        },
        "id": "EKJYSmt4eY1Y",
        "outputId": "7bcdc68f-a551-4511-d1e3-4149d7728ad4"
      },
      "source": [
        "slovo"
      ],
      "execution_count": null,
      "outputs": [
        {
          "output_type": "execute_result",
          "data": {
            "application/vnd.google.colaboratory.intrinsic+json": {
              "type": "string"
            },
            "text/plain": [
              "'python'"
            ]
          },
          "metadata": {
            "tags": []
          },
          "execution_count": 42
        }
      ]
    },
    {
      "cell_type": "code",
      "metadata": {
        "colab": {
          "base_uri": "https://localhost:8080/",
          "height": 162
        },
        "id": "xe8NY5oRebeS",
        "outputId": "f9e3b708-6a96-452f-dbe4-ca1806673084"
      },
      "source": [
        "slovo[0] = \"P\""
      ],
      "execution_count": null,
      "outputs": [
        {
          "output_type": "error",
          "ename": "TypeError",
          "evalue": "ignored",
          "traceback": [
            "\u001b[0;31m---------------------------------------------------------------------------\u001b[0m",
            "\u001b[0;31mTypeError\u001b[0m                                 Traceback (most recent call last)",
            "\u001b[0;32m<ipython-input-43-91006f764d28>\u001b[0m in \u001b[0;36m<module>\u001b[0;34m()\u001b[0m\n\u001b[0;32m----> 1\u001b[0;31m \u001b[0mslovo\u001b[0m\u001b[0;34m[\u001b[0m\u001b[0;36m0\u001b[0m\u001b[0;34m]\u001b[0m \u001b[0;34m=\u001b[0m \u001b[0;34m\"P\"\u001b[0m\u001b[0;34m\u001b[0m\u001b[0;34m\u001b[0m\u001b[0m\n\u001b[0m",
            "\u001b[0;31mTypeError\u001b[0m: 'str' object does not support item assignment"
          ]
        }
      ]
    },
    {
      "cell_type": "code",
      "metadata": {
        "colab": {
          "base_uri": "https://localhost:8080/"
        },
        "id": "d-I6ajc0emY3",
        "outputId": "7b23c8d4-8147-40f3-a56b-4dd2de9944df"
      },
      "source": [
        "list_se_da_menit = list(slovo)\r\n",
        "print(list_se_da_menit)"
      ],
      "execution_count": null,
      "outputs": [
        {
          "output_type": "stream",
          "text": [
            "['p', 'y', 't', 'h', 'o', 'n']\n"
          ],
          "name": "stdout"
        }
      ]
    },
    {
      "cell_type": "code",
      "metadata": {
        "id": "JIAGg6VHey6Y"
      },
      "source": [
        "list_se_da_menit.sort()"
      ],
      "execution_count": null,
      "outputs": []
    },
    {
      "cell_type": "code",
      "metadata": {
        "colab": {
          "base_uri": "https://localhost:8080/"
        },
        "id": "6VFS93zKe5MK",
        "outputId": "00455a88-fc09-4206-9ba7-4f3d215542e1"
      },
      "source": [
        "list_se_da_menit"
      ],
      "execution_count": null,
      "outputs": [
        {
          "output_type": "execute_result",
          "data": {
            "text/plain": [
              "['h', 'n', 'o', 'p', 't', 'y']"
            ]
          },
          "metadata": {
            "tags": []
          },
          "execution_count": 46
        }
      ]
    },
    {
      "cell_type": "code",
      "metadata": {
        "colab": {
          "base_uri": "https://localhost:8080/"
        },
        "id": "q0jsYFfpd3PU",
        "outputId": "3841578d-0478-4c03-b024-0d9d60b4fe52"
      },
      "source": [
        "text = \"Josef\"\r\n",
        "print()\r\n",
        "text = text.upper()\r\n",
        "print(text)\r\n",
        "print(text)\r\n",
        "print(text)\r\n",
        "print(text)"
      ],
      "execution_count": null,
      "outputs": [
        {
          "output_type": "stream",
          "text": [
            "JOSEF\n",
            "JOSEF\n",
            "JOSEF\n",
            "JOSEF\n"
          ],
          "name": "stdout"
        }
      ]
    },
    {
      "cell_type": "code",
      "metadata": {
        "colab": {
          "base_uri": "https://localhost:8080/"
        },
        "id": "A1cvE_4GfMKc",
        "outputId": "d3d6412b-ca65-400d-e974-382e9b3a555c"
      },
      "source": [
        "text = \"Josef\"\r\n",
        "print(text)\r\n",
        "print(text.upper())\r\n",
        "print(text)\r\n",
        "text = text.upper()\r\n",
        "print(text)"
      ],
      "execution_count": null,
      "outputs": [
        {
          "output_type": "stream",
          "text": [
            "Josef\n",
            "JOSEF\n",
            "Josef\n",
            "JOSEF\n"
          ],
          "name": "stdout"
        }
      ]
    },
    {
      "cell_type": "code",
      "metadata": {
        "id": "6QzgVnOkfWZv"
      },
      "source": [
        "text = 56"
      ],
      "execution_count": null,
      "outputs": []
    },
    {
      "cell_type": "code",
      "metadata": {
        "colab": {
          "base_uri": "https://localhost:8080/"
        },
        "id": "WPNlBa5qfZ1x",
        "outputId": "125b64e6-e13c-4485-ba8e-436c80e7e11c"
      },
      "source": [
        "print(text)"
      ],
      "execution_count": null,
      "outputs": [
        {
          "output_type": "stream",
          "text": [
            "56\n"
          ],
          "name": "stdout"
        }
      ]
    },
    {
      "cell_type": "code",
      "metadata": {
        "colab": {
          "base_uri": "https://localhost:8080/"
        },
        "id": "Uq8sQZfGgUiW",
        "outputId": "ca67240a-286a-4754-f6ac-4c07a776b517"
      },
      "source": [
        "tabulka = [[\"Jmeno\", \"Prijmeni\", \"Vek\"],[\"Petr\",\"Novotny\", 45], [\"Hanka\",\"Bila\", 33], [\"Sabima\",\"Suchanova\", 11]]\r\n",
        "tabulka[1][2]"
      ],
      "execution_count": null,
      "outputs": [
        {
          "output_type": "execute_result",
          "data": {
            "text/plain": [
              "45"
            ]
          },
          "metadata": {
            "tags": []
          },
          "execution_count": 56
        }
      ]
    },
    {
      "cell_type": "code",
      "metadata": {
        "colab": {
          "base_uri": "https://localhost:8080/"
        },
        "id": "LLz3FMAbgH5B",
        "outputId": "bb11084a-e91d-46c8-afef-29866e704fde"
      },
      "source": [
        "tabulka = [[\"Jmeno\", \"Prijmeni\", \"Vek\"],[\"Petr\",\"Novotny\", 45], [\"Hanka\",\"Bila\", 33], [\"Sabima\",\"Suchanova\", 11]]\r\n",
        "index = int(input(\"Zadej index cloveka(zacni od 1): \"))\r\n",
        "print(f\"Krestni jmeno: {tabulka[index][0]}, Prijmeni je: {tabulka[index][1]}, stari: {tabulka[index][2]}\")"
      ],
      "execution_count": null,
      "outputs": [
        {
          "output_type": "stream",
          "text": [
            "Zadej index cloveka(zacni od 1): 3\n",
            "Krestni jmeno: Sabima, Prijmeni je: Suchanova, stari: 11\n"
          ],
          "name": "stdout"
        }
      ]
    },
    {
      "cell_type": "code",
      "metadata": {
        "colab": {
          "base_uri": "https://localhost:8080/",
          "height": 35
        },
        "id": "BbzxKiT0iode",
        "outputId": "62ea32b9-745e-4294-fac1-d80a4d00eef4"
      },
      "source": [
        "f\"{tabulka}\""
      ],
      "execution_count": null,
      "outputs": [
        {
          "output_type": "execute_result",
          "data": {
            "application/vnd.google.colaboratory.intrinsic+json": {
              "type": "string"
            },
            "text/plain": [
              "\"[['Jmeno', 'Prijmeni', 'Vek'], ['Petr', 'Novotny', 45], ['Hanka', 'Bila', 33], ['Sabima', 'Suchanova', 11]]\""
            ]
          },
          "metadata": {
            "tags": []
          },
          "execution_count": 59
        }
      ]
    },
    {
      "cell_type": "code",
      "metadata": {
        "colab": {
          "base_uri": "https://localhost:8080/",
          "height": 35
        },
        "id": "MfkouWVljM9L",
        "outputId": "90405d78-cdeb-4b47-a965-33ebb7e2cd51"
      },
      "source": [
        "\"{}\".format(tabulka)"
      ],
      "execution_count": null,
      "outputs": [
        {
          "output_type": "execute_result",
          "data": {
            "application/vnd.google.colaboratory.intrinsic+json": {
              "type": "string"
            },
            "text/plain": [
              "\"[['Jmeno', 'Prijmeni', 'Vek'], ['Petr', 'Novotny', 45], ['Hanka', 'Bila', 33], ['Sabima', 'Suchanova', 11]]\""
            ]
          },
          "metadata": {
            "tags": []
          },
          "execution_count": 60
        }
      ]
    },
    {
      "cell_type": "code",
      "metadata": {
        "colab": {
          "base_uri": "https://localhost:8080/",
          "height": 178
        },
        "id": "BNu59vNSjUqL",
        "outputId": "c05ee09e-c368-4734-c26d-4117bc0d80e1"
      },
      "source": [
        "text = \"Ahoj\""
      ],
      "execution_count": null,
      "outputs": [
        {
          "output_type": "error",
          "ename": "AttributeError",
          "evalue": "ignored",
          "traceback": [
            "\u001b[0;31m---------------------------------------------------------------------------\u001b[0m",
            "\u001b[0;31mAttributeError\u001b[0m                            Traceback (most recent call last)",
            "\u001b[0;32m<ipython-input-62-cf44a7a8acae>\u001b[0m in \u001b[0;36m<module>\u001b[0;34m()\u001b[0m\n\u001b[1;32m      1\u001b[0m \u001b[0mtext\u001b[0m \u001b[0;34m=\u001b[0m \u001b[0;34m\"Ahoj\"\u001b[0m\u001b[0;34m\u001b[0m\u001b[0;34m\u001b[0m\u001b[0m\n\u001b[0;32m----> 2\u001b[0;31m \u001b[0;34m\"%s\"\u001b[0m\u001b[0;34m.\u001b[0m\u001b[0mtext\u001b[0m\u001b[0;34m\u001b[0m\u001b[0;34m\u001b[0m\u001b[0m\n\u001b[0m",
            "\u001b[0;31mAttributeError\u001b[0m: 'str' object has no attribute 'text'"
          ]
        }
      ]
    },
    {
      "cell_type": "code",
      "metadata": {
        "id": "gLm3_uEShhF_"
      },
      "source": [
        "print(\"\"\"\r\n",
        "Pro Jmeno dej 0,\r\n",
        "Pro Prijmeni dej 1,\r\n",
        "Pro Vek dej 2.\r\n",
        "      \"\"\")\r\n",
        "chci_znat = int(input(\"Zadej cislo pro jmeno: \"))\r\n",
        "#print(tabulka[index]) # info o cloveku\r\n",
        "#Jak na presnou informaci?\r\n",
        "print(\"O tomto clověku jsem se dozvěděl: \", tabulka[index][chci_znat])"
      ],
      "execution_count": null,
      "outputs": []
    }
  ]
}