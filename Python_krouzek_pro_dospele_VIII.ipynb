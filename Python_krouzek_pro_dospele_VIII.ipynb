{
  "nbformat": 4,
  "nbformat_minor": 0,
  "metadata": {
    "colab": {
      "name": "Python_krouzek_pro_dospele_VIII.ipynb",
      "provenance": [],
      "authorship_tag": "ABX9TyMrYnjIhtclz9fucpknCNUB",
      "include_colab_link": true
    },
    "kernelspec": {
      "name": "python3",
      "display_name": "Python 3"
    }
  },
  "cells": [
    {
      "cell_type": "markdown",
      "metadata": {
        "id": "view-in-github",
        "colab_type": "text"
      },
      "source": [
        "<a href=\"https://colab.research.google.com/github/valenja9/Python_krouzek_pro_dospele/blob/main/Python_krouzek_pro_dospele_VIII.ipynb\" target=\"_parent\"><img src=\"https://colab.research.google.com/assets/colab-badge.svg\" alt=\"Open In Colab\"/></a>"
      ]
    },
    {
      "cell_type": "markdown",
      "metadata": {
        "id": "X-sNPOTyMMAh"
      },
      "source": [
        "# Poziční parametry"
      ]
    },
    {
      "cell_type": "code",
      "metadata": {
        "colab": {
          "base_uri": "https://localhost:8080/"
        },
        "id": "ePgc3HRoLFDM",
        "outputId": "274a4541-e5ba-44da-e31a-5914a62e0829"
      },
      "source": [
        "def cisla_delitelna(start, stop, divisor):\r\n",
        "    cisla = []\r\n",
        "    for i in range(start,stop):\r\n",
        "        if i % divisor == 0:\r\n",
        "            cisla.append(i)\r\n",
        "    return cisla\r\n",
        "# Volani funkce\r\n",
        "print(cisla_delitelna(1,11,2))"
      ],
      "execution_count": 31,
      "outputs": [
        {
          "output_type": "stream",
          "text": [
            "[2, 4, 6, 8, 10]\n"
          ],
          "name": "stdout"
        }
      ]
    },
    {
      "cell_type": "code",
      "metadata": {
        "colab": {
          "base_uri": "https://localhost:8080/"
        },
        "id": "hKCjPFhYbJDj",
        "outputId": "9525cb08-a1d0-40d9-94f6-fab05ef0e5a1"
      },
      "source": [
        "start = 1\r\n",
        "stop = 10\r\n",
        "divisor = 2\r\n",
        "cisla = []\r\n",
        "for i in range(start,stop):\r\n",
        "    if i % divisor == 0:\r\n",
        "        cisla.append(i)\r\n",
        "cisla"
      ],
      "execution_count": 30,
      "outputs": [
        {
          "output_type": "execute_result",
          "data": {
            "text/plain": [
              "[2, 4, 6, 8]"
            ]
          },
          "metadata": {
            "tags": []
          },
          "execution_count": 30
        }
      ]
    },
    {
      "cell_type": "markdown",
      "metadata": {
        "id": "hK83VCM_MGkV"
      },
      "source": [
        "# Klíčové parametry"
      ]
    },
    {
      "cell_type": "code",
      "metadata": {
        "colab": {
          "base_uri": "https://localhost:8080/"
        },
        "id": "1iL2AkcLMBRE",
        "outputId": "42b9f822-ba7d-4b1d-bc63-a68517d3d444"
      },
      "source": [
        "cisla_delitelna(divisor=2,stop=10,start=1)"
      ],
      "execution_count": 34,
      "outputs": [
        {
          "output_type": "execute_result",
          "data": {
            "text/plain": [
              "[2, 4, 6, 8]"
            ]
          },
          "metadata": {
            "tags": []
          },
          "execution_count": 34
        }
      ]
    },
    {
      "cell_type": "code",
      "metadata": {
        "id": "KnfK7IaAcV7p"
      },
      "source": [
        "print()"
      ],
      "execution_count": null,
      "outputs": []
    },
    {
      "cell_type": "markdown",
      "metadata": {
        "id": "0fnq1wwQdlVw"
      },
      "source": [
        "# Nejdříve poziční až pak klíčové"
      ]
    },
    {
      "cell_type": "code",
      "metadata": {
        "colab": {
          "base_uri": "https://localhost:8080/"
        },
        "id": "NTCnFncqcleq",
        "outputId": "0e033b2d-613d-4f14-c1a2-e7ebaf2ca9de"
      },
      "source": [
        "cisla_delitelna(1, divisor=2, stop=10)"
      ],
      "execution_count": 37,
      "outputs": [
        {
          "output_type": "execute_result",
          "data": {
            "text/plain": [
              "[2, 4, 6, 8]"
            ]
          },
          "metadata": {
            "tags": []
          },
          "execution_count": 37
        }
      ]
    },
    {
      "cell_type": "markdown",
      "metadata": {
        "id": "yjnact4CMbNJ"
      },
      "source": [
        "# Defaultní"
      ]
    },
    {
      "cell_type": "code",
      "metadata": {
        "colab": {
          "base_uri": "https://localhost:8080/"
        },
        "id": "iQCdzx9zMd6f",
        "outputId": "172070e9-ddb2-4fcd-b66d-a16fe43425a5"
      },
      "source": [
        "def cisla_delitelna(start, stop, divisor=2):\r\n",
        "    cisla = []\r\n",
        "    for i in range(start,stop):\r\n",
        "        if i % divisor == 0:\r\n",
        "            cisla.append(i)\r\n",
        "    return cisla\r\n",
        "# Volani funkce\r\n",
        "print(cisla_delitelna(1,11))"
      ],
      "execution_count": 41,
      "outputs": [
        {
          "output_type": "stream",
          "text": [
            "[2, 4, 6, 8, 10]\n"
          ],
          "name": "stdout"
        }
      ]
    },
    {
      "cell_type": "code",
      "metadata": {
        "colab": {
          "base_uri": "https://localhost:8080/"
        },
        "id": "DdDInH90dKwo",
        "outputId": "de704d73-53eb-46b7-c68a-374a523ba80a"
      },
      "source": [
        "\"Tohle je text\".split()"
      ],
      "execution_count": 45,
      "outputs": [
        {
          "output_type": "execute_result",
          "data": {
            "text/plain": [
              "['Tohle', 'je', 'text']"
            ]
          },
          "metadata": {
            "tags": []
          },
          "execution_count": 45
        }
      ]
    },
    {
      "cell_type": "code",
      "metadata": {
        "id": "87_x3X8gd09z"
      },
      "source": [
        "list_jmen = [\"Tomas\", \"Oto\",\"Petr\",\"Honza\"]\r\n",
        "# Funce ma na vstupu list_jmen a na vystupu ma text\r\n",
        "def text_prvnich_pismen():\r\n",
        "  pass\r\n",
        "\r\n",
        "vysldny_text = text_prvnich_pismen()\r\n",
        "print(vysldny_text)"
      ],
      "execution_count": null,
      "outputs": []
    },
    {
      "cell_type": "code",
      "metadata": {
        "colab": {
          "base_uri": "https://localhost:8080/"
        },
        "id": "o2e9K7jOe4MC",
        "outputId": "36c8a304-8d1a-45ba-8a95-607c62ab81ca"
      },
      "source": [
        "list_jmen = [\"Tomas\", \"Oto\",\"Petr\",\"Honza\"]\r\n",
        "\r\n",
        "def text_prvnich_pismen(list):\r\n",
        "  vystupni_text = \"\"\r\n",
        "  for item in list_jmen:\r\n",
        "    pocatecni_pismeno = item[0]\r\n",
        "    vystupni_text += pocatecni_pismeno\r\n",
        "  return vystupni_text\r\n",
        "\r\n",
        "print(text_prvnich_pismen(list_jmen))"
      ],
      "execution_count": 46,
      "outputs": [
        {
          "output_type": "stream",
          "text": [
            "TOPH\n"
          ],
          "name": "stdout"
        }
      ]
    },
    {
      "cell_type": "markdown",
      "metadata": {
        "id": "GEpJNMm8eyEf"
      },
      "source": [
        "# Komplexni projek"
      ]
    },
    {
      "cell_type": "code",
      "metadata": {
        "id": "wysQsDiCewVh"
      },
      "source": [
        "def zadej_informace():\r\n",
        "  jmeno, prijmeni, vek = input(\"Zadej jmeno, prijmeni a vek uzivatele(Rozdel carkou): \").split(\",\")\r\n",
        "  return jmeno, prijmeni, vek #Vracim celkem 3 informace\r\n",
        "\r\n",
        "def vytvor_soubor(jmeno_souboru, hlavicka):\r\n",
        "  with open(jmeno_souboru, mode=\"w\") as file:\r\n",
        "    jmeno, prijmeni, vek = hlavicka\r\n",
        "    text = f\"{jmeno},{prijmeni},{vek}\" + \"\\n\"\r\n",
        "    file.writelines(text)\r\n",
        "\r\n",
        "def zapis_do_souboru(jmeno_souboru, zapisuji):\r\n",
        "  with open(jmeno_souboru, mode=\"a\") as file:\r\n",
        "    jmeno, prijmeni, vek = zapisuji\r\n",
        "    text = f\"{jmeno},{prijmeni},{vek}\" + \"\\n\"\r\n",
        "    file.writelines(text)\r\n",
        "\r\n",
        "def nahraj_csv_soubor(jmeno_souboru):\r\n",
        "  with open(jmeno_souboru, mode=\"r\") as file:\r\n",
        "    data = file.readlines()\r\n",
        "  return data\r\n",
        "\r\n",
        "def hlavni():\r\n",
        "  mode = input(\"Co chces dela? (Zapisovat -> z) nebo (Pracovat s daty -> p)\").lower()\r\n",
        "\r\n",
        "  if mode == \"z\":\r\n",
        "    vytvorit = input(\"Chce vytvorit soubor(y) nebo uz existuje(e)\").lower()\r\n",
        "    if vytvorit == \"y\":\r\n",
        "      jmeno_souboru = input(\"Zadej jmeno souboru i s .csv\")\r\n",
        "      vytvor_soubor(jmeno_souboru, hlavicka = [\"jmeno\",\"prijmeni\",\"vek\"])\r\n",
        "      print(f\"Vytvoril jsem soubor{jmeno_souboru}\")\r\n",
        "\r\n",
        "    elif vytvorit == \"e\":\r\n",
        "      jmeno_souboru = \"ucitele.csv\" #Todo dodelat input.\r\n",
        "      list_pro_zapis = zadej_informaci()\r\n",
        "      zapis_do_souboru(jmeno_souboru, list_pro_zapis)\r\n",
        "      print(f\"Zapsal jsem {list_pro_zapis}\")\r\n",
        "    else:\r\n",
        "      print(\"Neco se nepovedo\")\r\n",
        "  elif mode == \"p\":\r\n",
        "    jmeno_souboru = \"ucitele.csv\" #Todo dodelat input.\r\n",
        "    data = nahraj_csv_soubor(jmeno_souboru)\r\n",
        "    for radek in data:\r\n",
        "      print(radek)\r\n",
        "\r\n",
        "  else:\r\n",
        "    print(\"Neco se nepovedo\")\r\n",
        "\r\n",
        "\r\n",
        "\r\n",
        "\r\n"
      ],
      "execution_count": 60,
      "outputs": []
    },
    {
      "cell_type": "code",
      "metadata": {
        "colab": {
          "base_uri": "https://localhost:8080/"
        },
        "id": "Nl51CgBvkOSe",
        "outputId": "b26445e6-141c-43a3-f40e-166d9e984464"
      },
      "source": [
        "hlavni()"
      ],
      "execution_count": 61,
      "outputs": [
        {
          "output_type": "stream",
          "text": [
            "Co chces dela? (Zapisovat -> z) nebo (Pracovat s daty -> p)p\n",
            "jmeno,prijmeni,vek\n",
            "\n",
            "Jakub, Valenta, 26\n",
            "\n",
            "Petr, Novak, 28\n",
            "\n",
            "Roman,Hodny,45\n",
            "\n"
          ],
          "name": "stdout"
        }
      ]
    }
  ]
}