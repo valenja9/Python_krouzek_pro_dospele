{
  "nbformat": 4,
  "nbformat_minor": 0,
  "metadata": {
    "colab": {
      "name": "Python_pro_dospele6.ipynb",
      "provenance": [],
      "authorship_tag": "ABX9TyMbmi91UK1U+LROO5MurYHd",
      "include_colab_link": true
    },
    "kernelspec": {
      "name": "python3",
      "display_name": "Python 3"
    }
  },
  "cells": [
    {
      "cell_type": "markdown",
      "metadata": {
        "id": "view-in-github",
        "colab_type": "text"
      },
      "source": [
        "<a href=\"https://colab.research.google.com/github/valenja9/Python_krouzek_pro_dospele/blob/main/Python_pro_dospele6.ipynb\" target=\"_parent\"><img src=\"https://colab.research.google.com/assets/colab-badge.svg\" alt=\"Open In Colab\"/></a>"
      ]
    },
    {
      "cell_type": "markdown",
      "metadata": {
        "id": "wbm6EqI4N19x"
      },
      "source": [
        "#Enumerate"
      ]
    },
    {
      "cell_type": "code",
      "metadata": {
        "colab": {
          "base_uri": "https://localhost:8080/"
        },
        "id": "L6uFSQfwN1QS",
        "outputId": "8104211c-6b93-4c61-944b-68d6a759e7a2"
      },
      "source": [
        "for i, znak in enumerate(\"ahoj\"):\r\n",
        "  print(i, znak)"
      ],
      "execution_count": 2,
      "outputs": [
        {
          "output_type": "stream",
          "text": [
            "0 a\n",
            "1 h\n",
            "2 o\n",
            "3 j\n"
          ],
          "name": "stdout"
        }
      ]
    },
    {
      "cell_type": "code",
      "metadata": {
        "id": "4CSGwHeiOHyF"
      },
      "source": [
        ""
      ],
      "execution_count": null,
      "outputs": []
    },
    {
      "cell_type": "code",
      "metadata": {
        "id": "K9yNUZY1NmRF"
      },
      "source": [
        "list_jmen = [\"Petr\"] * 4 + [\"karel\"] * 8 + [\"Jarmil\"] * 10 + [\"Vasek\"]"
      ],
      "execution_count": 29,
      "outputs": []
    },
    {
      "cell_type": "code",
      "metadata": {
        "id": "jBqw1D0RO-5i"
      },
      "source": [
        "#Jak zamichat?\r\n",
        "import random\r\n",
        "random.shuffle(list_jmen)"
      ],
      "execution_count": 24,
      "outputs": []
    },
    {
      "cell_type": "code",
      "metadata": {
        "colab": {
          "base_uri": "https://localhost:8080/"
        },
        "id": "1M2mXgIfPIuq",
        "outputId": "e1969657-0ea2-4d68-c14b-667a5969d347"
      },
      "source": [
        "#Kolikrat se tu v mem listu objevuje jake jmeno?\r\n",
        "list_jmen"
      ],
      "execution_count": 21,
      "outputs": [
        {
          "output_type": "execute_result",
          "data": {
            "text/plain": [
              "['karel',\n",
              " 'karel',\n",
              " 'Vasek',\n",
              " 'karel',\n",
              " 'Petr',\n",
              " 'Jarmil',\n",
              " 'Petr',\n",
              " 'karel',\n",
              " 'Petr',\n",
              " 'Jarmil',\n",
              " 'Jarmil',\n",
              " 'Jarmil',\n",
              " 'Jarmil',\n",
              " 'karel',\n",
              " 'Petr',\n",
              " 'karel',\n",
              " 'karel',\n",
              " 'Jarmil',\n",
              " 'Jarmil',\n",
              " 'Jarmil',\n",
              " 'Jarmil',\n",
              " 'Jarmil',\n",
              " 'karel']"
            ]
          },
          "metadata": {
            "tags": []
          },
          "execution_count": 21
        }
      ]
    },
    {
      "cell_type": "code",
      "metadata": {
        "colab": {
          "base_uri": "https://localhost:8080/"
        },
        "id": "8zDq2Cm-PXDr",
        "outputId": "a0e5a56e-15d3-4f35-d629-10fa8660cac0"
      },
      "source": [
        "slovnik_poctu = {}\r\n",
        "while list_jmen:\r\n",
        "  jmeno = list_jmen.pop()\r\n",
        "  if jmeno in slovnik_poctu:\r\n",
        "    slovnik_poctu[jmeno] = slovnik_poctu[jmeno] + 1\r\n",
        "  else:\r\n",
        "    slovnik_poctu[jmeno] = 1\r\n",
        "slovnik_poctu  "
      ],
      "execution_count": 22,
      "outputs": [
        {
          "output_type": "execute_result",
          "data": {
            "text/plain": [
              "{'Jarmil': 10, 'Petr': 4, 'Vasek': 1, 'karel': 8}"
            ]
          },
          "metadata": {
            "tags": []
          },
          "execution_count": 22
        }
      ]
    },
    {
      "cell_type": "code",
      "metadata": {
        "colab": {
          "base_uri": "https://localhost:8080/"
        },
        "id": "GEqkWEyjQTdB",
        "outputId": "f3fe7390-b70c-4add-84f7-ed0fba0d5261"
      },
      "source": [
        "x = 0\r\n",
        "slovnik = {}\r\n",
        "while x < len(list_jmen):\r\n",
        "  klic = list_jmen[x]\r\n",
        "  slovnik[klic] = slovnik.get(klic, 0) + 1\r\n",
        "  x += 1\r\n",
        "slovnik"
      ],
      "execution_count": 28,
      "outputs": [
        {
          "output_type": "execute_result",
          "data": {
            "text/plain": [
              "{'Jarmil': 10, 'Petr': 4, 'Vasek': 1, 'karel': 8}"
            ]
          },
          "metadata": {
            "tags": []
          },
          "execution_count": 28
        }
      ]
    },
    {
      "cell_type": "code",
      "metadata": {
        "colab": {
          "base_uri": "https://localhost:8080/"
        },
        "id": "Ty0B9dS8RFt3",
        "outputId": "c059e121-f749-416c-d861-5092be7423d0"
      },
      "source": [
        "for name in set(list_jmen):\r\n",
        "  print(name, list_jmen.count(name))"
      ],
      "execution_count": 30,
      "outputs": [
        {
          "output_type": "stream",
          "text": [
            "Petr 4\n",
            "Jarmil 10\n",
            "Vasek 1\n",
            "karel 8\n"
          ],
          "name": "stdout"
        }
      ]
    },
    {
      "cell_type": "code",
      "metadata": {
        "colab": {
          "base_uri": "https://localhost:8080/"
        },
        "id": "qhO6T3oMRjtQ",
        "outputId": "41b57fd3-2e30-4a0f-e580-617b28866dc9"
      },
      "source": [
        "list_tuplu = []\r\n",
        "for name in set(list_jmen):\r\n",
        "  list_tuplu.append((name, list_jmen.count(name)))\r\n",
        "dict(list_tuplu)"
      ],
      "execution_count": 34,
      "outputs": [
        {
          "output_type": "execute_result",
          "data": {
            "text/plain": [
              "{'Jarmil': 10, 'Petr': 4, 'Vasek': 1, 'karel': 8}"
            ]
          },
          "metadata": {
            "tags": []
          },
          "execution_count": 34
        }
      ]
    },
    {
      "cell_type": "code",
      "metadata": {
        "colab": {
          "base_uri": "https://localhost:8080/"
        },
        "id": "vblFm4WGSR17",
        "outputId": "3d6482c7-57e6-4cc4-80e6-86a23b7181ba"
      },
      "source": [
        "black_list = []\r\n",
        "slovnik = {}\r\n",
        "for name in list_jmen:\r\n",
        "  if name not in slovnik:\r\n",
        "    slovnik[name] = list_jmen.count(name)\r\n",
        "slovnik"
      ],
      "execution_count": 36,
      "outputs": [
        {
          "output_type": "execute_result",
          "data": {
            "text/plain": [
              "{'Jarmil': 10, 'Petr': 4, 'Vasek': 1, 'karel': 8}"
            ]
          },
          "metadata": {
            "tags": []
          },
          "execution_count": 36
        }
      ]
    },
    {
      "cell_type": "code",
      "metadata": {
        "id": "L6d9LykyS_yS"
      },
      "source": [
        ""
      ],
      "execution_count": null,
      "outputs": []
    },
    {
      "cell_type": "code",
      "metadata": {
        "id": "bkdf3TBeOTsq"
      },
      "source": [
        "text1 = \"\"\"In the past, I have been manually keying in the financial data for stocks into Excel and then generate charts to visualize the data. This has taken up a lot of time and it’s very prone to human error.\r\n",
        "Recently, I came to realize that Google Apps Script may be the rescue and possibly reduces all the manual work and thus automating the process of filling in financial data and generating charts.\"\"\"\r\n",
        "\r\n",
        "text2 = \"\"\"The above shows the entry point that prompts dialog to accept user’s input and further validate the input before calling the API to retrieve the stock price quote. The first prompts for the stock code, followed by the time series (whether it’s 1-min, 5-min, 15-min, hourly or daily) and the number of data points. As the number of data points that will be returned can go up to thousands and this will result in very slow Google Sheet, we are adding this field with a warning to indicate that high number can cause slowness.\"\"\"\r\n",
        "\r\n",
        "# pro vsechny texty vytvor slovnik, ve kterem bude slovnik:\r\n",
        "# 1) Poctu jednotlivych slov, \r\n",
        "# 2) List slov zacinajici na \"b\" \r\n",
        "# 3) Pocet slov s delkou 4.\r\n",
        "# 4) Moznost vyberu pismena a delky slova"
      ],
      "execution_count": null,
      "outputs": []
    },
    {
      "cell_type": "markdown",
      "metadata": {
        "id": "UK6esIyQOiel"
      },
      "source": [
        "# Úkol"
      ]
    },
    {
      "cell_type": "code",
      "metadata": {
        "id": "L-rHjmHfOVN1"
      },
      "source": [
        "#do slovniku doplnte analyzu delky vsech slov a pismen."
      ],
      "execution_count": null,
      "outputs": []
    }
  ]
}