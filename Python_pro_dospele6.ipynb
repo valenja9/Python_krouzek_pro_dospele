{
  "nbformat": 4,
  "nbformat_minor": 0,
  "metadata": {
    "colab": {
      "name": "Python_pro_dospele6.ipynb",
      "provenance": [],
      "authorship_tag": "ABX9TyPorDDUz/4PAU9AmMOjt9sT",
      "include_colab_link": true
    },
    "kernelspec": {
      "name": "python3",
      "display_name": "Python 3"
    }
  },
  "cells": [
    {
      "cell_type": "markdown",
      "metadata": {
        "id": "view-in-github",
        "colab_type": "text"
      },
      "source": [
        "<a href=\"https://colab.research.google.com/github/valenja9/Python_krouzek_pro_dospele/blob/main/Python_pro_dospele6.ipynb\" target=\"_parent\"><img src=\"https://colab.research.google.com/assets/colab-badge.svg\" alt=\"Open In Colab\"/></a>"
      ]
    },
    {
      "cell_type": "markdown",
      "metadata": {
        "id": "wbm6EqI4N19x"
      },
      "source": [
        "#Enumerate"
      ]
    },
    {
      "cell_type": "code",
      "metadata": {
        "colab": {
          "base_uri": "https://localhost:8080/"
        },
        "id": "7bNFTXQCZ-SF",
        "outputId": "64b6f78b-3f60-4963-f257-8c8034df57df"
      },
      "source": [
        "list(enumerate([1,4,6,7],5))"
      ],
      "execution_count": null,
      "outputs": [
        {
          "output_type": "execute_result",
          "data": {
            "text/plain": [
              "[(5, 1), (6, 4), (7, 6), (8, 7)]"
            ]
          },
          "metadata": {
            "tags": []
          },
          "execution_count": 47
        }
      ]
    },
    {
      "cell_type": "code",
      "metadata": {
        "colab": {
          "base_uri": "https://localhost:8080/"
        },
        "id": "9NIvJifwaaXf",
        "outputId": "3815923c-ece5-4d2b-fc32-391cbb38d4f9"
      },
      "source": [
        "dict(enumerate([1,4,6,7]))"
      ],
      "execution_count": null,
      "outputs": [
        {
          "output_type": "execute_result",
          "data": {
            "text/plain": [
              "{0: 1, 1: 4, 2: 6, 3: 7}"
            ]
          },
          "metadata": {
            "tags": []
          },
          "execution_count": 45
        }
      ]
    },
    {
      "cell_type": "code",
      "metadata": {
        "colab": {
          "base_uri": "https://localhost:8080/"
        },
        "id": "KBBNY9NUZPqH",
        "outputId": "4cb546d3-ed7d-4dfe-a62f-dd34140b4699"
      },
      "source": [
        "list(enumerate(\"ahoj\"))"
      ],
      "execution_count": null,
      "outputs": [
        {
          "output_type": "execute_result",
          "data": {
            "text/plain": [
              "[(0, 'a'), (1, 'h'), (2, 'o'), (3, 'j')]"
            ]
          },
          "metadata": {
            "tags": []
          },
          "execution_count": 43
        }
      ]
    },
    {
      "cell_type": "code",
      "metadata": {
        "colab": {
          "base_uri": "https://localhost:8080/"
        },
        "id": "L6uFSQfwN1QS",
        "outputId": "720421e6-e153-4ef7-f8d1-6e54d5b6195d"
      },
      "source": [
        "for i, znak in enumerate(\"ahoj\"):\r\n",
        "  print(i, znak)"
      ],
      "execution_count": null,
      "outputs": [
        {
          "output_type": "stream",
          "text": [
            "0 a\n",
            "1 h\n",
            "2 o\n",
            "3 j\n"
          ],
          "name": "stdout"
        }
      ]
    },
    {
      "cell_type": "code",
      "metadata": {
        "id": "4CSGwHeiOHyF"
      },
      "source": [
        ""
      ],
      "execution_count": null,
      "outputs": []
    },
    {
      "cell_type": "code",
      "metadata": {
        "id": "K9yNUZY1NmRF"
      },
      "source": [
        "list_jmen = [\"Petr\"] * 4 + [\"karel\"] * 8 + [\"Jarmil\"] * 10 + [\"Vasek\"]"
      ],
      "execution_count": null,
      "outputs": []
    },
    {
      "cell_type": "code",
      "metadata": {
        "colab": {
          "base_uri": "https://localhost:8080/"
        },
        "id": "IyYNoyOIa42d",
        "outputId": "98cbd8fa-25b5-4849-f21c-b04b22b08fcf"
      },
      "source": [
        "print(list_jmen)"
      ],
      "execution_count": null,
      "outputs": [
        {
          "output_type": "stream",
          "text": [
            "['Petr', 'Petr', 'Petr', 'Petr', 'karel', 'karel', 'karel', 'karel', 'karel', 'karel', 'karel', 'karel', 'Jarmil', 'Jarmil', 'Jarmil', 'Jarmil', 'Jarmil', 'Jarmil', 'Jarmil', 'Jarmil', 'Jarmil', 'Jarmil', 'Vasek']\n"
          ],
          "name": "stdout"
        }
      ]
    },
    {
      "cell_type": "code",
      "metadata": {
        "id": "jBqw1D0RO-5i"
      },
      "source": [
        "#Jak zamichat?\r\n",
        "import random #je treba import \r\n",
        "random.shuffle(list_jmen)"
      ],
      "execution_count": null,
      "outputs": []
    },
    {
      "cell_type": "code",
      "metadata": {
        "colab": {
          "base_uri": "https://localhost:8080/"
        },
        "id": "1M2mXgIfPIuq",
        "outputId": "1d56f98e-ca9c-4af6-929a-4dd6d0221140"
      },
      "source": [
        "#Kolikrat se tu v mem listu objevuje jake jmeno?\r\n",
        "print(list_jmen)"
      ],
      "execution_count": null,
      "outputs": [
        {
          "output_type": "stream",
          "text": [
            "[]\n"
          ],
          "name": "stdout"
        }
      ]
    },
    {
      "cell_type": "code",
      "metadata": {
        "colab": {
          "base_uri": "https://localhost:8080/"
        },
        "id": "8zDq2Cm-PXDr",
        "outputId": "6a634ed4-9b62-4814-a6eb-7fe1fd11860b"
      },
      "source": [
        "slovnik_poctu = {}\r\n",
        "while list_jmen:\r\n",
        "  jmeno = list_jmen.pop()\r\n",
        "  if jmeno in slovnik_poctu:\r\n",
        "    slovnik_poctu[jmeno] = slovnik_poctu[jmeno] + 1\r\n",
        "  else:\r\n",
        "    slovnik_poctu[jmeno] = 1\r\n",
        "slovnik_poctu  "
      ],
      "execution_count": null,
      "outputs": [
        {
          "output_type": "execute_result",
          "data": {
            "text/plain": [
              "{'Jarmil': 10, 'Petr': 4, 'Vasek': 1, 'karel': 8}"
            ]
          },
          "metadata": {
            "tags": []
          },
          "execution_count": 57
        }
      ]
    },
    {
      "cell_type": "code",
      "metadata": {
        "colab": {
          "base_uri": "https://localhost:8080/"
        },
        "id": "GEqkWEyjQTdB",
        "outputId": "f657eedd-a31c-4e0c-8e8b-a56ab5bacc52"
      },
      "source": [
        "x = 0\r\n",
        "slovnik = {}\r\n",
        "while x < len(list_jmen):\r\n",
        "  klic = list_jmen[x]\r\n",
        "  slovnik[klic] = slovnik.get(klic, 0) + 1\r\n",
        "  x += 1\r\n",
        "slovnik"
      ],
      "execution_count": null,
      "outputs": [
        {
          "output_type": "execute_result",
          "data": {
            "text/plain": [
              "{'Jarmil': 10, 'Petr': 4, 'Vasek': 1, 'karel': 8}"
            ]
          },
          "metadata": {
            "tags": []
          },
          "execution_count": 60
        }
      ]
    },
    {
      "cell_type": "code",
      "metadata": {
        "colab": {
          "base_uri": "https://localhost:8080/"
        },
        "id": "Ty0B9dS8RFt3",
        "outputId": "f2176ea6-73b5-47e7-d2b7-2476b9a3496e"
      },
      "source": [
        "for name in set(list_jmen):\r\n",
        "  print(name, list_jmen.count(name))"
      ],
      "execution_count": null,
      "outputs": [
        {
          "output_type": "stream",
          "text": [
            "Petr 4\n",
            "Jarmil 10\n",
            "Vasek 1\n",
            "karel 8\n"
          ],
          "name": "stdout"
        }
      ]
    },
    {
      "cell_type": "code",
      "metadata": {
        "colab": {
          "base_uri": "https://localhost:8080/"
        },
        "id": "qhO6T3oMRjtQ",
        "outputId": "41b57fd3-2e30-4a0f-e580-617b28866dc9"
      },
      "source": [
        "list_tuplu = []\r\n",
        "for name in set(list_jmen):\r\n",
        "  list_tuplu.append((name, list_jmen.count(name)))\r\n",
        "dict(list_tuplu)"
      ],
      "execution_count": null,
      "outputs": [
        {
          "output_type": "execute_result",
          "data": {
            "text/plain": [
              "{'Jarmil': 10, 'Petr': 4, 'Vasek': 1, 'karel': 8}"
            ]
          },
          "metadata": {
            "tags": []
          },
          "execution_count": 34
        }
      ]
    },
    {
      "cell_type": "code",
      "metadata": {
        "colab": {
          "base_uri": "https://localhost:8080/"
        },
        "id": "vblFm4WGSR17",
        "outputId": "3d6482c7-57e6-4cc4-80e6-86a23b7181ba"
      },
      "source": [
        "black_list = []\r\n",
        "slovnik = {}\r\n",
        "for name in list_jmen:\r\n",
        "  if name not in slovnik:\r\n",
        "    slovnik[name] = list_jmen.count(name)\r\n",
        "slovnik"
      ],
      "execution_count": null,
      "outputs": [
        {
          "output_type": "execute_result",
          "data": {
            "text/plain": [
              "{'Jarmil': 10, 'Petr': 4, 'Vasek': 1, 'karel': 8}"
            ]
          },
          "metadata": {
            "tags": []
          },
          "execution_count": 36
        }
      ]
    },
    {
      "cell_type": "code",
      "metadata": {
        "id": "L6d9LykyS_yS"
      },
      "source": [
        ""
      ],
      "execution_count": null,
      "outputs": []
    },
    {
      "cell_type": "code",
      "metadata": {
        "id": "bkdf3TBeOTsq"
      },
      "source": [
        "text1 = \"\"\"In the past, I have been manually keying in the financial data for stocks into Excel and then generate charts to visualize the data. This has taken up a lot of time and it’s very prone to human error.\r\n",
        "Recently, I came to realize that Google Apps Script may be the rescue and possibly reduces all the manual work and thus automating the process of filling in financial data and generating charts.\"\"\"\r\n",
        "\r\n",
        "text2 = \"\"\"The above shows the entry point that prompts dialog to accept user’s input and further validate the input before calling the API to retrieve the stock price quote. The first prompts for the stock code, followed by the time series (whether it’s 1-min, 5-min, 15-min, hourly or daily) and the number of data points. As the number of data points that will be returned can go up to thousands and this will result in very slow Google Sheet, we are adding this field with a warning to indicate that high number can cause slowness.\"\"\"\r\n",
        "\r\n",
        "# pro vsechny texty vytvor slovnik, ve kterem bude slovnik:\r\n",
        "# 1) Poctu jednotlivych slov, \r\n",
        "# 2) List slov zacinajici na \"b\" \r\n",
        "# 3) Pocet slov s delkou 4.\r\n",
        "# 4) Moznost vyberu pismena a delky slova"
      ],
      "execution_count": null,
      "outputs": []
    },
    {
      "cell_type": "code",
      "metadata": {
        "colab": {
          "base_uri": "https://localhost:8080/"
        },
        "id": "lXfBaRlchc0P",
        "outputId": "3aaad040-6686-418b-ad7a-45906b069588"
      },
      "source": [
        "text.split(\" \")"
      ],
      "execution_count": null,
      "outputs": [
        {
          "output_type": "execute_result",
          "data": {
            "text/plain": [
              "['The',\n",
              " 'above',\n",
              " 'shows',\n",
              " 'the',\n",
              " 'entry',\n",
              " 'point',\n",
              " 'that',\n",
              " 'prompts',\n",
              " 'dialog',\n",
              " 'to',\n",
              " 'accept',\n",
              " 'user’s',\n",
              " 'input',\n",
              " 'and',\n",
              " 'further',\n",
              " 'validate',\n",
              " 'the',\n",
              " 'input',\n",
              " 'before',\n",
              " 'calling',\n",
              " 'the',\n",
              " 'API',\n",
              " 'to',\n",
              " 'retrieve',\n",
              " 'the',\n",
              " 'stock',\n",
              " 'price',\n",
              " 'quote.',\n",
              " 'The',\n",
              " 'first',\n",
              " 'prompts',\n",
              " 'for',\n",
              " 'the',\n",
              " 'stock',\n",
              " 'code,',\n",
              " 'followed',\n",
              " 'by',\n",
              " 'the',\n",
              " 'time',\n",
              " 'series',\n",
              " '(whether',\n",
              " 'it’s',\n",
              " '1-min,',\n",
              " '5-min,',\n",
              " '15-min,',\n",
              " 'hourly',\n",
              " 'or',\n",
              " 'daily)',\n",
              " 'and',\n",
              " 'the',\n",
              " 'number',\n",
              " 'of',\n",
              " 'data',\n",
              " 'points.',\n",
              " 'As',\n",
              " 'the',\n",
              " 'number',\n",
              " 'of',\n",
              " 'data',\n",
              " 'points',\n",
              " 'that',\n",
              " 'will',\n",
              " 'be',\n",
              " 'returned',\n",
              " 'can',\n",
              " 'go',\n",
              " 'up',\n",
              " 'to',\n",
              " 'thousands',\n",
              " 'and',\n",
              " 'this',\n",
              " 'will',\n",
              " 'result',\n",
              " 'in',\n",
              " 'very',\n",
              " 'slow',\n",
              " 'Google',\n",
              " 'Sheet,',\n",
              " 'we',\n",
              " 'are',\n",
              " 'adding',\n",
              " 'this',\n",
              " 'field',\n",
              " 'with',\n",
              " 'a',\n",
              " 'warning',\n",
              " 'to',\n",
              " 'indicate',\n",
              " 'that',\n",
              " 'high',\n",
              " 'number',\n",
              " 'can',\n",
              " 'cause',\n",
              " 'slowness.']"
            ]
          },
          "metadata": {
            "tags": []
          },
          "execution_count": 65
        }
      ]
    },
    {
      "cell_type": "code",
      "metadata": {
        "id": "_8nfCpr3gdk3"
      },
      "source": [
        "slovnik = {}\r\n",
        "for i, text in enumerate((text1, text2)):\r\n",
        "  #Ocisteni slov\r\n",
        "  ocisteny_list_slov = []\r\n",
        "  for slovo in text.split(\" \"):\r\n",
        "    ocisteny_list_slov.append(slovo.strip(\",.!?()\"))\r\n",
        "  #Tenhle kod resi pocet slov s urcitim pismenem\r\n",
        "  pocet_slov_zacinajicich_na_pismeno = 0\r\n",
        "  for slovo in ocisteny_list_slov:\r\n",
        "    if slovo[0] == \"g\":\r\n",
        "     pocet_slov_zacinajicich_na_pismeno +=1\r\n",
        "  #Slova ktera maji urcitou delku\r\n",
        "  pocecet_slov_s_urcitou_delkou = 0\r\n",
        "  pocecet_slov_s_urcitou_delkou_6 = 0\r\n",
        "  for slovo in ocisteny_list_slov:\r\n",
        "    if len(slovo) == 4:\r\n",
        "      pocecet_slov_s_urcitou_delkou = pocecet_slov_s_urcitou_delkou + 1\r\n",
        "    elif len(slovo) == 6\r\n",
        "      pocecet_slov_s_urcitou_delkou_6 += 1\r\n",
        "\r\n",
        "\r\n",
        "  slovnik[f\"text{i}\"] = {\"pocet_slov\": len(ocisteny_list_slov), \r\n",
        "                         \"pocet_slov_zacinajicich_na_pismeno\":pocet_slov_zacinajicich_na_pismeno, \r\n",
        "                         \"pocecet_slov_s_urcitou_delkou\" : pocecet_slov_s_urcitou_delkou}\r\n",
        "  "
      ],
      "execution_count": null,
      "outputs": []
    },
    {
      "cell_type": "code",
      "metadata": {
        "colab": {
          "base_uri": "https://localhost:8080/"
        },
        "id": "ZS52WP2liMWp",
        "outputId": "569ffb65-5ad8-4068-e39d-04ddcb0e080b"
      },
      "source": [
        "slovnik"
      ],
      "execution_count": null,
      "outputs": [
        {
          "output_type": "execute_result",
          "data": {
            "text/plain": [
              "{'text0': {'pocecet_slov_s_urcitou_delkou': 17,\n",
              "  'pocet_slov': 71,\n",
              "  'pocet_slov_zacinajicich_na_pismeno': 2},\n",
              " 'text1': {'pocecet_slov_s_urcitou_delkou': 16,\n",
              "  'pocet_slov': 94,\n",
              "  'pocet_slov_zacinajicich_na_pismeno': 1}}"
            ]
          },
          "metadata": {
            "tags": []
          },
          "execution_count": 77
        }
      ]
    },
    {
      "cell_type": "markdown",
      "metadata": {
        "id": "UK6esIyQOiel"
      },
      "source": [
        "# Úkol"
      ]
    },
    {
      "cell_type": "code",
      "metadata": {
        "id": "L-rHjmHfOVN1"
      },
      "source": [
        "#do slovniku doplnte analyzu delky vsech slov a slov zacinajicich na urcita pismena."
      ],
      "execution_count": null,
      "outputs": []
    }
  ]
}