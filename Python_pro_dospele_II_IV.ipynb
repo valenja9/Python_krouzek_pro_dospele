{
  "nbformat": 4,
  "nbformat_minor": 0,
  "metadata": {
    "colab": {
      "name": "Python_pro_dospele_II_IV.ipynb",
      "provenance": [],
      "authorship_tag": "ABX9TyNuz3Owebkvs16PAv+5uzS0",
      "include_colab_link": true
    },
    "kernelspec": {
      "name": "python3",
      "display_name": "Python 3"
    },
    "language_info": {
      "name": "python"
    }
  },
  "cells": [
    {
      "cell_type": "markdown",
      "metadata": {
        "id": "view-in-github",
        "colab_type": "text"
      },
      "source": [
        "<a href=\"https://colab.research.google.com/github/valenja9/Python_krouzek_pro_dospele/blob/main/Python_pro_dospele_II_IV.ipynb\" target=\"_parent\"><img src=\"https://colab.research.google.com/assets/colab-badge.svg\" alt=\"Open In Colab\"/></a>"
      ]
    },
    {
      "cell_type": "code",
      "metadata": {
        "id": "DHiQgHZEmrFA"
      },
      "source": [
        "#hraji šachy\n",
        "for tah in range(40):\n",
        "  while True:\n",
        "    figurka = input(\"Vyber figurku¨: \")\n",
        "    souradnice = input(\"Vyber souradnice(x,y): \").split()\n",
        "\n",
        "    \n"
      ],
      "execution_count": null,
      "outputs": []
    },
    {
      "cell_type": "code",
      "metadata": {
        "colab": {
          "base_uri": "https://localhost:8080/"
        },
        "id": "lBNzoz17o-fm",
        "outputId": "9a21d150-7431-407b-8972-627392d89fb6"
      },
      "source": [
        "#nevim kolik budu resit tahu\n",
        "hra_pokracuje = True\n",
        "while hra_pokracuje:\n",
        "  \n",
        "  while True:\n",
        "    figurka = input(\"Vyber figurku¨: \")\n",
        "    souradnice = input(\"Vyber souradnice(x,y): \").split()\n",
        "    break\n",
        "  \n",
        "  hra_pokracuje = input(\"Pokud chceš pokračovat tak něco zadej. Jinak se hra ukončí: \")\n",
        "print(\"Hra ukoncena\")     "
      ],
      "execution_count": null,
      "outputs": [
        {
          "output_type": "stream",
          "text": [
            "Vyber figurku¨: kun\n",
            "Vyber souradnice(x,y): a 5\n",
            "Pokud chceš pokračovat tak něco zadej. Jinak se hra ukončí: a\n",
            "Vyber figurku¨: strelec\n",
            "Vyber souradnice(x,y): b 6\n",
            "Pokud chceš pokračovat tak něco zadej. Jinak se hra ukončí: \n"
          ],
          "name": "stdout"
        }
      ]
    },
    {
      "cell_type": "code",
      "metadata": {
        "id": "muJilos_phI4"
      },
      "source": [
        "[],(),\"\""
      ],
      "execution_count": null,
      "outputs": []
    },
    {
      "cell_type": "code",
      "metadata": {
        "colab": {
          "base_uri": "https://localhost:8080/"
        },
        "id": "QNzXlkDxqhq_",
        "outputId": "e325e300-8c20-4787-c6f4-708f12299a68"
      },
      "source": [
        "\n",
        "while True:\n",
        "  \n",
        "  while True:\n",
        "    figurka = input(\"Vyber figurku¨: \")\n",
        "    souradnice = input(\"Vyber souradnice(x,y): \").split()\n",
        "    break\n",
        "  \n",
        "  hra_pokracuje = input(\"Pokud chceš pokračovat tak něco zadej, jinak se hra ukončí: \")\n",
        "  if bool(hra_pokracuje) == False:\n",
        "    break\n",
        "print(\"Hra ukoncena\")     "
      ],
      "execution_count": null,
      "outputs": [
        {
          "output_type": "stream",
          "text": [
            "Vyber figurku¨: \n",
            "Vyber souradnice(x,y): \n",
            "Pokud chceš pokračovat tak něco zadej, jinak se hra ukončí: \n",
            "Hra ukoncena\n"
          ],
          "name": "stdout"
        }
      ]
    },
    {
      "cell_type": "code",
      "metadata": {
        "colab": {
          "base_uri": "https://localhost:8080/"
        },
        "id": "ngtEg2KPrX-I",
        "outputId": "ee00758d-5628-4f98-be3c-99c7e75e17a4"
      },
      "source": [
        "list(range(6,2,-1))"
      ],
      "execution_count": null,
      "outputs": [
        {
          "output_type": "execute_result",
          "data": {
            "text/plain": [
              "[6, 5, 4, 3]"
            ]
          },
          "metadata": {
            "tags": []
          },
          "execution_count": 12
        }
      ]
    },
    {
      "cell_type": "code",
      "metadata": {
        "colab": {
          "base_uri": "https://localhost:8080/"
        },
        "id": "kyBygAhKr4fr",
        "outputId": "6459d575-1f84-4836-e563-31d5c4edc7ff"
      },
      "source": [
        "list(range(10,2,-1))"
      ],
      "execution_count": null,
      "outputs": [
        {
          "output_type": "execute_result",
          "data": {
            "text/plain": [
              "[10, 9, 8, 7, 6, 5, 4, 3]"
            ]
          },
          "metadata": {
            "tags": []
          },
          "execution_count": 13
        }
      ]
    },
    {
      "cell_type": "code",
      "metadata": {
        "colab": {
          "base_uri": "https://localhost:8080/"
        },
        "id": "hLE5M0HlsTlS",
        "outputId": "b2a885d7-0102-46b0-daba-05c2024a07cb"
      },
      "source": [
        "for i in range(8):\n",
        "  print(\"#*\" * 4)\n"
      ],
      "execution_count": null,
      "outputs": [
        {
          "output_type": "stream",
          "text": [
            "#*#*#*#*\n",
            "#*#*#*#*\n",
            "#*#*#*#*\n",
            "#*#*#*#*\n",
            "#*#*#*#*\n",
            "#*#*#*#*\n",
            "#*#*#*#*\n",
            "#*#*#*#*\n"
          ],
          "name": "stdout"
        }
      ]
    },
    {
      "cell_type": "code",
      "metadata": {
        "id": "EJhdTRqcvYBc"
      },
      "source": [
        "neco = \"\"\n"
      ],
      "execution_count": null,
      "outputs": []
    },
    {
      "cell_type": "code",
      "metadata": {
        "id": "ax3OHrHGvb9P"
      },
      "source": [
        "neco."
      ],
      "execution_count": null,
      "outputs": []
    },
    {
      "cell_type": "code",
      "metadata": {
        "colab": {
          "base_uri": "https://localhost:8080/"
        },
        "id": "k4sd0L1mszbr",
        "outputId": "866d77d0-e1b8-4776-fde5-be23e32c5231"
      },
      "source": [
        "#skola\n",
        "list_deti_na_p = []\n",
        "# skola = range(20)\n",
        "pismeno = \"P\"\n",
        "#            1.B                          1.C    \n",
        "skola = [[\"Karel\", \"Radim\", \"Petra\"], [\"Vikroria\", \"Ota\", \"Petr\"]]\n",
        "for trida in skola:\n",
        "  for zak in trida:\n",
        "    if zak.startswith(pismeno):\n",
        "      print(\"Pridam zaka: \", zak)\n",
        "      list_deti_na_p.append(zak)\n",
        "    else:\n",
        "      print(\"Tento zak nezacina zvolenym pismenem!\")"
      ],
      "execution_count": null,
      "outputs": [
        {
          "output_type": "stream",
          "text": [
            "Tento zak nezacina zvolenym pismenem!\n",
            "Tento zak nezacina zvolenym pismenem!\n",
            "Pridam zaka:  Petra\n",
            "Tento zak nezacina zvolenym pismenem!\n",
            "Tento zak nezacina zvolenym pismenem!\n",
            "Pridam zaka:  Petr\n"
          ],
          "name": "stdout"
        }
      ]
    },
    {
      "cell_type": "code",
      "metadata": {
        "colab": {
          "base_uri": "https://localhost:8080/"
        },
        "id": "c7b91WTwvq9U",
        "outputId": "db04b7f2-eebd-4893-dc8a-b7751a016402"
      },
      "source": [
        "list_deti_na_p"
      ],
      "execution_count": null,
      "outputs": [
        {
          "output_type": "execute_result",
          "data": {
            "text/plain": [
              "['Petra', 'Petr']"
            ]
          },
          "metadata": {
            "tags": []
          },
          "execution_count": 24
        }
      ]
    },
    {
      "cell_type": "code",
      "metadata": {
        "colab": {
          "base_uri": "https://localhost:8080/"
        },
        "id": "b6mRZS-lv42l",
        "outputId": "ff9c0ea3-882b-4afc-9188-7240875ad8a9"
      },
      "source": [
        "#skola\n",
        "list_deti_na_p = []\n",
        "pismeno = \"P\"\n",
        "#            1.B                          1.C    \n",
        "skola_tridy = [[\"Karel\", \"Radim\", \"Petra\"], [\"Vikroria\", \"Ota\", \"Petr\"]]\n",
        "skola = range(len(skola_tridy))#osetreni stejne delky jako ma skola_tridy\n",
        "for i in skola:\n",
        "  for zak in skola_tridy[i]:\n",
        "    if zak.startswith(pismeno):\n",
        "      print(\"Pridam zaka: \", zak)\n",
        "      list_deti_na_p.append(zak)\n",
        "    else:\n",
        "      print(\"Tento zak nezacina zvolenym pismenem!\")"
      ],
      "execution_count": null,
      "outputs": [
        {
          "output_type": "stream",
          "text": [
            "Tento zak nezacina zvolenym pismenem!\n",
            "Tento zak nezacina zvolenym pismenem!\n",
            "Pridam zaka:  Petra\n",
            "Tento zak nezacina zvolenym pismenem!\n",
            "Tento zak nezacina zvolenym pismenem!\n",
            "Pridam zaka:  Petr\n"
          ],
          "name": "stdout"
        }
      ]
    },
    {
      "cell_type": "code",
      "metadata": {
        "id": "jdxLCIXFwolN"
      },
      "source": [
        "skoly_v_cr = [\n",
        "              [\n",
        "               [\"Karel\", \"Radim\", \"Petra\"], \n",
        "               [\"Vikroria\", \"Ota\", \"Petr\"]\n",
        "              ], \n",
        "              [[\"Karel\", \"Radim\", \"Petra\"], \n",
        "              [\"Vikroria\", \"Ota\", \"Petr\"]]\n",
        "]"
      ],
      "execution_count": null,
      "outputs": []
    },
    {
      "cell_type": "code",
      "metadata": {
        "colab": {
          "base_uri": "https://localhost:8080/"
        },
        "id": "Fy2xF3oWxpj1",
        "outputId": "c6c78df4-65b4-478d-932e-699d6a390006"
      },
      "source": [
        "skoly_v_cr"
      ],
      "execution_count": null,
      "outputs": [
        {
          "output_type": "execute_result",
          "data": {
            "text/plain": [
              "[[['Karel', 'Radim', 'Petra'], ['Vikroria', 'Ota', 'Petr']],\n",
              " [['Karel', 'Radim', 'Petra'], ['Vikroria', 'Ota', 'Petr']]]"
            ]
          },
          "metadata": {
            "tags": []
          },
          "execution_count": 13
        }
      ]
    },
    {
      "cell_type": "code",
      "metadata": {
        "colab": {
          "base_uri": "https://localhost:8080/"
        },
        "id": "brU3pWTKw_lN",
        "outputId": "3371d8d3-8d81-451e-aac3-21f306069dcb"
      },
      "source": [
        "for skola in skoly_v_cr:\n",
        "  for trida in skola:\n",
        "    # print(trida)\n",
        "    for zak in trida:\n",
        "      print(zak)"
      ],
      "execution_count": null,
      "outputs": [
        {
          "output_type": "stream",
          "text": [
            "Karel\n",
            "Radim\n",
            "Petra\n",
            "Vikroria\n",
            "Ota\n",
            "Petr\n",
            "Karel\n",
            "Radim\n",
            "Petra\n",
            "Vikroria\n",
            "Ota\n",
            "Petr\n"
          ],
          "name": "stdout"
        }
      ]
    },
    {
      "cell_type": "code",
      "metadata": {
        "colab": {
          "base_uri": "https://localhost:8080/"
        },
        "id": "FfCvroiMzbsl",
        "outputId": "61c3f8d2-9f7f-444f-82ad-dcebb9c3875d"
      },
      "source": [
        "def muj_vlastni_split(vstupni_text: str) -> list:\n",
        "  moje_rozdelovaci_znaky = \",.!?\"\n",
        "  for znak in moje_rozdelovaci_znaky:\n",
        "     vstupni_text = vstupni_text.replace(znak, \"*\")\n",
        "  print(vstupni_text.split(\"*\"))\n",
        "muj_vlastni_split(\"Ahoj, jak se tu mate? Dneska je to docela nuda! Tak se to snad zlepsi.\")"
      ],
      "execution_count": null,
      "outputs": [
        {
          "output_type": "stream",
          "text": [
            "['Ahoj', ' jak se tu mate', ' Dneska je to docela nuda', ' Tak se to snad zlepsi', '']\n"
          ],
          "name": "stdout"
        }
      ]
    },
    {
      "cell_type": "code",
      "metadata": {
        "colab": {
          "base_uri": "https://localhost:8080/"
        },
        "id": "lbzWLLbXx-6f",
        "outputId": "f5a3b29a-0fa7-42c7-bf8e-9b3b45b5cc24"
      },
      "source": [
        "texty = [\"Ahoj jak se dneska mas?\", \"Dneska to neni dobre protoze porad nekdo chce abych programoval.\"]\n",
        "for text in texty:\n",
        "  veta = f\"{text} \".split()\n",
        "  for slovo in veta:\n",
        "    for pismeno in slovo:\n",
        "      print(pismeno)"
      ],
      "execution_count": null,
      "outputs": [
        {
          "output_type": "stream",
          "text": [
            "A\n",
            "h\n",
            "o\n",
            "j\n",
            "j\n",
            "a\n",
            "k\n",
            "s\n",
            "e\n",
            "d\n",
            "n\n",
            "e\n",
            "s\n",
            "k\n",
            "a\n",
            "m\n",
            "a\n",
            "s\n",
            "?\n",
            "D\n",
            "n\n",
            "e\n",
            "s\n",
            "k\n",
            "a\n",
            "t\n",
            "o\n",
            "n\n",
            "e\n",
            "n\n",
            "i\n",
            "d\n",
            "o\n",
            "b\n",
            "r\n",
            "e\n",
            "p\n",
            "r\n",
            "o\n",
            "t\n",
            "o\n",
            "z\n",
            "e\n",
            "p\n",
            "o\n",
            "r\n",
            "a\n",
            "d\n",
            "n\n",
            "e\n",
            "k\n",
            "d\n",
            "o\n",
            "c\n",
            "h\n",
            "c\n",
            "e\n",
            "a\n",
            "b\n",
            "y\n",
            "c\n",
            "h\n",
            "p\n",
            "r\n",
            "o\n",
            "g\n",
            "r\n",
            "a\n",
            "m\n",
            "o\n",
            "v\n",
            "a\n",
            "l\n",
            ".\n"
          ],
          "name": "stdout"
        }
      ]
    }
  ]
}