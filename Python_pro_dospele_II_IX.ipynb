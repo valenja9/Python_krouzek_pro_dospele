{
  "nbformat": 4,
  "nbformat_minor": 0,
  "metadata": {
    "colab": {
      "name": "Python_pro_dospele_II_IX.ipynb",
      "provenance": [],
      "authorship_tag": "ABX9TyNFgPd6j43ii0nupBNSlNxP",
      "include_colab_link": true
    },
    "kernelspec": {
      "name": "python3",
      "display_name": "Python 3"
    },
    "language_info": {
      "name": "python"
    }
  },
  "cells": [
    {
      "cell_type": "markdown",
      "metadata": {
        "id": "view-in-github",
        "colab_type": "text"
      },
      "source": [
        "<a href=\"https://colab.research.google.com/github/valenja9/Python_krouzek_pro_dospele/blob/main/Python_pro_dospele_II_IX.ipynb\" target=\"_parent\"><img src=\"https://colab.research.google.com/assets/colab-badge.svg\" alt=\"Open In Colab\"/></a>"
      ]
    },
    {
      "cell_type": "code",
      "metadata": {
        "id": "w8-rARm4h2dZ"
      },
      "source": [
        "import csv\n",
        "header = ['Surname', 'Name', 'Full Name', 'Age', 'City', 'Job', 'Gender']\n",
        "data = [['Smith', 'John', 'Smith, John', '32', 'London', 'Programmer', ''],\n",
        "        ['Doe', 'Joe', 'Doe, Joe', '34', 'Liverpool', '', 'Male'],\n",
        "        ['Murphy', 'Ann', 'Murphy, Ann', '29', 'London', 'Admin', 'Female'],\n",
        "        ['Cook', 'Floyd', 'Cook, Floyd', '28', '', 'Tester', 'Male'],\n",
        "        ['Glenn', 'Taylor', 'Glenn, Taylor', '35', 'Birmingham', 'Manager', 'Female'],\n",
        "        ['Mills', 'Amanda', 'Mills, Amanda', '41', 'Leicester', 'Quality Assurance', 'Female']]"
      ],
      "execution_count": 2,
      "outputs": []
    },
    {
      "cell_type": "code",
      "metadata": {
        "id": "iAkQTPy-jXym"
      },
      "source": [
        "with open(\"example.csv\", mode=\"w\", encoding=\"utf-8\") as f:\n",
        "   f_writer = csv.writer(f)\n",
        "   f_writer.writerow(header)\n",
        "   f_writer.writerows(data)\n",
        "   print(\"Vytvoril jsem soubor se jmenem: example.csv\")"
      ],
      "execution_count": 3,
      "outputs": []
    },
    {
      "cell_type": "code",
      "metadata": {
        "colab": {
          "base_uri": "https://localhost:8080/"
        },
        "id": "7tsbs-TSk0Kt",
        "outputId": "6d17ce8b-f263-4c2c-d86a-2b890a8f0a2a"
      },
      "source": [
        "with open(\"example.csv\", mode=\"r\", newline=\"\", encoding=\"utf-8\") as f:\n",
        "   d_reader = csv.DictReader(f)\n",
        "   for d in d_reader:\n",
        "    print(dict(d)[\"Surname\"])"
      ],
      "execution_count": 9,
      "outputs": [
        {
          "output_type": "stream",
          "text": [
            "Smith\n",
            "Doe\n",
            "Murphy\n",
            "Cook\n",
            "Glenn\n",
            "Mills\n"
          ],
          "name": "stdout"
        }
      ]
    },
    {
      "cell_type": "code",
      "metadata": {
        "id": "H1xmVPXyldNA"
      },
      "source": [
        "dict1 = {'Job': 'Programmer', 'Age': 38, 'Full Name': 'Galagher, Fred', 'City': 'London', 'Surname': 'Galagher', 'Gender': 'Male', 'Name': 'Fred'}\n",
        "header = ['Surname', 'Name', 'Full Name', 'Age', 'City', 'Job', 'Gender']"
      ],
      "execution_count": 10,
      "outputs": []
    },
    {
      "cell_type": "code",
      "metadata": {
        "id": "PXvfd7e5mfsZ"
      },
      "source": [
        "with open(\"novy_file.csv\", mode=\"w\", newline=\"\", encoding=\"utf-8\") as f:\n",
        "  writer = csv.DictWriter(f, header)\n",
        "  writer.writeheader()\n",
        "  writer.writerow(dict1)\n"
      ],
      "execution_count": 11,
      "outputs": []
    },
    {
      "cell_type": "markdown",
      "metadata": {
        "id": "HN4tgz4CnST0"
      },
      "source": [
        "SQL"
      ]
    },
    {
      "cell_type": "code",
      "metadata": {
        "id": "nvVsv_y_nRJ7"
      },
      "source": [
        "import sqlite3\n",
        "import pandas as pd"
      ],
      "execution_count": 13,
      "outputs": []
    },
    {
      "cell_type": "code",
      "metadata": {
        "id": "9Hscr0R4oDwx"
      },
      "source": [
        "houses = [\n",
        "    (1, 'first', 110, 4, 1, 100000),\n",
        "    (2, 'second', 90, 3, 0, 65000),\n",
        "    (3, 'second', 90, 3, 1, 72000)\n",
        "]"
      ],
      "execution_count": 12,
      "outputs": []
    },
    {
      "cell_type": "code",
      "metadata": {
        "colab": {
          "base_uri": "https://localhost:8080/"
        },
        "id": "7zEGAMomogfO",
        "outputId": "9e4a83c2-e2c2-462e-9374-11858bbbb496"
      },
      "source": [
        "dir(sqlite3)"
      ],
      "execution_count": 14,
      "outputs": [
        {
          "output_type": "execute_result",
          "data": {
            "text/plain": [
              "['Binary',\n",
              " 'Cache',\n",
              " 'Connection',\n",
              " 'Cursor',\n",
              " 'DataError',\n",
              " 'DatabaseError',\n",
              " 'Date',\n",
              " 'DateFromTicks',\n",
              " 'Error',\n",
              " 'IntegrityError',\n",
              " 'InterfaceError',\n",
              " 'InternalError',\n",
              " 'NotSupportedError',\n",
              " 'OperationalError',\n",
              " 'OptimizedUnicode',\n",
              " 'PARSE_COLNAMES',\n",
              " 'PARSE_DECLTYPES',\n",
              " 'PrepareProtocol',\n",
              " 'ProgrammingError',\n",
              " 'Row',\n",
              " 'SQLITE_ALTER_TABLE',\n",
              " 'SQLITE_ANALYZE',\n",
              " 'SQLITE_ATTACH',\n",
              " 'SQLITE_CREATE_INDEX',\n",
              " 'SQLITE_CREATE_TABLE',\n",
              " 'SQLITE_CREATE_TEMP_INDEX',\n",
              " 'SQLITE_CREATE_TEMP_TABLE',\n",
              " 'SQLITE_CREATE_TEMP_TRIGGER',\n",
              " 'SQLITE_CREATE_TEMP_VIEW',\n",
              " 'SQLITE_CREATE_TRIGGER',\n",
              " 'SQLITE_CREATE_VIEW',\n",
              " 'SQLITE_CREATE_VTABLE',\n",
              " 'SQLITE_DELETE',\n",
              " 'SQLITE_DENY',\n",
              " 'SQLITE_DETACH',\n",
              " 'SQLITE_DONE',\n",
              " 'SQLITE_DROP_INDEX',\n",
              " 'SQLITE_DROP_TABLE',\n",
              " 'SQLITE_DROP_TEMP_INDEX',\n",
              " 'SQLITE_DROP_TEMP_TABLE',\n",
              " 'SQLITE_DROP_TEMP_TRIGGER',\n",
              " 'SQLITE_DROP_TEMP_VIEW',\n",
              " 'SQLITE_DROP_TRIGGER',\n",
              " 'SQLITE_DROP_VIEW',\n",
              " 'SQLITE_DROP_VTABLE',\n",
              " 'SQLITE_FUNCTION',\n",
              " 'SQLITE_IGNORE',\n",
              " 'SQLITE_INSERT',\n",
              " 'SQLITE_OK',\n",
              " 'SQLITE_PRAGMA',\n",
              " 'SQLITE_READ',\n",
              " 'SQLITE_RECURSIVE',\n",
              " 'SQLITE_REINDEX',\n",
              " 'SQLITE_SAVEPOINT',\n",
              " 'SQLITE_SELECT',\n",
              " 'SQLITE_TRANSACTION',\n",
              " 'SQLITE_UPDATE',\n",
              " 'Statement',\n",
              " 'Time',\n",
              " 'TimeFromTicks',\n",
              " 'Timestamp',\n",
              " 'TimestampFromTicks',\n",
              " 'Warning',\n",
              " '__builtins__',\n",
              " '__cached__',\n",
              " '__doc__',\n",
              " '__file__',\n",
              " '__loader__',\n",
              " '__name__',\n",
              " '__package__',\n",
              " '__path__',\n",
              " '__spec__',\n",
              " 'adapt',\n",
              " 'adapters',\n",
              " 'apilevel',\n",
              " 'collections',\n",
              " 'complete_statement',\n",
              " 'connect',\n",
              " 'converters',\n",
              " 'datetime',\n",
              " 'dbapi2',\n",
              " 'enable_callback_tracebacks',\n",
              " 'enable_shared_cache',\n",
              " 'paramstyle',\n",
              " 'register_adapter',\n",
              " 'register_converter',\n",
              " 'sqlite_version',\n",
              " 'sqlite_version_info',\n",
              " 'threadsafety',\n",
              " 'time',\n",
              " 'version',\n",
              " 'version_info']"
            ]
          },
          "metadata": {
            "tags": []
          },
          "execution_count": 14
        }
      ]
    },
    {
      "cell_type": "markdown",
      "metadata": {
        "id": "SvZd7oAzq5O5"
      },
      "source": [
        "- 1) create\n",
        "- 2) insert - values\n",
        "- 3) select\n",
        "- https://biportal.cz/sql-group-by/"
      ]
    },
    {
      "cell_type": "code",
      "metadata": {
        "id": "AogjcksboS0Z"
      },
      "source": [
        "with sqlite3.connect(\"ex.db\") as conn: \n",
        "  cursor = conn.cursor()\n",
        "  fields = \"id, street, size, number_of_rooms, parking, price\" #Hlavicka \n",
        "  query = f\"create TABLE HOME_PRICES ({fields})\" #prikaz, pozor na nutnost kulatych zavorek\n",
        "  cursor.execute(query)\n",
        "  cursor.executemany(\"insert into HOME_PRICES values (?, ?, ?, ?, ?, ?)\", houses)"
      ],
      "execution_count": 16,
      "outputs": []
    },
    {
      "cell_type": "code",
      "metadata": {
        "colab": {
          "base_uri": "https://localhost:8080/",
          "height": 141
        },
        "id": "2fSr_mB2qhKN",
        "outputId": "32d52f17-9f33-43e3-9f2a-d1e3b032cc5f"
      },
      "source": [
        "with sqlite3.connect(\"ex.db\") as conn:\n",
        "  df = pd.read_sql(\"select * from HOME_PRICES\", conn)\n",
        "df"
      ],
      "execution_count": 18,
      "outputs": [
        {
          "output_type": "execute_result",
          "data": {
            "text/html": [
              "<div>\n",
              "<style scoped>\n",
              "    .dataframe tbody tr th:only-of-type {\n",
              "        vertical-align: middle;\n",
              "    }\n",
              "\n",
              "    .dataframe tbody tr th {\n",
              "        vertical-align: top;\n",
              "    }\n",
              "\n",
              "    .dataframe thead th {\n",
              "        text-align: right;\n",
              "    }\n",
              "</style>\n",
              "<table border=\"1\" class=\"dataframe\">\n",
              "  <thead>\n",
              "    <tr style=\"text-align: right;\">\n",
              "      <th></th>\n",
              "      <th>id</th>\n",
              "      <th>street</th>\n",
              "      <th>size</th>\n",
              "      <th>number_of_rooms</th>\n",
              "      <th>parking</th>\n",
              "      <th>price</th>\n",
              "    </tr>\n",
              "  </thead>\n",
              "  <tbody>\n",
              "    <tr>\n",
              "      <th>0</th>\n",
              "      <td>1</td>\n",
              "      <td>first</td>\n",
              "      <td>110</td>\n",
              "      <td>4</td>\n",
              "      <td>1</td>\n",
              "      <td>100000</td>\n",
              "    </tr>\n",
              "    <tr>\n",
              "      <th>1</th>\n",
              "      <td>2</td>\n",
              "      <td>second</td>\n",
              "      <td>90</td>\n",
              "      <td>3</td>\n",
              "      <td>0</td>\n",
              "      <td>65000</td>\n",
              "    </tr>\n",
              "    <tr>\n",
              "      <th>2</th>\n",
              "      <td>3</td>\n",
              "      <td>second</td>\n",
              "      <td>90</td>\n",
              "      <td>3</td>\n",
              "      <td>1</td>\n",
              "      <td>72000</td>\n",
              "    </tr>\n",
              "  </tbody>\n",
              "</table>\n",
              "</div>"
            ],
            "text/plain": [
              "   id  street  size  number_of_rooms  parking   price\n",
              "0   1   first   110                4        1  100000\n",
              "1   2  second    90                3        0   65000\n",
              "2   3  second    90                3        1   72000"
            ]
          },
          "metadata": {
            "tags": []
          },
          "execution_count": 18
        }
      ]
    },
    {
      "cell_type": "code",
      "metadata": {
        "colab": {
          "base_uri": "https://localhost:8080/",
          "height": 110
        },
        "id": "_sPWnyItrcy7",
        "outputId": "2cdf7c80-2f45-442c-8362-2997e5617418"
      },
      "source": [
        "with sqlite3.connect(\"ex.db\") as conn:\n",
        "  df = pd.read_sql(\"select * from HOME_PRICES where price  < 73000\", conn)\n",
        "df"
      ],
      "execution_count": 19,
      "outputs": [
        {
          "output_type": "execute_result",
          "data": {
            "text/html": [
              "<div>\n",
              "<style scoped>\n",
              "    .dataframe tbody tr th:only-of-type {\n",
              "        vertical-align: middle;\n",
              "    }\n",
              "\n",
              "    .dataframe tbody tr th {\n",
              "        vertical-align: top;\n",
              "    }\n",
              "\n",
              "    .dataframe thead th {\n",
              "        text-align: right;\n",
              "    }\n",
              "</style>\n",
              "<table border=\"1\" class=\"dataframe\">\n",
              "  <thead>\n",
              "    <tr style=\"text-align: right;\">\n",
              "      <th></th>\n",
              "      <th>id</th>\n",
              "      <th>street</th>\n",
              "      <th>size</th>\n",
              "      <th>number_of_rooms</th>\n",
              "      <th>parking</th>\n",
              "      <th>price</th>\n",
              "    </tr>\n",
              "  </thead>\n",
              "  <tbody>\n",
              "    <tr>\n",
              "      <th>0</th>\n",
              "      <td>2</td>\n",
              "      <td>second</td>\n",
              "      <td>90</td>\n",
              "      <td>3</td>\n",
              "      <td>0</td>\n",
              "      <td>65000</td>\n",
              "    </tr>\n",
              "    <tr>\n",
              "      <th>1</th>\n",
              "      <td>3</td>\n",
              "      <td>second</td>\n",
              "      <td>90</td>\n",
              "      <td>3</td>\n",
              "      <td>1</td>\n",
              "      <td>72000</td>\n",
              "    </tr>\n",
              "  </tbody>\n",
              "</table>\n",
              "</div>"
            ],
            "text/plain": [
              "   id  street  size  number_of_rooms  parking  price\n",
              "0   2  second    90                3        0  65000\n",
              "1   3  second    90                3        1  72000"
            ]
          },
          "metadata": {
            "tags": []
          },
          "execution_count": 19
        }
      ]
    },
    {
      "cell_type": "code",
      "metadata": {
        "colab": {
          "base_uri": "https://localhost:8080/",
          "height": 110
        },
        "id": "ysmlQY-crzSU",
        "outputId": "f20f2148-ebfb-4365-f9cf-3c1e4df25702"
      },
      "source": [
        "with sqlite3.connect(\"ex.db\") as conn:\n",
        "  df = pd.read_sql(\"select street, size, price from HOME_PRICES where price  < 73000\", conn)\n",
        "df"
      ],
      "execution_count": 20,
      "outputs": [
        {
          "output_type": "execute_result",
          "data": {
            "text/html": [
              "<div>\n",
              "<style scoped>\n",
              "    .dataframe tbody tr th:only-of-type {\n",
              "        vertical-align: middle;\n",
              "    }\n",
              "\n",
              "    .dataframe tbody tr th {\n",
              "        vertical-align: top;\n",
              "    }\n",
              "\n",
              "    .dataframe thead th {\n",
              "        text-align: right;\n",
              "    }\n",
              "</style>\n",
              "<table border=\"1\" class=\"dataframe\">\n",
              "  <thead>\n",
              "    <tr style=\"text-align: right;\">\n",
              "      <th></th>\n",
              "      <th>street</th>\n",
              "      <th>size</th>\n",
              "      <th>price</th>\n",
              "    </tr>\n",
              "  </thead>\n",
              "  <tbody>\n",
              "    <tr>\n",
              "      <th>0</th>\n",
              "      <td>second</td>\n",
              "      <td>90</td>\n",
              "      <td>65000</td>\n",
              "    </tr>\n",
              "    <tr>\n",
              "      <th>1</th>\n",
              "      <td>second</td>\n",
              "      <td>90</td>\n",
              "      <td>72000</td>\n",
              "    </tr>\n",
              "  </tbody>\n",
              "</table>\n",
              "</div>"
            ],
            "text/plain": [
              "   street  size  price\n",
              "0  second    90  65000\n",
              "1  second    90  72000"
            ]
          },
          "metadata": {
            "tags": []
          },
          "execution_count": 20
        }
      ]
    },
    {
      "cell_type": "code",
      "metadata": {
        "id": "-6aTk_MXsOk-"
      },
      "source": [
        "hlavicka = ['Surname', 'Name', 'Full Name', 'Age', 'City', 'Job', 'Gender']\n",
        "obsah = [['Smith', 'John', 'Smith, John', '32', 'London', 'Programmer', ''],\n",
        "        ['Doe', 'Joe', 'Doe, Joe', '34', 'Liverpool', '', 'Male'],\n",
        "        ['Murphy', 'Ann', 'Murphy, Ann', '29', 'London', 'Admin', 'Female'],\n",
        "        ['Cook', 'Floyd', 'Cook, Floyd', '28', '', 'Tester', 'Male'],\n",
        "        ['Glenn', 'Taylor', 'Glenn, Taylor', '35', 'Birmingham', 'Manager', 'Female'],\n",
        "        ['Mills', 'Amanda', 'Mills, Amanda', '41', 'Leicester', 'Quality Assurance', 'Female']]"
      ],
      "execution_count": 25,
      "outputs": []
    },
    {
      "cell_type": "code",
      "metadata": {
        "colab": {
          "base_uri": "https://localhost:8080/",
          "height": 35
        },
        "id": "sG1cPl9qtmrb",
        "outputId": "a5fcabeb-0701-4624-9e44-a401f92d6c7d"
      },
      "source": [
        "\"(\"+ \"?, \" * (len(hlavicka) - 1) + \"?)\""
      ],
      "execution_count": 22,
      "outputs": [
        {
          "output_type": "execute_result",
          "data": {
            "application/vnd.google.colaboratory.intrinsic+json": {
              "type": "string"
            },
            "text/plain": [
              "'(?, ?, ?, ?, ?, ?, ?)'"
            ]
          },
          "metadata": {
            "tags": []
          },
          "execution_count": 22
        }
      ]
    },
    {
      "cell_type": "code",
      "metadata": {
        "colab": {
          "base_uri": "https://localhost:8080/",
          "height": 35
        },
        "id": "UqfYJ5_nudhi",
        "outputId": "25a544c7-ab91-4825-ebce-cbbfaeb76278"
      },
      "source": [
        "\", \".join(['Mills', 'Amanda', 'Mills, Amanda', '41', 'Leicester', 'Quality Assurance', 'Female'])"
      ],
      "execution_count": 23,
      "outputs": [
        {
          "output_type": "execute_result",
          "data": {
            "application/vnd.google.colaboratory.intrinsic+json": {
              "type": "string"
            },
            "text/plain": [
              "'Mills, Amanda, Mills, Amanda, 41, Leicester, Quality Assurance, Female'"
            ]
          },
          "metadata": {
            "tags": []
          },
          "execution_count": 23
        }
      ]
    },
    {
      "cell_type": "code",
      "metadata": {
        "id": "nxMglp8Wt9r2"
      },
      "source": [
        "def vytvoreni_databaze(jmeno_databaze: str, hlavicka: list, data: list) -> None:\n",
        "  with sqlite3.connect(f\"{jmeno_databaze}.db\") as conn:\n",
        "    kurzor = conn.cursor()\n",
        "    jmena_sloupecku = \", \".join(hlavicka)\n",
        "    jmeno_tabulky = jmeno_databaze.upper()\n",
        "    pocet_sloupcu = \"(\"+ \"?, \" * (len(hlavicka) - 1) + \"?)\"\n",
        "    prikaz = f\"create TABLE {jmeno_tabulky} ({jmena_sloupecku})\"\n",
        "    kurzor.execute(prikaz)\n",
        "    kurzor.executemany(f\"insert into {jmeno_tabulky}  values {pocet_sloupcu}\", data)"
      ],
      "execution_count": 36,
      "outputs": []
    },
    {
      "cell_type": "code",
      "metadata": {
        "id": "QFUXcCp_v1he"
      },
      "source": [
        "vytvoreni_databaze(\"pokusIII\", hlavicka, obsah)"
      ],
      "execution_count": 38,
      "outputs": []
    },
    {
      "cell_type": "code",
      "metadata": {
        "colab": {
          "base_uri": "https://localhost:8080/",
          "height": 233
        },
        "id": "WHqz-GLqw3KK",
        "outputId": "be534780-d8a1-422b-c1cf-d207f341e998"
      },
      "source": [
        "with sqlite3.connect(\"pokusIII.db\") as conn:\n",
        "  df = pd.read_sql(\"SELECT * FROM POKUSIII ORDER BY age\", conn)\n",
        "df"
      ],
      "execution_count": 39,
      "outputs": [
        {
          "output_type": "execute_result",
          "data": {
            "text/html": [
              "<div>\n",
              "<style scoped>\n",
              "    .dataframe tbody tr th:only-of-type {\n",
              "        vertical-align: middle;\n",
              "    }\n",
              "\n",
              "    .dataframe tbody tr th {\n",
              "        vertical-align: top;\n",
              "    }\n",
              "\n",
              "    .dataframe thead th {\n",
              "        text-align: right;\n",
              "    }\n",
              "</style>\n",
              "<table border=\"1\" class=\"dataframe\">\n",
              "  <thead>\n",
              "    <tr style=\"text-align: right;\">\n",
              "      <th></th>\n",
              "      <th>Surname</th>\n",
              "      <th>Name</th>\n",
              "      <th>Full</th>\n",
              "      <th>Age</th>\n",
              "      <th>City</th>\n",
              "      <th>Job</th>\n",
              "      <th>Gender</th>\n",
              "    </tr>\n",
              "  </thead>\n",
              "  <tbody>\n",
              "    <tr>\n",
              "      <th>0</th>\n",
              "      <td>Cook</td>\n",
              "      <td>Floyd</td>\n",
              "      <td>Cook, Floyd</td>\n",
              "      <td>28</td>\n",
              "      <td></td>\n",
              "      <td>Tester</td>\n",
              "      <td>Male</td>\n",
              "    </tr>\n",
              "    <tr>\n",
              "      <th>1</th>\n",
              "      <td>Murphy</td>\n",
              "      <td>Ann</td>\n",
              "      <td>Murphy, Ann</td>\n",
              "      <td>29</td>\n",
              "      <td>London</td>\n",
              "      <td>Admin</td>\n",
              "      <td>Female</td>\n",
              "    </tr>\n",
              "    <tr>\n",
              "      <th>2</th>\n",
              "      <td>Smith</td>\n",
              "      <td>John</td>\n",
              "      <td>Smith, John</td>\n",
              "      <td>32</td>\n",
              "      <td>London</td>\n",
              "      <td>Programmer</td>\n",
              "      <td></td>\n",
              "    </tr>\n",
              "    <tr>\n",
              "      <th>3</th>\n",
              "      <td>Doe</td>\n",
              "      <td>Joe</td>\n",
              "      <td>Doe, Joe</td>\n",
              "      <td>34</td>\n",
              "      <td>Liverpool</td>\n",
              "      <td></td>\n",
              "      <td>Male</td>\n",
              "    </tr>\n",
              "    <tr>\n",
              "      <th>4</th>\n",
              "      <td>Glenn</td>\n",
              "      <td>Taylor</td>\n",
              "      <td>Glenn, Taylor</td>\n",
              "      <td>35</td>\n",
              "      <td>Birmingham</td>\n",
              "      <td>Manager</td>\n",
              "      <td>Female</td>\n",
              "    </tr>\n",
              "    <tr>\n",
              "      <th>5</th>\n",
              "      <td>Mills</td>\n",
              "      <td>Amanda</td>\n",
              "      <td>Mills, Amanda</td>\n",
              "      <td>41</td>\n",
              "      <td>Leicester</td>\n",
              "      <td>Quality Assurance</td>\n",
              "      <td>Female</td>\n",
              "    </tr>\n",
              "  </tbody>\n",
              "</table>\n",
              "</div>"
            ],
            "text/plain": [
              "  Surname    Name           Full Age        City                Job  Gender\n",
              "0    Cook   Floyd    Cook, Floyd  28                         Tester    Male\n",
              "1  Murphy     Ann    Murphy, Ann  29      London              Admin  Female\n",
              "2   Smith    John    Smith, John  32      London         Programmer        \n",
              "3     Doe     Joe       Doe, Joe  34   Liverpool                       Male\n",
              "4   Glenn  Taylor  Glenn, Taylor  35  Birmingham            Manager  Female\n",
              "5   Mills  Amanda  Mills, Amanda  41   Leicester  Quality Assurance  Female"
            ]
          },
          "metadata": {
            "tags": []
          },
          "execution_count": 39
        }
      ]
    },
    {
      "cell_type": "code",
      "metadata": {
        "id": "bMGBIpwCxG61"
      },
      "source": [
        "df.to_csv(\"tabulka.csv\")"
      ],
      "execution_count": 40,
      "outputs": []
    },
    {
      "cell_type": "code",
      "metadata": {
        "id": "m_7YBZAGxONz"
      },
      "source": [
        "df.to_json(\"j.json\")"
      ],
      "execution_count": 41,
      "outputs": []
    }
  ]
}