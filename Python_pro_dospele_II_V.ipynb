{
  "nbformat": 4,
  "nbformat_minor": 0,
  "metadata": {
    "colab": {
      "name": "Python_pro_dospele_II_V.ipynb",
      "provenance": [],
      "authorship_tag": "ABX9TyPGf4a4XARWKmT05OW7Msk2",
      "include_colab_link": true
    },
    "kernelspec": {
      "name": "python3",
      "display_name": "Python 3"
    },
    "language_info": {
      "name": "python"
    }
  },
  "cells": [
    {
      "cell_type": "markdown",
      "metadata": {
        "id": "view-in-github",
        "colab_type": "text"
      },
      "source": [
        "<a href=\"https://colab.research.google.com/github/valenja9/Python_krouzek_pro_dospele/blob/main/Python_pro_dospele_II_V.ipynb\" target=\"_parent\"><img src=\"https://colab.research.google.com/assets/colab-badge.svg\" alt=\"Open In Colab\"/></a>"
      ]
    },
    {
      "cell_type": "code",
      "metadata": {
        "colab": {
          "base_uri": "https://localhost:8080/"
        },
        "id": "w-drqe9MECTn",
        "outputId": "0a5d8581-db5c-4eed-ebdf-07d64b28e305"
      },
      "source": [
        "#Zaznamenej informaci o veku\n",
        "vek = input(\"Zadej svuj vek: \")"
      ],
      "execution_count": 9,
      "outputs": [
        {
          "output_type": "stream",
          "text": [
            "Zadej svuj vek: 50\n"
          ],
          "name": "stdout"
        }
      ]
    },
    {
      "cell_type": "code",
      "metadata": {
        "colab": {
          "base_uri": "https://localhost:8080/"
        },
        "id": "sXcnACXvEL2u",
        "outputId": "ad3b5d9b-f63e-4725-a4b5-cd74d706f4a6"
      },
      "source": [
        "#Zaznamenej informaci o jmeně\n",
        "jmeno = input(\"Zadej jmeno: \")"
      ],
      "execution_count": 10,
      "outputs": [
        {
          "output_type": "stream",
          "text": [
            "Zadej jmeno: Jakub\n"
          ],
          "name": "stdout"
        }
      ]
    },
    {
      "cell_type": "code",
      "metadata": {
        "colab": {
          "base_uri": "https://localhost:8080/"
        },
        "id": "szkxlIBfEPkB",
        "outputId": "dc8cc40c-2541-40ce-8489-e55953e8bf0d"
      },
      "source": [
        "#Zaznamenej tyto dvě informace do kontejneru\n",
        "kontejner_tuple = (vek, jmeno)\n",
        "print(kontejner_tuple)"
      ],
      "execution_count": 11,
      "outputs": [
        {
          "output_type": "stream",
          "text": [
            "('50', 'Jakub')\n"
          ],
          "name": "stdout"
        }
      ]
    },
    {
      "cell_type": "code",
      "metadata": {
        "id": "5qPUjjE5Krr8"
      },
      "source": [
        "kontejner_list = [vek, jmeno]\n",
        "print(kontejner_list)"
      ],
      "execution_count": null,
      "outputs": []
    },
    {
      "cell_type": "code",
      "metadata": {
        "id": "ENBkuz3IK1Nz"
      },
      "source": [
        "kontejner_slovnik = {\"vek\": vek, \"jmeno\": jmeno}"
      ],
      "execution_count": null,
      "outputs": []
    },
    {
      "cell_type": "code",
      "metadata": {
        "id": "j6sL-MExLWAA"
      },
      "source": [
        "while True:\n",
        "  zadani = input()\n",
        "  if zadin == \"q\":\n",
        "    break\n",
        "  elif zadani == \"666\":\n",
        "    break"
      ],
      "execution_count": null,
      "outputs": []
    },
    {
      "cell_type": "code",
      "metadata": {
        "colab": {
          "base_uri": "https://localhost:8080/"
        },
        "id": "E-T2twxOEfjP",
        "outputId": "87b1ef1a-9517-4ad8-f115-a6c295f59ec5"
      },
      "source": [
        "# \"a\" v ahoj\n",
        "\"s\" in \"https\""
      ],
      "execution_count": 12,
      "outputs": [
        {
          "output_type": "execute_result",
          "data": {
            "text/plain": [
              "True"
            ]
          },
          "metadata": {
            "tags": []
          },
          "execution_count": 12
        }
      ]
    },
    {
      "cell_type": "code",
      "metadata": {
        "colab": {
          "base_uri": "https://localhost:8080/"
        },
        "id": "VHCMJt5FMKCs",
        "outputId": "0d6f67a8-9d63-45a3-9107-2465e2f08018"
      },
      "source": [
        "\"text\".istitle()"
      ],
      "execution_count": 13,
      "outputs": [
        {
          "output_type": "execute_result",
          "data": {
            "text/plain": [
              "False"
            ]
          },
          "metadata": {
            "tags": []
          },
          "execution_count": 13
        }
      ]
    },
    {
      "cell_type": "code",
      "metadata": {
        "colab": {
          "base_uri": "https://localhost:8080/"
        },
        "id": "crie_b8HEmN4",
        "outputId": "4f353f81-bd61-40e4-ddd0-cee01677dde7"
      },
      "source": [
        "#a se rovna b\n",
        "a = 1\n",
        "b = 3\n",
        "a is b"
      ],
      "execution_count": 15,
      "outputs": [
        {
          "output_type": "execute_result",
          "data": {
            "text/plain": [
              "False"
            ]
          },
          "metadata": {
            "tags": []
          },
          "execution_count": 15
        }
      ]
    },
    {
      "cell_type": "code",
      "metadata": {
        "colab": {
          "base_uri": "https://localhost:8080/"
        },
        "id": "WUj-tK2cNgaQ",
        "outputId": "f0d5ca49-de3a-4412-ea1e-d55a41a73bb1"
      },
      "source": [
        "(True or False)"
      ],
      "execution_count": 18,
      "outputs": [
        {
          "output_type": "execute_result",
          "data": {
            "text/plain": [
              "True"
            ]
          },
          "metadata": {
            "tags": []
          },
          "execution_count": 18
        }
      ]
    },
    {
      "cell_type": "code",
      "metadata": {
        "colab": {
          "base_uri": "https://localhost:8080/"
        },
        "id": "ObZfxnt6IbBw",
        "outputId": "72618b7e-cd8e-4a9f-93c0-68cb4953838f"
      },
      "source": [
        "#True\n",
        "True and (True or False)"
      ],
      "execution_count": 20,
      "outputs": [
        {
          "output_type": "execute_result",
          "data": {
            "text/plain": [
              "True"
            ]
          },
          "metadata": {
            "tags": []
          },
          "execution_count": 20
        }
      ]
    },
    {
      "cell_type": "code",
      "metadata": {
        "id": "z5VqQOocIeqn"
      },
      "source": [
        "#False\n"
      ],
      "execution_count": null,
      "outputs": []
    },
    {
      "cell_type": "code",
      "metadata": {
        "colab": {
          "base_uri": "https://localhost:8080/"
        },
        "id": "OyIk2ZgxEqcx",
        "outputId": "033e3fd6-7a95-497f-f038-c4bc7c2992e3"
      },
      "source": [
        "#jedna se o dict?\n",
        "d = {}\n",
        "type(d) is dict"
      ],
      "execution_count": 24,
      "outputs": [
        {
          "output_type": "execute_result",
          "data": {
            "text/plain": [
              "True"
            ]
          },
          "metadata": {
            "tags": []
          },
          "execution_count": 24
        }
      ]
    },
    {
      "cell_type": "code",
      "metadata": {
        "colab": {
          "base_uri": "https://localhost:8080/"
        },
        "id": "k2CZNxleOHzd",
        "outputId": "11c259fe-359a-4fa6-b393-04412ec8abac"
      },
      "source": [
        "text = \"zkousim\"\n",
        "type(text) is str #Jmena trid .... konstruktor  str, int, tuple, list"
      ],
      "execution_count": 26,
      "outputs": [
        {
          "output_type": "execute_result",
          "data": {
            "text/plain": [
              "True"
            ]
          },
          "metadata": {
            "tags": []
          },
          "execution_count": 26
        }
      ]
    },
    {
      "cell_type": "code",
      "metadata": {
        "colab": {
          "base_uri": "https://localhost:8080/"
        },
        "id": "7YQ3aQU9OYpD",
        "outputId": "43bea0f3-71e1-4090-d9eb-b7b794e19abb"
      },
      "source": [
        "isinstance(text, str)"
      ],
      "execution_count": 27,
      "outputs": [
        {
          "output_type": "execute_result",
          "data": {
            "text/plain": [
              "True"
            ]
          },
          "metadata": {
            "tags": []
          },
          "execution_count": 27
        }
      ]
    },
    {
      "cell_type": "code",
      "metadata": {
        "id": "m3iVyaM5Dyiz"
      },
      "source": [
        "#Mám třídu dětí a potřebuji chytře zaznamenat více informací\n",
        "\n",
        "#a)list\n",
        "list_deti = [[\"jmeno\", \"prijmeni\", \"vek\"],\n",
        "             [\"Jakub\", \"zeleny\", 45]\n",
        "             ]\n",
        "\n",
        "#b)tuple\n",
        "tuple_deti = ((\"jmeno\", \"prijmeni\", \"vek\"),\n",
        "             (\"Jakub\", \"zeleny\", 45)\n",
        ")\n",
        "\n",
        "#c)dict\n",
        "dict_deti = {\"dite1\": {\"jmeno\": \"jakub\", \"prijmeni\": \"zeleny\", \"vek\": 45}}\n",
        "\n",
        "#pomoci textu\n",
        "text_deti = '{\"dite1\": {\"jmeno\": \"jakub\", \"prijmeni\": \"zeleny\", \"vek\": 45}}'"
      ],
      "execution_count": 37,
      "outputs": []
    },
    {
      "cell_type": "code",
      "metadata": {
        "colab": {
          "base_uri": "https://localhost:8080/"
        },
        "id": "9N7kUI-XRPSq",
        "outputId": "a518860c-993c-4165-9524-d016a8c3db45"
      },
      "source": [
        "type(eval(text_deti))"
      ],
      "execution_count": 39,
      "outputs": [
        {
          "output_type": "execute_result",
          "data": {
            "text/plain": [
              "dict"
            ]
          },
          "metadata": {
            "tags": []
          },
          "execution_count": 39
        }
      ]
    },
    {
      "cell_type": "code",
      "metadata": {
        "colab": {
          "base_uri": "https://localhost:8080/"
        },
        "id": "DArm1zFZRZxa",
        "outputId": "df625ea8-ed3b-4f03-bffd-155d64d72889"
      },
      "source": [
        "eval(\"6 + 8\")"
      ],
      "execution_count": 40,
      "outputs": [
        {
          "output_type": "execute_result",
          "data": {
            "text/plain": [
              "14"
            ]
          },
          "metadata": {
            "tags": []
          },
          "execution_count": 40
        }
      ]
    },
    {
      "cell_type": "code",
      "metadata": {
        "colab": {
          "base_uri": "https://localhost:8080/"
        },
        "id": "SUv3dPoLQf3G",
        "outputId": "d423a984-06cc-4da5-f634-39d53da15e8e"
      },
      "source": [
        "ord(\"2\")"
      ],
      "execution_count": 35,
      "outputs": [
        {
          "output_type": "execute_result",
          "data": {
            "text/plain": [
              "50"
            ]
          },
          "metadata": {
            "tags": []
          },
          "execution_count": 35
        }
      ]
    },
    {
      "cell_type": "code",
      "metadata": {
        "colab": {
          "base_uri": "https://localhost:8080/"
        },
        "id": "Jz01qzRGEWax",
        "outputId": "63b6bc7b-b833-428a-e27e-a442f33ebc63"
      },
      "source": [
        ""
      ],
      "execution_count": 7,
      "outputs": [
        {
          "output_type": "execute_result",
          "data": {
            "text/plain": [
              "{'poradi0': {'jmeno': 'jakub', 'prijmeni': 'Valenta', 'vek': 26},\n",
              " 'poradi1': {'jmeno': 'Radim', 'prijmeni': 'Novak', 'vek': 32}}"
            ]
          },
          "metadata": {
            "tags": []
          },
          "execution_count": 7
        }
      ]
    },
    {
      "cell_type": "code",
      "metadata": {
        "colab": {
          "base_uri": "https://localhost:8080/"
        },
        "id": "aL_RwnEcH3hx",
        "outputId": "d32b74e0-3005-43cc-d62e-7d169aadacb9"
      },
      "source": [
        "dt = [[\"jakub\",\"Valenta\", 26],\n",
        "      [\"Radim\", \"Novak\", 32]\n",
        "]\n",
        "\n",
        "def tuple_tuplu(list_listu: list) -> tuple:\n",
        "  \"\"\"Tato funkce vezme list listů a jednoduše ho převede na tupl tuplů\"\"\"\n",
        "  prazdny_list = []\n",
        "  for data in list_listu:\n",
        "    prazdny_list.append(tuple(data))\n",
        "  return tuple(prazdny_list)\n",
        "\n",
        "def list_listu(tuple_tuplu: tuple) -> list:\n",
        "    list_upraven = []\n",
        "    for data in tuple_tuplu:\n",
        "      list_upraven.append(list(data))\n",
        "    return list_upraven\n",
        "\n",
        "#slovnik slovniku:\n",
        "def slovnik_slovniku():\n",
        "  pass\n",
        "\n",
        "tl = tuple_tuplu(dt)\n",
        "list_listu(tl)"
      ],
      "execution_count": 44,
      "outputs": [
        {
          "output_type": "execute_result",
          "data": {
            "text/plain": [
              "[['jakub', 'Valenta', 26], ['Radim', 'Novak', 32]]"
            ]
          },
          "metadata": {
            "tags": []
          },
          "execution_count": 44
        }
      ]
    },
    {
      "cell_type": "code",
      "metadata": {
        "colab": {
          "base_uri": "https://localhost:8080/"
        },
        "id": "hW1gz1yqSwjF",
        "outputId": "de1ae971-a32f-4579-f41b-dff94158fe7b"
      },
      "source": [
        "help(tuple_tuplu)"
      ],
      "execution_count": 42,
      "outputs": [
        {
          "output_type": "stream",
          "text": [
            "Help on function tuple_tuplu in module __main__:\n",
            "\n",
            "tuple_tuplu(list_listu: list) -> tuple\n",
            "    Tato funkce vezme list listů a jednoduše ho převede na tupl tuplů\n",
            "\n"
          ],
          "name": "stdout"
        }
      ]
    },
    {
      "cell_type": "code",
      "metadata": {
        "id": "WIHJeGrpHbX9"
      },
      "source": [
        "jmena_klicu"
      ],
      "execution_count": null,
      "outputs": []
    }
  ]
}