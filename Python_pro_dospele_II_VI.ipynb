{
  "nbformat": 4,
  "nbformat_minor": 0,
  "metadata": {
    "colab": {
      "name": "Python_pro_dospele_II_VI.ipynb",
      "provenance": [],
      "authorship_tag": "ABX9TyPIWSiijgpHN1NYHpmz4k8s",
      "include_colab_link": true
    },
    "kernelspec": {
      "name": "python3",
      "display_name": "Python 3"
    },
    "language_info": {
      "name": "python"
    }
  },
  "cells": [
    {
      "cell_type": "markdown",
      "metadata": {
        "id": "view-in-github",
        "colab_type": "text"
      },
      "source": [
        "<a href=\"https://colab.research.google.com/github/valenja9/Python_krouzek_pro_dospele/blob/main/Python_pro_dospele_II_VI.ipynb\" target=\"_parent\"><img src=\"https://colab.research.google.com/assets/colab-badge.svg\" alt=\"Open In Colab\"/></a>"
      ]
    },
    {
      "cell_type": "code",
      "metadata": {
        "colab": {
          "base_uri": "https://localhost:8080/"
        },
        "id": "Irc8vcfBuQMg",
        "outputId": "0ece264b-9f14-4ea2-abf8-bb37c22fd0fe"
      },
      "source": [
        "#Morzeovka\n",
        "MORSE_CODE_DICT = { 'A':'.-', 'B':'-...', \n",
        "                    'C':'-.-.', 'D':'-..', 'E':'.', \n",
        "                    'F':'..-.', 'G':'--.', 'H':'....', \n",
        "                    'I':'..', 'J':'.---', 'K':'-.-', \n",
        "                    'L':'.-..', 'M':'--', 'N':'-.', \n",
        "                    'O':'---', 'P':'.--.', 'Q':'--.-', \n",
        "                    'R':'.-.', 'S':'...', 'T':'-', \n",
        "                    'U':'..-', 'V':'...-', 'W':'.--', \n",
        "                    'X':'-..-', 'Y':'-.--', 'Z':'--..', \n",
        "                    '1':'.----', '2':'..---', '3':'...--', \n",
        "                    '4':'....-', '5':'.....', '6':'-....', \n",
        "                    '7':'--...', '8':'---..', '9':'----.', \n",
        "                    '0':'-----', ', ':'--..--', '.':'.-.-.-', \n",
        "                    '?':'..--..', '/':'-..-.', '-':'-....-', \n",
        "                    '(':'-.--.', ')':'-.--.-'}\n",
        "\n",
        "#Do teto zpravy budu ukladat preklad\n",
        "zprava = \"\"\n",
        "#Co mohu zadávat?\n",
        "print(\"Co všechno si můžeš vybrat?\")\n",
        "for klic in MORSE_CODE_DICT.keys():\n",
        "    print(klic, end=\" \")\n",
        "\n",
        "\n",
        "#Dokud nenapisu exit, tak mohu porad zadávat!\n",
        "while True:\n",
        "  #Zadej co budeme prekladat do morzeovky \n",
        "  znak = input(\"zadej znak(Nebo zadej exit): \").upper()\n",
        "  \n",
        "  #Chceš přidávat anebo ukončit tento cyklus?\n",
        "  if znak != \"EXIT\": \n",
        "    zprava += MORSE_CODE_DICT[znak]\n",
        "  else:  \n",
        "    break\n",
        "\n",
        "print(zprava)"
      ],
      "execution_count": null,
      "outputs": [
        {
          "output_type": "stream",
          "text": [
            "Co všechno si můžeš vybrat?\n",
            "A B C D E F G H I J K L M N O P Q R S T U V W X Y Z 1 2 3 4 5 6 7 8 9 0 ,  . ? / - ( ) zadej znak(Nebo zadej exit): exit\n",
            "\n"
          ],
          "name": "stdout"
        }
      ]
    },
    {
      "cell_type": "code",
      "metadata": {
        "colab": {
          "base_uri": "https://localhost:8080/"
        },
        "id": "E7k9hKScSzE5",
        "outputId": "99a21309-648c-4171-b24d-f1a4d23d9fb7"
      },
      "source": [
        "MORSE_CODE_DICT.items()"
      ],
      "execution_count": null,
      "outputs": [
        {
          "output_type": "execute_result",
          "data": {
            "text/plain": [
              "dict_items([('A', '.-'), ('B', '-...'), ('C', '-.-.'), ('D', '-..'), ('E', '.'), ('F', '..-.'), ('G', '--.'), ('H', '....'), ('I', '..'), ('J', '.---'), ('K', '-.-'), ('L', '.-..'), ('M', '--'), ('N', '-.'), ('O', '---'), ('P', '.--.'), ('Q', '--.-'), ('R', '.-.'), ('S', '...'), ('T', '-'), ('U', '..-'), ('V', '...-'), ('W', '.--'), ('X', '-..-'), ('Y', '-.--'), ('Z', '--..'), ('1', '.----'), ('2', '..---'), ('3', '...--'), ('4', '....-'), ('5', '.....'), ('6', '-....'), ('7', '--...'), ('8', '---..'), ('9', '----.'), ('0', '-----'), (', ', '--..--'), ('.', '.-.-.-'), ('?', '..--..'), ('/', '-..-.'), ('-', '-....-'), ('(', '-.--.'), (')', '-.--.-')])"
            ]
          },
          "metadata": {
            "tags": []
          },
          "execution_count": 8
        }
      ]
    },
    {
      "cell_type": "code",
      "metadata": {
        "colab": {
          "base_uri": "https://localhost:8080/"
        },
        "id": "mDAc-Y7IQTOO",
        "outputId": "07760cd2-1dfa-491a-c932-306db3701a91"
      },
      "source": [
        "redict = {}\n",
        "for k, v in MORSE_CODE_DICT.items():\n",
        "  redict[v] = k\n",
        "redict"
      ],
      "execution_count": null,
      "outputs": [
        {
          "output_type": "execute_result",
          "data": {
            "text/plain": [
              "{'-': 'T',\n",
              " '--': 'M',\n",
              " '---': 'O',\n",
              " '-----': '0',\n",
              " '----.': '9',\n",
              " '---..': '8',\n",
              " '--.': 'G',\n",
              " '--.-': 'Q',\n",
              " '--..': 'Z',\n",
              " '--..--': ', ',\n",
              " '--...': '7',\n",
              " '-.': 'N',\n",
              " '-.-': 'K',\n",
              " '-.--': 'Y',\n",
              " '-.--.': '(',\n",
              " '-.--.-': ')',\n",
              " '-.-.': 'C',\n",
              " '-..': 'D',\n",
              " '-..-': 'X',\n",
              " '-..-.': '/',\n",
              " '-...': 'B',\n",
              " '-....': '6',\n",
              " '-....-': '-',\n",
              " '.': 'E',\n",
              " '.-': 'A',\n",
              " '.--': 'W',\n",
              " '.---': 'J',\n",
              " '.----': '1',\n",
              " '.--.': 'P',\n",
              " '.-.': 'R',\n",
              " '.-.-.-': '.',\n",
              " '.-..': 'L',\n",
              " '..': 'I',\n",
              " '..-': 'U',\n",
              " '..---': '2',\n",
              " '..--..': '?',\n",
              " '..-.': 'F',\n",
              " '...': 'S',\n",
              " '...-': 'V',\n",
              " '...--': '3',\n",
              " '....': 'H',\n",
              " '....-': '4',\n",
              " '.....': '5'}"
            ]
          },
          "metadata": {
            "tags": []
          },
          "execution_count": 10
        }
      ]
    },
    {
      "cell_type": "code",
      "metadata": {
        "colab": {
          "base_uri": "https://localhost:8080/"
        },
        "id": "vZMZiw-TQjyx",
        "outputId": "60d2cc43-94bb-4b62-ca96-9d7bf5075e93"
      },
      "source": [
        "#Zadej co budeme prekladat do morzeovky \n",
        "zadani = input(\"zadej znak(Nebo zadej exit), vse rozdel pomoci mezery: \").upper()  \n",
        "#Chceš přidávat anebo ukončit tento cyklus?\n",
        "\n",
        "    #pridavani vice slov\n",
        "  # slova = zadani.split(\" \") \n",
        "zprava = \"\"\n",
        "for znak in zadani:\n",
        "  if znak != \" \":\n",
        "    zprava += MORSE_CODE_DICT[znak] + \" \"\n",
        "  else:\n",
        "    zprava += \", \"\n",
        "print(zprava)"
      ],
      "execution_count": null,
      "outputs": [
        {
          "output_type": "stream",
          "text": [
            "zadej znak(Nebo zadej exit), vse rozdel pomoci mezery: Ahoj jak se tu vsichni mate?\n",
            ".- .... --- .--- , .--- .- -.- , ... . , - ..- , ...- ... .. -.-. .... -. .. , -- .- - . ..--.. \n"
          ],
          "name": "stdout"
        }
      ]
    },
    {
      "cell_type": "code",
      "metadata": {
        "colab": {
          "base_uri": "https://localhost:8080/"
        },
        "id": "JNMc7ne0uxm7",
        "outputId": "06009ccc-cf43-486b-83a0-4e6b8968c515"
      },
      "source": [
        "MORSE_CODE_DICT = { 'A':'.-', 'B':'-...', \n",
        "                    'C':'-.-.', 'D':'-..', 'E':'.', \n",
        "                    'F':'..-.', 'G':'--.', 'H':'....', \n",
        "                    'I':'..', 'J':'.---', 'K':'-.-', \n",
        "                    'L':'.-..', 'M':'--', 'N':'-.', \n",
        "                    'O':'---', 'P':'.--.', 'Q':'--.-', \n",
        "                    'R':'.-.', 'S':'...', 'T':'-', \n",
        "                    'U':'..-', 'V':'...-', 'W':'.--', \n",
        "                    'X':'-..-', 'Y':'-.--', 'Z':'--..', \n",
        "                    '1':'.----', '2':'..---', '3':'...--', \n",
        "                    '4':'....-', '5':'.....', '6':'-....', \n",
        "                    '7':'--...', '8':'---..', '9':'----.', \n",
        "                    '0':'-----', ', ':'--..--', '.':'.-.-.-', \n",
        "                    '?':'..--..', '/':'-..-.', '-':'-....-', \n",
        "                    '(':'-.--.', ')':'-.--.-'}\n",
        "\n",
        "redict = {}\n",
        "for k, v in MORSE_CODE_DICT.items():\n",
        "  redict[v] = k\n",
        "redict\n",
        "#-----------------------------------------------------------------------\n",
        "\n",
        "\n",
        "\n",
        "#Do teto zpravy budu ukladat preklad\n",
        "zprava = \"\"\n",
        "#Co mohu zadávat?\n",
        "print(\"Co všechno si můžeš vybrat?\")\n",
        "for klic in MORSE_CODE_DICT.keys():\n",
        "    print(klic, end=\" \")\n",
        "\n",
        "\n",
        "#Dokud nenapisu exit, tak mohu porad zadávat!\n",
        "\n",
        "#Zadej co budeme prekladat do morzeovky \n",
        "zadani = input(\"zadej znak(Nebo zadej exit), vse rozdel pomoci mezery: \").upper()  \n",
        "#Chceš přidávat anebo ukončit tento cyklus?\n",
        "\n",
        "    #pridavani vice slov\n",
        "  # slova = zadani.split(\" \") \n",
        "for znak in zadani:\n",
        "  if znak != \" \":\n",
        "    zprava += MORSE_CODE_DICT[znak] + \" \"\n",
        "  else:\n",
        "    zprava += \", \"\n",
        "\n",
        "\n",
        "print(\"Zprava předělána do Morzeovky: \", zprava)"
      ],
      "execution_count": null,
      "outputs": [
        {
          "output_type": "stream",
          "text": [
            "Co všechno si můžeš vybrat?\n",
            "A B C D E F G H I J K L M N O P Q R S T U V W X Y Z 1 2 3 4 5 6 7 8 9 0 ,  . ? / - ( ) zadej znak(Nebo zadej exit), vse rozdel pomoci mezery: Ahoj jak se mas?\n",
            "Zprava předělána do Morzeovky:  .- .... --- .--- , .--- .- -.- , ... . , -- .- ... ..--.. \n",
            "AHOJ JAK SE MAS?\n"
          ],
          "name": "stdout"
        }
      ]
    },
    {
      "cell_type": "code",
      "metadata": {
        "colab": {
          "base_uri": "https://localhost:8080/"
        },
        "id": "SYvKyMNSRnpw",
        "outputId": "a952272b-b3b9-4ed5-b36e-5462d959f3b4"
      },
      "source": [
        "zprava.split(\" \")[:-1]"
      ],
      "execution_count": null,
      "outputs": [
        {
          "output_type": "execute_result",
          "data": {
            "text/plain": [
              "['.-',\n",
              " '....',\n",
              " '---',\n",
              " '.---',\n",
              " ',',\n",
              " '.---',\n",
              " '.-',\n",
              " '-.-',\n",
              " ',',\n",
              " '...',\n",
              " '.',\n",
              " ',',\n",
              " '-',\n",
              " '..-',\n",
              " ',',\n",
              " '...-',\n",
              " '...',\n",
              " '..',\n",
              " '-.-.',\n",
              " '....',\n",
              " '-.',\n",
              " '..',\n",
              " ',',\n",
              " '--',\n",
              " '.-',\n",
              " '-',\n",
              " '.',\n",
              " '..--..']"
            ]
          },
          "metadata": {
            "tags": []
          },
          "execution_count": 6
        }
      ]
    },
    {
      "cell_type": "code",
      "metadata": {
        "colab": {
          "base_uri": "https://localhost:8080/"
        },
        "id": "9zuDIi8BWpV6",
        "outputId": "21d2a7f5-061a-4333-c6b7-554d75527931"
      },
      "source": [
        "#Morzeovka\n",
        "MORSE_CODE_DICT = { 'A':'.-', 'B':'-...', \n",
        "                    'C':'-.-.', 'D':'-..', 'E':'.', \n",
        "                    'F':'..-.', 'G':'--.', 'H':'....', \n",
        "                    'I':'..', 'J':'.---', 'K':'-.-', \n",
        "                    'L':'.-..', 'M':'--', 'N':'-.', \n",
        "                    'O':'---', 'P':'.--.', 'Q':'--.-', \n",
        "                    'R':'.-.', 'S':'...', 'T':'-', \n",
        "                    'U':'..-', 'V':'...-', 'W':'.--', \n",
        "                    'X':'-..-', 'Y':'-.--', 'Z':'--..', \n",
        "                    '1':'.----', '2':'..---', '3':'...--', \n",
        "                    '4':'....-', '5':'.....', '6':'-....', \n",
        "                    '7':'--...', '8':'---..', '9':'----.', \n",
        "                    '0':'-----', ', ':'--..--', '.':'.-.-.-', \n",
        "                    '?':'..--..', '/':'-..-.', '-':'-....-', \n",
        "                    '(':'-.--.', ')':'-.--.-'}\n",
        "\n",
        "redict = {}\n",
        "for k, v in MORSE_CODE_DICT.items():\n",
        "  redict[v] = k\n",
        "redict"
      ],
      "execution_count": null,
      "outputs": [
        {
          "output_type": "execute_result",
          "data": {
            "text/plain": [
              "{'-': 'T',\n",
              " '--': 'M',\n",
              " '---': 'O',\n",
              " '-----': '0',\n",
              " '----.': '9',\n",
              " '---..': '8',\n",
              " '--.': 'G',\n",
              " '--.-': 'Q',\n",
              " '--..': 'Z',\n",
              " '--..--': ', ',\n",
              " '--...': '7',\n",
              " '-.': 'N',\n",
              " '-.-': 'K',\n",
              " '-.--': 'Y',\n",
              " '-.--.': '(',\n",
              " '-.--.-': ')',\n",
              " '-.-.': 'C',\n",
              " '-..': 'D',\n",
              " '-..-': 'X',\n",
              " '-..-.': '/',\n",
              " '-...': 'B',\n",
              " '-....': '6',\n",
              " '-....-': '-',\n",
              " '.': 'E',\n",
              " '.-': 'A',\n",
              " '.--': 'W',\n",
              " '.---': 'J',\n",
              " '.----': '1',\n",
              " '.--.': 'P',\n",
              " '.-.': 'R',\n",
              " '.-.-.-': '.',\n",
              " '.-..': 'L',\n",
              " '..': 'I',\n",
              " '..-': 'U',\n",
              " '..---': '2',\n",
              " '..--..': '?',\n",
              " '..-.': 'F',\n",
              " '...': 'S',\n",
              " '...-': 'V',\n",
              " '...--': '3',\n",
              " '....': 'H',\n",
              " '....-': '4',\n",
              " '.....': '5'}"
            ]
          },
          "metadata": {
            "tags": []
          },
          "execution_count": 6
        }
      ]
    },
    {
      "cell_type": "code",
      "metadata": {
        "colab": {
          "base_uri": "https://localhost:8080/"
        },
        "id": "1pjDbu6DvYzC",
        "outputId": "4b489e2c-ce88-4a19-d3a3-7e8a16e96828"
      },
      "source": [
        "#-----------------------------------------------------------------------\n",
        "#Prekladac z morzeovky!\n",
        "text = \"\"\n",
        "for znak in zprava.split(\" \")[:-1]:\n",
        "  if znak != \",\":\n",
        "    text += redict[znak]\n",
        "  else: \n",
        "    text += \" \"\n",
        "print(text)"
      ],
      "execution_count": null,
      "outputs": [
        {
          "output_type": "stream",
          "text": [
            "AHOJ JAK SE TU VSICHNI MATE?\n"
          ],
          "name": "stdout"
        }
      ]
    },
    {
      "cell_type": "code",
      "metadata": {
        "id": "dfPBvbMKwo6E"
      },
      "source": [
        "def do_morzeovky(zadani) -> str:\n",
        "  zprava = \"\"\n",
        "  for znak in zadani:\n",
        "    if znak != \" \":\n",
        "      zprava += MORSE_CODE_DICT[znak] + \" \"\n",
        "    else:\n",
        "      zprava += \", \"\n",
        "  return zprava\n",
        "\n",
        "def z_morzeovky(preloz) -> str:\n",
        "  text = \"\"\n",
        "  for znak in preloz.split(\" \")[:-1]:\n",
        "    if znak != \",\":\n",
        "      text += redict[znak]\n",
        "    else: \n",
        "      text += \" \"\n",
        "  return text\n",
        "\n",
        "def main():\n",
        "  zprava_pro_preklad = input(\"zadej znak(Nebo zadej exit), vse rozdel pomoci mezery: \").upper()  \n",
        "  preklad = do_morzeovky(zprava_pro_preklad)\n",
        "  print(preklad)\n",
        "  zpetny_preklad = z_morzeovky(preklad)\n",
        "  print(zpetny_preklad)"
      ],
      "execution_count": null,
      "outputs": []
    },
    {
      "cell_type": "code",
      "metadata": {
        "colab": {
          "base_uri": "https://localhost:8080/",
          "height": 531
        },
        "id": "J3HdMOBwU1-C",
        "outputId": "adaeead2-d31f-48f5-f3c7-ae04422c94c7"
      },
      "source": [
        "main()"
      ],
      "execution_count": null,
      "outputs": [
        {
          "output_type": "error",
          "ename": "KeyboardInterrupt",
          "evalue": "ignored",
          "traceback": [
            "\u001b[0;31m---------------------------------------------------------------------------\u001b[0m",
            "\u001b[0;31mKeyboardInterrupt\u001b[0m                         Traceback (most recent call last)",
            "\u001b[0;32m/usr/local/lib/python3.7/dist-packages/ipykernel/kernelbase.py\u001b[0m in \u001b[0;36m_input_request\u001b[0;34m(self, prompt, ident, parent, password)\u001b[0m\n\u001b[1;32m    728\u001b[0m             \u001b[0;32mtry\u001b[0m\u001b[0;34m:\u001b[0m\u001b[0;34m\u001b[0m\u001b[0;34m\u001b[0m\u001b[0m\n\u001b[0;32m--> 729\u001b[0;31m                 \u001b[0mident\u001b[0m\u001b[0;34m,\u001b[0m \u001b[0mreply\u001b[0m \u001b[0;34m=\u001b[0m \u001b[0mself\u001b[0m\u001b[0;34m.\u001b[0m\u001b[0msession\u001b[0m\u001b[0;34m.\u001b[0m\u001b[0mrecv\u001b[0m\u001b[0;34m(\u001b[0m\u001b[0mself\u001b[0m\u001b[0;34m.\u001b[0m\u001b[0mstdin_socket\u001b[0m\u001b[0;34m,\u001b[0m \u001b[0;36m0\u001b[0m\u001b[0;34m)\u001b[0m\u001b[0;34m\u001b[0m\u001b[0;34m\u001b[0m\u001b[0m\n\u001b[0m\u001b[1;32m    730\u001b[0m             \u001b[0;32mexcept\u001b[0m \u001b[0mException\u001b[0m\u001b[0;34m:\u001b[0m\u001b[0;34m\u001b[0m\u001b[0;34m\u001b[0m\u001b[0m\n",
            "\u001b[0;32m/usr/local/lib/python3.7/dist-packages/jupyter_client/session.py\u001b[0m in \u001b[0;36mrecv\u001b[0;34m(self, socket, mode, content, copy)\u001b[0m\n\u001b[1;32m    802\u001b[0m         \u001b[0;32mtry\u001b[0m\u001b[0;34m:\u001b[0m\u001b[0;34m\u001b[0m\u001b[0;34m\u001b[0m\u001b[0m\n\u001b[0;32m--> 803\u001b[0;31m             \u001b[0mmsg_list\u001b[0m \u001b[0;34m=\u001b[0m \u001b[0msocket\u001b[0m\u001b[0;34m.\u001b[0m\u001b[0mrecv_multipart\u001b[0m\u001b[0;34m(\u001b[0m\u001b[0mmode\u001b[0m\u001b[0;34m,\u001b[0m \u001b[0mcopy\u001b[0m\u001b[0;34m=\u001b[0m\u001b[0mcopy\u001b[0m\u001b[0;34m)\u001b[0m\u001b[0;34m\u001b[0m\u001b[0;34m\u001b[0m\u001b[0m\n\u001b[0m\u001b[1;32m    804\u001b[0m         \u001b[0;32mexcept\u001b[0m \u001b[0mzmq\u001b[0m\u001b[0;34m.\u001b[0m\u001b[0mZMQError\u001b[0m \u001b[0;32mas\u001b[0m \u001b[0me\u001b[0m\u001b[0;34m:\u001b[0m\u001b[0;34m\u001b[0m\u001b[0;34m\u001b[0m\u001b[0m\n",
            "\u001b[0;32m/usr/local/lib/python3.7/dist-packages/zmq/sugar/socket.py\u001b[0m in \u001b[0;36mrecv_multipart\u001b[0;34m(self, flags, copy, track)\u001b[0m\n\u001b[1;32m    582\u001b[0m         \"\"\"\n\u001b[0;32m--> 583\u001b[0;31m         \u001b[0mparts\u001b[0m \u001b[0;34m=\u001b[0m \u001b[0;34m[\u001b[0m\u001b[0mself\u001b[0m\u001b[0;34m.\u001b[0m\u001b[0mrecv\u001b[0m\u001b[0;34m(\u001b[0m\u001b[0mflags\u001b[0m\u001b[0;34m,\u001b[0m \u001b[0mcopy\u001b[0m\u001b[0;34m=\u001b[0m\u001b[0mcopy\u001b[0m\u001b[0;34m,\u001b[0m \u001b[0mtrack\u001b[0m\u001b[0;34m=\u001b[0m\u001b[0mtrack\u001b[0m\u001b[0;34m)\u001b[0m\u001b[0;34m]\u001b[0m\u001b[0;34m\u001b[0m\u001b[0;34m\u001b[0m\u001b[0m\n\u001b[0m\u001b[1;32m    584\u001b[0m         \u001b[0;31m# have first part already, only loop while more to receive\u001b[0m\u001b[0;34m\u001b[0m\u001b[0;34m\u001b[0m\u001b[0;34m\u001b[0m\u001b[0m\n",
            "\u001b[0;32mzmq/backend/cython/socket.pyx\u001b[0m in \u001b[0;36mzmq.backend.cython.socket.Socket.recv\u001b[0;34m()\u001b[0m\n",
            "\u001b[0;32mzmq/backend/cython/socket.pyx\u001b[0m in \u001b[0;36mzmq.backend.cython.socket.Socket.recv\u001b[0;34m()\u001b[0m\n",
            "\u001b[0;32mzmq/backend/cython/socket.pyx\u001b[0m in \u001b[0;36mzmq.backend.cython.socket._recv_copy\u001b[0;34m()\u001b[0m\n",
            "\u001b[0;32m/usr/local/lib/python3.7/dist-packages/zmq/backend/cython/checkrc.pxd\u001b[0m in \u001b[0;36mzmq.backend.cython.checkrc._check_rc\u001b[0;34m()\u001b[0m\n",
            "\u001b[0;31mKeyboardInterrupt\u001b[0m: ",
            "\nDuring handling of the above exception, another exception occurred:\n",
            "\u001b[0;31mKeyboardInterrupt\u001b[0m                         Traceback (most recent call last)",
            "\u001b[0;32m<ipython-input-11-263240bbee7e>\u001b[0m in \u001b[0;36m<module>\u001b[0;34m()\u001b[0m\n\u001b[0;32m----> 1\u001b[0;31m \u001b[0mmain\u001b[0m\u001b[0;34m(\u001b[0m\u001b[0;34m)\u001b[0m\u001b[0;34m\u001b[0m\u001b[0;34m\u001b[0m\u001b[0m\n\u001b[0m",
            "\u001b[0;32m<ipython-input-10-b7bdb60249de>\u001b[0m in \u001b[0;36mmain\u001b[0;34m()\u001b[0m\n\u001b[1;32m     18\u001b[0m \u001b[0;34m\u001b[0m\u001b[0m\n\u001b[1;32m     19\u001b[0m \u001b[0;32mdef\u001b[0m \u001b[0mmain\u001b[0m\u001b[0;34m(\u001b[0m\u001b[0;34m)\u001b[0m\u001b[0;34m:\u001b[0m\u001b[0;34m\u001b[0m\u001b[0;34m\u001b[0m\u001b[0m\n\u001b[0;32m---> 20\u001b[0;31m   \u001b[0mzprava_pro_preklad\u001b[0m \u001b[0;34m=\u001b[0m \u001b[0minput\u001b[0m\u001b[0;34m(\u001b[0m\u001b[0;34m\"zadej znak(Nebo zadej exit), vse rozdel pomoci mezery: \"\u001b[0m\u001b[0;34m)\u001b[0m\u001b[0;34m.\u001b[0m\u001b[0mupper\u001b[0m\u001b[0;34m(\u001b[0m\u001b[0;34m)\u001b[0m\u001b[0;34m\u001b[0m\u001b[0;34m\u001b[0m\u001b[0m\n\u001b[0m\u001b[1;32m     21\u001b[0m   \u001b[0mpreklad\u001b[0m \u001b[0;34m=\u001b[0m \u001b[0mdo_morzeovky\u001b[0m\u001b[0;34m(\u001b[0m\u001b[0mzprava_pro_preklad\u001b[0m\u001b[0;34m)\u001b[0m\u001b[0;34m\u001b[0m\u001b[0;34m\u001b[0m\u001b[0m\n\u001b[1;32m     22\u001b[0m   \u001b[0mprint\u001b[0m\u001b[0;34m(\u001b[0m\u001b[0mpreklad\u001b[0m\u001b[0;34m)\u001b[0m\u001b[0;34m\u001b[0m\u001b[0;34m\u001b[0m\u001b[0m\n",
            "\u001b[0;32m/usr/local/lib/python3.7/dist-packages/ipykernel/kernelbase.py\u001b[0m in \u001b[0;36mraw_input\u001b[0;34m(self, prompt)\u001b[0m\n\u001b[1;32m    702\u001b[0m             \u001b[0mself\u001b[0m\u001b[0;34m.\u001b[0m\u001b[0m_parent_ident\u001b[0m\u001b[0;34m,\u001b[0m\u001b[0;34m\u001b[0m\u001b[0;34m\u001b[0m\u001b[0m\n\u001b[1;32m    703\u001b[0m             \u001b[0mself\u001b[0m\u001b[0;34m.\u001b[0m\u001b[0m_parent_header\u001b[0m\u001b[0;34m,\u001b[0m\u001b[0;34m\u001b[0m\u001b[0;34m\u001b[0m\u001b[0m\n\u001b[0;32m--> 704\u001b[0;31m             \u001b[0mpassword\u001b[0m\u001b[0;34m=\u001b[0m\u001b[0;32mFalse\u001b[0m\u001b[0;34m,\u001b[0m\u001b[0;34m\u001b[0m\u001b[0;34m\u001b[0m\u001b[0m\n\u001b[0m\u001b[1;32m    705\u001b[0m         )\n\u001b[1;32m    706\u001b[0m \u001b[0;34m\u001b[0m\u001b[0m\n",
            "\u001b[0;32m/usr/local/lib/python3.7/dist-packages/ipykernel/kernelbase.py\u001b[0m in \u001b[0;36m_input_request\u001b[0;34m(self, prompt, ident, parent, password)\u001b[0m\n\u001b[1;32m    732\u001b[0m             \u001b[0;32mexcept\u001b[0m \u001b[0mKeyboardInterrupt\u001b[0m\u001b[0;34m:\u001b[0m\u001b[0;34m\u001b[0m\u001b[0;34m\u001b[0m\u001b[0m\n\u001b[1;32m    733\u001b[0m                 \u001b[0;31m# re-raise KeyboardInterrupt, to truncate traceback\u001b[0m\u001b[0;34m\u001b[0m\u001b[0;34m\u001b[0m\u001b[0;34m\u001b[0m\u001b[0m\n\u001b[0;32m--> 734\u001b[0;31m                 \u001b[0;32mraise\u001b[0m \u001b[0mKeyboardInterrupt\u001b[0m\u001b[0;34m\u001b[0m\u001b[0;34m\u001b[0m\u001b[0m\n\u001b[0m\u001b[1;32m    735\u001b[0m             \u001b[0;32melse\u001b[0m\u001b[0;34m:\u001b[0m\u001b[0;34m\u001b[0m\u001b[0;34m\u001b[0m\u001b[0m\n\u001b[1;32m    736\u001b[0m                 \u001b[0;32mbreak\u001b[0m\u001b[0;34m\u001b[0m\u001b[0;34m\u001b[0m\u001b[0m\n",
            "\u001b[0;31mKeyboardInterrupt\u001b[0m: "
          ]
        }
      ]
    }
  ]
}