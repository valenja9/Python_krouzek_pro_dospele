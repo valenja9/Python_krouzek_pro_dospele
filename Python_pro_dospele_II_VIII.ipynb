{
  "nbformat": 4,
  "nbformat_minor": 0,
  "metadata": {
    "colab": {
      "name": "Python_pro_dospele_II_VIII",
      "provenance": [],
      "authorship_tag": "ABX9TyNSylsQfGmJBoz17tuwutLE",
      "include_colab_link": true
    },
    "kernelspec": {
      "name": "python3",
      "display_name": "Python 3"
    },
    "language_info": {
      "name": "python"
    }
  },
  "cells": [
    {
      "cell_type": "markdown",
      "metadata": {
        "id": "view-in-github",
        "colab_type": "text"
      },
      "source": [
        "<a href=\"https://colab.research.google.com/github/valenja9/Python_krouzek_pro_dospele/blob/main/Python_pro_dospele_II_VIII.ipynb\" target=\"_parent\"><img src=\"https://colab.research.google.com/assets/colab-badge.svg\" alt=\"Open In Colab\"/></a>"
      ]
    },
    {
      "cell_type": "code",
      "metadata": {
        "id": "6tApEJT3TLO8"
      },
      "source": [
        "import csv"
      ],
      "execution_count": 1,
      "outputs": []
    },
    {
      "cell_type": "code",
      "metadata": {
        "colab": {
          "base_uri": "https://localhost:8080/"
        },
        "id": "bo_E112oTiGZ",
        "outputId": "68ba77c3-0fef-472c-b1f4-84e3773d1939"
      },
      "source": [
        "dir(csv)"
      ],
      "execution_count": 2,
      "outputs": [
        {
          "output_type": "execute_result",
          "data": {
            "text/plain": [
              "['Dialect',\n",
              " 'DictReader',\n",
              " 'DictWriter',\n",
              " 'Error',\n",
              " 'OrderedDict',\n",
              " 'QUOTE_ALL',\n",
              " 'QUOTE_MINIMAL',\n",
              " 'QUOTE_NONE',\n",
              " 'QUOTE_NONNUMERIC',\n",
              " 'Sniffer',\n",
              " 'StringIO',\n",
              " '_Dialect',\n",
              " '__all__',\n",
              " '__builtins__',\n",
              " '__cached__',\n",
              " '__doc__',\n",
              " '__file__',\n",
              " '__loader__',\n",
              " '__name__',\n",
              " '__package__',\n",
              " '__spec__',\n",
              " '__version__',\n",
              " 'excel',\n",
              " 'excel_tab',\n",
              " 'field_size_limit',\n",
              " 'get_dialect',\n",
              " 'list_dialects',\n",
              " 're',\n",
              " 'reader',\n",
              " 'register_dialect',\n",
              " 'unix_dialect',\n",
              " 'unregister_dialect',\n",
              " 'writer']"
            ]
          },
          "metadata": {
            "tags": []
          },
          "execution_count": 2
        }
      ]
    },
    {
      "cell_type": "code",
      "metadata": {
        "id": "cCZynvKKTzDY"
      },
      "source": [
        "data = [['Name', 'Age', 'Profession'],\n",
        "        ['Jack', '23', 'Doctor'],\n",
        "        ['Miller', '22', 'Engineer']]"
      ],
      "execution_count": 15,
      "outputs": []
    },
    {
      "cell_type": "code",
      "metadata": {
        "colab": {
          "base_uri": "https://localhost:8080/"
        },
        "id": "GbMbUR-NT_UR",
        "outputId": "c812c8d5-3cc1-46ab-cd10-7b7ff587709d"
      },
      "source": [
        "def pridej_do_souboru(jmeno: str, data: list) -> None:\n",
        "  with open(jmeno, mode=\"w\") as f:\n",
        "    write_file = csv.writer(f)\n",
        "    write_file.writerows(data)\n",
        "\n",
        "jmeno = \"pokusI.csv\"\n",
        "vstup = input(\"Zadej data a rozdel je carkou: \").split(\",\")\n",
        "pridej_do_souboru(jmeno, vstup)"
      ],
      "execution_count": 16,
      "outputs": [
        {
          "output_type": "stream",
          "text": [
            "Zadej data a rozdel je carkou: Kuba,25,p\n"
          ],
          "name": "stdout"
        }
      ]
    },
    {
      "cell_type": "code",
      "metadata": {
        "colab": {
          "base_uri": "https://localhost:8080/"
        },
        "id": "_UnYM_l4WgTW",
        "outputId": "3de749af-81ad-4373-863d-8dcccd69e7e6"
      },
      "source": [
        "with open(\"pokus.csv\",\"r\") as f:\n",
        "  data = csv.reader(f)\n",
        "  for radek in data:\n",
        "    print(radek)"
      ],
      "execution_count": 20,
      "outputs": [
        {
          "output_type": "stream",
          "text": [
            "['Name', 'Age', 'Profession']\n",
            "['Jack', '23', 'Doctor']\n",
            "['Miller', '22', 'Engineer']\n",
            "['J', 'a', 'k', 'u', 'b']\n",
            "['2', '6']\n",
            "['V', 'a', 'l', 'e', 'n', 't', 'a']\n"
          ],
          "name": "stdout"
        }
      ]
    },
    {
      "cell_type": "code",
      "metadata": {
        "colab": {
          "base_uri": "https://localhost:8080/",
          "height": 183
        },
        "id": "IHLnqpsSWuoh",
        "outputId": "9bb1cf1e-3c59-4857-fafc-1953c6137fb0"
      },
      "source": [
        "for radek in data:\n",
        "  print(radek)"
      ],
      "execution_count": 18,
      "outputs": [
        {
          "output_type": "error",
          "ename": "ValueError",
          "evalue": "ignored",
          "traceback": [
            "\u001b[0;31m---------------------------------------------------------------------------\u001b[0m",
            "\u001b[0;31mValueError\u001b[0m                                Traceback (most recent call last)",
            "\u001b[0;32m<ipython-input-18-467acad796b4>\u001b[0m in \u001b[0;36m<module>\u001b[0;34m()\u001b[0m\n\u001b[0;32m----> 1\u001b[0;31m \u001b[0;32mfor\u001b[0m \u001b[0mradek\u001b[0m \u001b[0;32min\u001b[0m \u001b[0mdata\u001b[0m\u001b[0;34m:\u001b[0m\u001b[0;34m\u001b[0m\u001b[0;34m\u001b[0m\u001b[0m\n\u001b[0m\u001b[1;32m      2\u001b[0m   \u001b[0mprint\u001b[0m\u001b[0;34m(\u001b[0m\u001b[0mradek\u001b[0m\u001b[0;34m)\u001b[0m\u001b[0;34m\u001b[0m\u001b[0;34m\u001b[0m\u001b[0m\n",
            "\u001b[0;31mValueError\u001b[0m: I/O operation on closed file."
          ]
        }
      ]
    },
    {
      "cell_type": "code",
      "metadata": {
        "colab": {
          "base_uri": "https://localhost:8080/"
        },
        "id": "x2vj8w5zXhv1",
        "outputId": "df5e9354-e307-449e-83c6-120a86d704bc"
      },
      "source": [
        "with open(\"pokus.csv\", \"r\") as f:\n",
        "  csv_file = csv.DictReader(f)\n",
        "  for row in csv_file:\n",
        "      print(dict(row))"
      ],
      "execution_count": 23,
      "outputs": [
        {
          "output_type": "stream",
          "text": [
            "{'Name': 'Jack', 'Age': '23', 'Profession': 'Doctor'}\n",
            "{'Name': 'Miller', 'Age': '22', 'Profession': 'Engineer'}\n",
            "{'Name': 'J', 'Age': 'a', 'Profession': 'k', None: ['u', 'b']}\n",
            "{'Name': '2', 'Age': '6', 'Profession': None}\n",
            "{'Name': 'V', 'Age': 'a', 'Profession': 'l', None: ['e', 'n', 't', 'a']}\n"
          ],
          "name": "stdout"
        }
      ]
    },
    {
      "cell_type": "code",
      "metadata": {
        "id": "fl2dIoMwX4NA"
      },
      "source": [
        "import pandas as pd\n",
        "\n",
        "data = pd.read_csv(\"https://www.stats.govt.nz/assets/Uploads/Annual-enterprise-survey/Annual-enterprise-survey-2019-financial-year-provisional/Download-data/annual-enterprise-survey-2019-financial-year-provisional-csv.csv\")"
      ],
      "execution_count": 25,
      "outputs": []
    },
    {
      "cell_type": "code",
      "metadata": {
        "colab": {
          "base_uri": "https://localhost:8080/"
        },
        "id": "Mp_EOKNVbE7S",
        "outputId": "19af4730-bdba-4a8c-bbe8-66a37043326b"
      },
      "source": [
        "dir(pd)"
      ],
      "execution_count": 31,
      "outputs": [
        {
          "output_type": "execute_result",
          "data": {
            "text/plain": [
              "['BooleanDtype',\n",
              " 'Categorical',\n",
              " 'CategoricalDtype',\n",
              " 'CategoricalIndex',\n",
              " 'DataFrame',\n",
              " 'DateOffset',\n",
              " 'DatetimeIndex',\n",
              " 'DatetimeTZDtype',\n",
              " 'ExcelFile',\n",
              " 'ExcelWriter',\n",
              " 'Float64Index',\n",
              " 'Grouper',\n",
              " 'HDFStore',\n",
              " 'Index',\n",
              " 'IndexSlice',\n",
              " 'Int16Dtype',\n",
              " 'Int32Dtype',\n",
              " 'Int64Dtype',\n",
              " 'Int64Index',\n",
              " 'Int8Dtype',\n",
              " 'Interval',\n",
              " 'IntervalDtype',\n",
              " 'IntervalIndex',\n",
              " 'MultiIndex',\n",
              " 'NA',\n",
              " 'NaT',\n",
              " 'NamedAgg',\n",
              " 'Period',\n",
              " 'PeriodDtype',\n",
              " 'PeriodIndex',\n",
              " 'RangeIndex',\n",
              " 'Series',\n",
              " 'SparseDtype',\n",
              " 'StringDtype',\n",
              " 'Timedelta',\n",
              " 'TimedeltaIndex',\n",
              " 'Timestamp',\n",
              " 'UInt16Dtype',\n",
              " 'UInt32Dtype',\n",
              " 'UInt64Dtype',\n",
              " 'UInt64Index',\n",
              " 'UInt8Dtype',\n",
              " '__builtins__',\n",
              " '__cached__',\n",
              " '__doc__',\n",
              " '__docformat__',\n",
              " '__file__',\n",
              " '__getattr__',\n",
              " '__git_version__',\n",
              " '__loader__',\n",
              " '__name__',\n",
              " '__package__',\n",
              " '__path__',\n",
              " '__spec__',\n",
              " '__version__',\n",
              " '_config',\n",
              " '_hashtable',\n",
              " '_is_numpy_dev',\n",
              " '_lib',\n",
              " '_libs',\n",
              " '_np_version_under1p16',\n",
              " '_np_version_under1p17',\n",
              " '_np_version_under1p18',\n",
              " '_testing',\n",
              " '_tslib',\n",
              " '_typing',\n",
              " '_version',\n",
              " 'api',\n",
              " 'array',\n",
              " 'arrays',\n",
              " 'bdate_range',\n",
              " 'compat',\n",
              " 'concat',\n",
              " 'core',\n",
              " 'crosstab',\n",
              " 'cut',\n",
              " 'date_range',\n",
              " 'describe_option',\n",
              " 'errors',\n",
              " 'eval',\n",
              " 'factorize',\n",
              " 'get_dummies',\n",
              " 'get_option',\n",
              " 'infer_freq',\n",
              " 'interval_range',\n",
              " 'io',\n",
              " 'isna',\n",
              " 'isnull',\n",
              " 'json_normalize',\n",
              " 'lreshape',\n",
              " 'melt',\n",
              " 'merge',\n",
              " 'merge_asof',\n",
              " 'merge_ordered',\n",
              " 'notna',\n",
              " 'notnull',\n",
              " 'offsets',\n",
              " 'option_context',\n",
              " 'options',\n",
              " 'pandas',\n",
              " 'period_range',\n",
              " 'pivot',\n",
              " 'pivot_table',\n",
              " 'plotting',\n",
              " 'qcut',\n",
              " 'read_clipboard',\n",
              " 'read_csv',\n",
              " 'read_excel',\n",
              " 'read_feather',\n",
              " 'read_fwf',\n",
              " 'read_gbq',\n",
              " 'read_hdf',\n",
              " 'read_html',\n",
              " 'read_json',\n",
              " 'read_orc',\n",
              " 'read_parquet',\n",
              " 'read_pickle',\n",
              " 'read_sas',\n",
              " 'read_spss',\n",
              " 'read_sql',\n",
              " 'read_sql_query',\n",
              " 'read_sql_table',\n",
              " 'read_stata',\n",
              " 'read_table',\n",
              " 'reset_option',\n",
              " 'set_eng_float_format',\n",
              " 'set_option',\n",
              " 'show_versions',\n",
              " 'test',\n",
              " 'testing',\n",
              " 'timedelta_range',\n",
              " 'to_datetime',\n",
              " 'to_numeric',\n",
              " 'to_pickle',\n",
              " 'to_timedelta',\n",
              " 'tseries',\n",
              " 'unique',\n",
              " 'util',\n",
              " 'value_counts',\n",
              " 'wide_to_long']"
            ]
          },
          "metadata": {
            "tags": []
          },
          "execution_count": 31
        }
      ]
    },
    {
      "cell_type": "code",
      "metadata": {
        "id": "nqe-4RP5Zgb_"
      },
      "source": [
        "data.head().to_csv(\"data_z_Nz.csv\")"
      ],
      "execution_count": 28,
      "outputs": []
    },
    {
      "cell_type": "code",
      "metadata": {
        "id": "_ozpT1MEaKOg"
      },
      "source": [
        "data.head().to_html(\"data.html\")"
      ],
      "execution_count": 29,
      "outputs": []
    },
    {
      "cell_type": "code",
      "metadata": {
        "colab": {
          "base_uri": "https://localhost:8080/",
          "height": 381
        },
        "id": "XGYbvJ4Wbc27",
        "outputId": "8d82fc6c-fbc6-47c4-81b4-1555cd8cdd94"
      },
      "source": [
        "pd.read_clipboard()#Zkuste kopirovat nejakou tabulku do pythonu"
      ],
      "execution_count": 32,
      "outputs": [
        {
          "output_type": "error",
          "ename": "PyperclipException",
          "evalue": "ignored",
          "traceback": [
            "\u001b[0;31m---------------------------------------------------------------------------\u001b[0m",
            "\u001b[0;31mPyperclipException\u001b[0m                        Traceback (most recent call last)",
            "\u001b[0;32m<ipython-input-32-8cbad928c47b>\u001b[0m in \u001b[0;36m<module>\u001b[0;34m()\u001b[0m\n\u001b[0;32m----> 1\u001b[0;31m \u001b[0mpd\u001b[0m\u001b[0;34m.\u001b[0m\u001b[0mread_clipboard\u001b[0m\u001b[0;34m(\u001b[0m\u001b[0;34m)\u001b[0m\u001b[0;34m\u001b[0m\u001b[0;34m\u001b[0m\u001b[0m\n\u001b[0m",
            "\u001b[0;32m/usr/local/lib/python3.7/dist-packages/pandas/io/clipboards.py\u001b[0m in \u001b[0;36mread_clipboard\u001b[0;34m(sep, **kwargs)\u001b[0m\n\u001b[1;32m     36\u001b[0m     \u001b[0;32mfrom\u001b[0m \u001b[0mpandas\u001b[0m\u001b[0;34m.\u001b[0m\u001b[0mio\u001b[0m\u001b[0;34m.\u001b[0m\u001b[0mparsers\u001b[0m \u001b[0;32mimport\u001b[0m \u001b[0mread_csv\u001b[0m\u001b[0;34m\u001b[0m\u001b[0;34m\u001b[0m\u001b[0m\n\u001b[1;32m     37\u001b[0m \u001b[0;34m\u001b[0m\u001b[0m\n\u001b[0;32m---> 38\u001b[0;31m     \u001b[0mtext\u001b[0m \u001b[0;34m=\u001b[0m \u001b[0mclipboard_get\u001b[0m\u001b[0;34m(\u001b[0m\u001b[0;34m)\u001b[0m\u001b[0;34m\u001b[0m\u001b[0;34m\u001b[0m\u001b[0m\n\u001b[0m\u001b[1;32m     39\u001b[0m \u001b[0;34m\u001b[0m\u001b[0m\n\u001b[1;32m     40\u001b[0m     \u001b[0;31m# Try to decode (if needed, as \"text\" might already be a string here).\u001b[0m\u001b[0;34m\u001b[0m\u001b[0;34m\u001b[0m\u001b[0;34m\u001b[0m\u001b[0m\n",
            "\u001b[0;32m/usr/local/lib/python3.7/dist-packages/pandas/io/clipboard/__init__.py\u001b[0m in \u001b[0;36mlazy_load_stub_paste\u001b[0;34m()\u001b[0m\n\u001b[1;32m    647\u001b[0m     \u001b[0;32mglobal\u001b[0m \u001b[0mcopy\u001b[0m\u001b[0;34m,\u001b[0m \u001b[0mpaste\u001b[0m\u001b[0;34m\u001b[0m\u001b[0;34m\u001b[0m\u001b[0m\n\u001b[1;32m    648\u001b[0m     \u001b[0mcopy\u001b[0m\u001b[0;34m,\u001b[0m \u001b[0mpaste\u001b[0m \u001b[0;34m=\u001b[0m \u001b[0mdetermine_clipboard\u001b[0m\u001b[0;34m(\u001b[0m\u001b[0;34m)\u001b[0m\u001b[0;34m\u001b[0m\u001b[0;34m\u001b[0m\u001b[0m\n\u001b[0;32m--> 649\u001b[0;31m     \u001b[0;32mreturn\u001b[0m \u001b[0mpaste\u001b[0m\u001b[0;34m(\u001b[0m\u001b[0;34m)\u001b[0m\u001b[0;34m\u001b[0m\u001b[0;34m\u001b[0m\u001b[0m\n\u001b[0m\u001b[1;32m    650\u001b[0m \u001b[0;34m\u001b[0m\u001b[0m\n\u001b[1;32m    651\u001b[0m \u001b[0;34m\u001b[0m\u001b[0m\n",
            "\u001b[0;32m/usr/local/lib/python3.7/dist-packages/pandas/io/clipboard/__init__.py\u001b[0m in \u001b[0;36m__call__\u001b[0;34m(self, *args, **kwargs)\u001b[0m\n\u001b[1;32m    285\u001b[0m     \u001b[0;32mclass\u001b[0m \u001b[0mClipboardUnavailable\u001b[0m\u001b[0;34m:\u001b[0m\u001b[0;34m\u001b[0m\u001b[0;34m\u001b[0m\u001b[0m\n\u001b[1;32m    286\u001b[0m         \u001b[0;32mdef\u001b[0m \u001b[0m__call__\u001b[0m\u001b[0;34m(\u001b[0m\u001b[0mself\u001b[0m\u001b[0;34m,\u001b[0m \u001b[0;34m*\u001b[0m\u001b[0margs\u001b[0m\u001b[0;34m,\u001b[0m \u001b[0;34m**\u001b[0m\u001b[0mkwargs\u001b[0m\u001b[0;34m)\u001b[0m\u001b[0;34m:\u001b[0m\u001b[0;34m\u001b[0m\u001b[0;34m\u001b[0m\u001b[0m\n\u001b[0;32m--> 287\u001b[0;31m             \u001b[0;32mraise\u001b[0m \u001b[0mPyperclipException\u001b[0m\u001b[0;34m(\u001b[0m\u001b[0mEXCEPT_MSG\u001b[0m\u001b[0;34m)\u001b[0m\u001b[0;34m\u001b[0m\u001b[0;34m\u001b[0m\u001b[0m\n\u001b[0m\u001b[1;32m    288\u001b[0m \u001b[0;34m\u001b[0m\u001b[0m\n\u001b[1;32m    289\u001b[0m         \u001b[0;32mdef\u001b[0m \u001b[0m__bool__\u001b[0m\u001b[0;34m(\u001b[0m\u001b[0mself\u001b[0m\u001b[0;34m)\u001b[0m \u001b[0;34m->\u001b[0m \u001b[0mbool\u001b[0m\u001b[0;34m:\u001b[0m\u001b[0;34m\u001b[0m\u001b[0;34m\u001b[0m\u001b[0m\n",
            "\u001b[0;31mPyperclipException\u001b[0m: \n    Pyperclip could not find a copy/paste mechanism for your system.\n    For more information, please visit\n    https://pyperclip.readthedocs.io/en/latest/introduction.html#not-implemented-error\n    "
          ]
        }
      ]
    }
  ]
}