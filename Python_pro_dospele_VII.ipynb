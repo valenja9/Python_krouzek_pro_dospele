{
  "nbformat": 4,
  "nbformat_minor": 0,
  "metadata": {
    "colab": {
      "name": "Python_pro_dospele_VII.ipynb",
      "provenance": [],
      "authorship_tag": "ABX9TyO0NVY0pmjkEYF+42dJXc9D",
      "include_colab_link": true
    },
    "kernelspec": {
      "name": "python3",
      "display_name": "Python 3"
    }
  },
  "cells": [
    {
      "cell_type": "markdown",
      "metadata": {
        "id": "view-in-github",
        "colab_type": "text"
      },
      "source": [
        "<a href=\"https://colab.research.google.com/github/valenja9/Python_krouzek_pro_dospele/blob/main/Python_pro_dospele_VII.ipynb\" target=\"_parent\"><img src=\"https://colab.research.google.com/assets/colab-badge.svg\" alt=\"Open In Colab\"/></a>"
      ]
    },
    {
      "cell_type": "markdown",
      "metadata": {
        "id": "H3dGj4Zy5FoX"
      },
      "source": [
        "# Funkce"
      ]
    },
    {
      "cell_type": "markdown",
      "metadata": {
        "id": "koK16mzx5Jtu"
      },
      "source": [
        "# build-in"
      ]
    },
    {
      "cell_type": "code",
      "metadata": {
        "id": "aKQTYnw95Agz"
      },
      "source": [
        "sum(), dir(), type(), help(), int(), tuple(), dict(), max(), min()"
      ],
      "execution_count": null,
      "outputs": []
    },
    {
      "cell_type": "markdown",
      "metadata": {
        "id": "nIOIbXI75fyu"
      },
      "source": [
        "# Vlastní funkce"
      ]
    },
    {
      "cell_type": "code",
      "metadata": {
        "id": "dZPyGIDk6ros"
      },
      "source": [
        "def f():\r\n",
        "  pass"
      ],
      "execution_count": null,
      "outputs": []
    },
    {
      "cell_type": "code",
      "metadata": {
        "id": "v625O9ev5oLy"
      },
      "source": [
        "def soucet(a, b):\r\n",
        "  print(a + b)"
      ],
      "execution_count": null,
      "outputs": []
    },
    {
      "cell_type": "code",
      "metadata": {
        "id": "iNHJn5z75cSW"
      },
      "source": [
        "def suma(list_cisel):\r\n",
        "  vysledek = 0\r\n",
        "  for i in list_cisel:\r\n",
        "    vysledek +=i\r\n",
        "  return vysledek"
      ],
      "execution_count": null,
      "outputs": []
    },
    {
      "cell_type": "code",
      "metadata": {
        "id": "eqrkP0VT6PHN"
      },
      "source": [
        "def suma(list:list_cisel) -> int:\r\n",
        "  \"\"\"Funkce secte vsechna cisla zadana v listu a vrati jejich vysledek\"\"\"\r\n",
        "  vysledek = 0\r\n",
        "  for i in list_cisel:\r\n",
        "    vysledek +=i\r\n",
        "  return vysledek"
      ],
      "execution_count": null,
      "outputs": []
    }
  ]
}