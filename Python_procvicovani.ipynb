{
  "nbformat": 4,
  "nbformat_minor": 0,
  "metadata": {
    "colab": {
      "name": "Python_procvicovani.ipynb",
      "provenance": [],
      "authorship_tag": "ABX9TyNKnxrDqM8T3BQqNAClUGqy",
      "include_colab_link": true
    },
    "kernelspec": {
      "name": "python3",
      "display_name": "Python 3"
    }
  },
  "cells": [
    {
      "cell_type": "markdown",
      "metadata": {
        "id": "view-in-github",
        "colab_type": "text"
      },
      "source": [
        "<a href=\"https://colab.research.google.com/github/valenja9/Python_krouzek_pro_dospele/blob/main/Python_procvicovani.ipynb\" target=\"_parent\"><img src=\"https://colab.research.google.com/assets/colab-badge.svg\" alt=\"Open In Colab\"/></a>"
      ]
    },
    {
      "cell_type": "code",
      "metadata": {
        "id": "11cYFqZiT523"
      },
      "source": [
        "#Jaký symbol se používá pro uložení do proměnné?\r\n"
      ],
      "execution_count": null,
      "outputs": []
    },
    {
      "cell_type": "code",
      "metadata": {
        "cellView": "form",
        "id": "ESfIE8G6ZV1H"
      },
      "source": [
        "#@title\n",
        "="
      ],
      "execution_count": null,
      "outputs": []
    },
    {
      "cell_type": "code",
      "metadata": {
        "id": "QtT_If9AO2ql"
      },
      "source": [
        "#Ulož číslo 50 do proměnné cislo.\r\n"
      ],
      "execution_count": null,
      "outputs": []
    },
    {
      "cell_type": "code",
      "metadata": {
        "cellView": "form",
        "id": "WFYgDm12SHwH"
      },
      "source": [
        "#@title\n",
        "cislo = 50"
      ],
      "execution_count": null,
      "outputs": []
    },
    {
      "cell_type": "code",
      "metadata": {
        "id": "vzNmYjlPPARy"
      },
      "source": [
        "#vys promennou pomoci funkce print()\r\n"
      ],
      "execution_count": null,
      "outputs": []
    },
    {
      "cell_type": "code",
      "metadata": {
        "colab": {
          "base_uri": "https://localhost:8080/"
        },
        "cellView": "form",
        "id": "qc5rqMeFSKPx",
        "outputId": "0e9cec5b-72c0-47fb-a11d-0b51a58a73c1"
      },
      "source": [
        "#@title\n",
        "print(cislo)"
      ],
      "execution_count": null,
      "outputs": [
        {
          "output_type": "stream",
          "text": [
            "50\n"
          ],
          "name": "stdout"
        }
      ]
    },
    {
      "cell_type": "code",
      "metadata": {
        "id": "rGB-J_fSPT-C"
      },
      "source": [
        "#Zeptej se na datový typ\r\n"
      ],
      "execution_count": null,
      "outputs": []
    },
    {
      "cell_type": "code",
      "metadata": {
        "colab": {
          "base_uri": "https://localhost:8080/"
        },
        "cellView": "form",
        "id": "BF79Bb2-SNIt",
        "outputId": "36203aba-3fd9-43f8-8231-6c4236ac8bed"
      },
      "source": [
        "#@title\n",
        "type(cislo)"
      ],
      "execution_count": null,
      "outputs": [
        {
          "output_type": "execute_result",
          "data": {
            "text/plain": [
              "int"
            ]
          },
          "metadata": {
            "tags": []
          },
          "execution_count": 9
        }
      ]
    },
    {
      "cell_type": "code",
      "metadata": {
        "id": "oBe6FGb5PaWi"
      },
      "source": [
        "#Vytvor dalsi proměnnou cislo2 a ulož do ní číslo 60.\r\n"
      ],
      "execution_count": null,
      "outputs": []
    },
    {
      "cell_type": "code",
      "metadata": {
        "cellView": "form",
        "id": "ARFfGcrtSQnK"
      },
      "source": [
        "#@title\n",
        "cislo2 = 60"
      ],
      "execution_count": null,
      "outputs": []
    },
    {
      "cell_type": "code",
      "metadata": {
        "id": "34qNvcMTPiUp"
      },
      "source": [
        "#Vyděl tyto dvě proměnné a ulož je do nové proměnné výsledek.\r\n"
      ],
      "execution_count": null,
      "outputs": []
    },
    {
      "cell_type": "code",
      "metadata": {
        "cellView": "form",
        "id": "K4OAEUW4SWgo"
      },
      "source": [
        "#@title\n",
        "vysledek = cislo/cislo2"
      ],
      "execution_count": null,
      "outputs": []
    },
    {
      "cell_type": "code",
      "metadata": {
        "id": "D06HY5EEPoQJ"
      },
      "source": [
        "#Vypiš proměnou výsledek\r\n"
      ],
      "execution_count": null,
      "outputs": []
    },
    {
      "cell_type": "code",
      "metadata": {
        "colab": {
          "base_uri": "https://localhost:8080/"
        },
        "cellView": "form",
        "id": "VvbCJ6_PSegU",
        "outputId": "18027ced-45f6-40ad-add6-cb3004b23f4a"
      },
      "source": [
        "#@title\n",
        "print(vysledek)"
      ],
      "execution_count": null,
      "outputs": [
        {
          "output_type": "stream",
          "text": [
            "0.8333333333333334\n"
          ],
          "name": "stdout"
        }
      ]
    },
    {
      "cell_type": "code",
      "metadata": {
        "id": "qGAIhFOfP98A"
      },
      "source": [
        "#vytvoř program, který bude brát od uživatele dvě čísla a uloží je do proměnných  cislo1 a cislo2: input()\r\n",
        "\r\n",
        "#Ps: nezapomen prevest na cisla (int)"
      ],
      "execution_count": null,
      "outputs": []
    },
    {
      "cell_type": "code",
      "metadata": {
        "cellView": "form",
        "id": "i_JcuUD5Sh4N"
      },
      "source": [
        "#@title\n",
        "cislo1 = int(input(\"Zadej cislo1: \"))\n",
        "cislo2 = int(input(\"Zadej cislo2: \"))\n",
        "podil = cislo1 / cislo2\n",
        "print(podil)"
      ],
      "execution_count": null,
      "outputs": []
    },
    {
      "cell_type": "code",
      "metadata": {
        "id": "5LV-2nF-QT1m"
      },
      "source": [
        "#Vytvoř proměnné pro všechny matematické operace -+*/ a výsledky vypiš.\r\n"
      ],
      "execution_count": null,
      "outputs": []
    },
    {
      "cell_type": "code",
      "metadata": {
        "cellView": "form",
        "id": "D_1XugYd39X_"
      },
      "source": [
        "#@title\n",
        "soucet = cislo1 + cislo2\n",
        "rozdil = cislo1 - cislo2\n",
        "soucin = cislo1 * cislo2\n",
        "print(podil, soucet, rozdil, soucin)"
      ],
      "execution_count": null,
      "outputs": []
    },
    {
      "cell_type": "code",
      "metadata": {
        "id": "DH_ARPLdQWwR"
      },
      "source": [
        "#Do proměnné necelé číslo, zadej číslo s plavoucí desetinou čárkou a vypiš její typ.\r\n",
        "\r\n",
        "#ps: Nezapomen spojit nazev proměnné pomocí: _"
      ],
      "execution_count": null,
      "outputs": []
    },
    {
      "cell_type": "code",
      "metadata": {
        "cellView": "form",
        "id": "Wm_-joyxT3RB"
      },
      "source": [
        "#@title\n",
        "necele_cislo = 65"
      ],
      "execution_count": null,
      "outputs": []
    },
    {
      "cell_type": "code",
      "metadata": {
        "id": "cNEVuv6sSEdd"
      },
      "source": [
        "#Udelej to samé pro číslo 2.345 a zkus ho zaokrouhlit na jednu desetinou čárku.\r\n"
      ],
      "execution_count": null,
      "outputs": []
    },
    {
      "cell_type": "code",
      "metadata": {
        "colab": {
          "base_uri": "https://localhost:8080/"
        },
        "cellView": "form",
        "id": "CgeZrq1aUMad",
        "outputId": "c1c875c0-0a43-4316-be78-2ec0a5cacaa7"
      },
      "source": [
        "#@title\n",
        "necele_cislo = 2.345\n",
        "round(necele_cislo,1)"
      ],
      "execution_count": null,
      "outputs": [
        {
          "output_type": "execute_result",
          "data": {
            "text/plain": [
              "2.3"
            ]
          },
          "metadata": {
            "tags": []
          },
          "execution_count": 17
        }
      ]
    },
    {
      "cell_type": "code",
      "metadata": {
        "id": "kuYhIK6UUZvN"
      },
      "source": [
        "#Preved necele cislo na cislo cele"
      ],
      "execution_count": null,
      "outputs": []
    },
    {
      "cell_type": "code",
      "metadata": {
        "cellView": "form",
        "id": "r23etlARUfwm"
      },
      "source": [
        "#@title\n",
        "int(necele_cislo)"
      ],
      "execution_count": null,
      "outputs": []
    },
    {
      "cell_type": "code",
      "metadata": {
        "id": "PMWNkiyNUjwj"
      },
      "source": [
        "#Sečti necelé číslo s číslem celým"
      ],
      "execution_count": null,
      "outputs": []
    },
    {
      "cell_type": "code",
      "metadata": {
        "cellView": "form",
        "id": "BDpMg481Uju4"
      },
      "source": [
        "#@title\n",
        "4.5 + 1"
      ],
      "execution_count": null,
      "outputs": []
    },
    {
      "cell_type": "code",
      "metadata": {
        "id": "MwMyWncgRKYH"
      },
      "source": [
        "#zjisti jaké jsou bult-in funkce, které můžeš používat.\r\n"
      ],
      "execution_count": null,
      "outputs": []
    },
    {
      "cell_type": "code",
      "metadata": {
        "cellView": "form",
        "id": "ytw-ihRIUVWd"
      },
      "source": [
        "#@title\n",
        "dir(__builtins__)"
      ],
      "execution_count": null,
      "outputs": []
    },
    {
      "cell_type": "code",
      "metadata": {
        "id": "J0r3-RokV1Hp"
      },
      "source": [
        "#Zjisti dir cisla int a float."
      ],
      "execution_count": null,
      "outputs": []
    },
    {
      "cell_type": "code",
      "metadata": {
        "cellView": "form",
        "id": "S8x2men6V9Mt"
      },
      "source": [
        "#@title\n",
        "print(dir(3))\n",
        "print(dir(3.5))"
      ],
      "execution_count": null,
      "outputs": []
    },
    {
      "cell_type": "code",
      "metadata": {
        "id": "J_Ak_Ej9aqWZ"
      },
      "source": [
        "# Zapis tento výraz do pythonu:  (5 + 6) * 8 - 7"
      ],
      "execution_count": null,
      "outputs": []
    },
    {
      "cell_type": "code",
      "metadata": {
        "colab": {
          "base_uri": "https://localhost:8080/"
        },
        "cellView": "form",
        "id": "dC_dJSWza2IB",
        "outputId": "b7931a94-b9b0-4a01-c39c-65a55fe3bc1c"
      },
      "source": [
        "#@title\n",
        "(5 + 6) * 8 - 7"
      ],
      "execution_count": null,
      "outputs": [
        {
          "output_type": "execute_result",
          "data": {
            "text/plain": [
              "81"
            ]
          },
          "metadata": {
            "tags": []
          },
          "execution_count": 27
        }
      ]
    },
    {
      "cell_type": "code",
      "metadata": {
        "id": "tZ_WCoe_a7sw"
      },
      "source": [
        "# Zapis tento výraz do pythonu:  3/6 * 8 - 7"
      ],
      "execution_count": null,
      "outputs": []
    },
    {
      "cell_type": "code",
      "metadata": {
        "colab": {
          "base_uri": "https://localhost:8080/"
        },
        "cellView": "form",
        "id": "5DtAn0irbBKc",
        "outputId": "5173972a-e56c-4bca-d0fa-bf2bdd845065"
      },
      "source": [
        "#@title\n",
        "3/6 * 8 - 7"
      ],
      "execution_count": null,
      "outputs": [
        {
          "output_type": "execute_result",
          "data": {
            "text/plain": [
              "-3.0"
            ]
          },
          "metadata": {
            "tags": []
          },
          "execution_count": 28
        }
      ]
    },
    {
      "cell_type": "markdown",
      "metadata": {
        "id": "ATZPXxHMaGYZ"
      },
      "source": [
        "# Kvíz"
      ]
    },
    {
      "cell_type": "code",
      "metadata": {
        "id": "8fag9lr9aFTI"
      },
      "source": [
        "#Jak pythonu reknu, že se jedná o int?\r\n",
        "\r\n",
        "#Jak pythonu reknu, že se jedná o float?\r\n",
        "\r\n",
        "#Jaké operace čísla umí?\r\n",
        "\r\n",
        "#Jak python řeší pořadí matematických operací?"
      ],
      "execution_count": null,
      "outputs": []
    },
    {
      "cell_type": "code",
      "metadata": {
        "cellView": "form",
        "id": "5SgMxAaeaa1z"
      },
      "source": [
        "#@title\n",
        "a) stačí napsat jednoduché číslo\n",
        "b) v čísle je desetiná tečka\n",
        "c) Všechny matematické operace\n",
        "d) Stejně jako matematika"
      ],
      "execution_count": null,
      "outputs": []
    },
    {
      "cell_type": "markdown",
      "metadata": {
        "id": "J6eGE74HYpM0"
      },
      "source": [
        "# Prace s textem"
      ]
    },
    {
      "cell_type": "code",
      "metadata": {
        "id": "Ouq1KHzuZk84"
      },
      "source": [
        "#Jak python pozná string?\r\n"
      ],
      "execution_count": null,
      "outputs": []
    },
    {
      "cell_type": "code",
      "metadata": {
        "cellView": "form",
        "id": "eTGSk5vzZuJk"
      },
      "source": [
        "#@title\n",
        "\"\" nebo ''"
      ],
      "execution_count": null,
      "outputs": []
    },
    {
      "cell_type": "code",
      "metadata": {
        "id": "QLMKXxBSZxCU"
      },
      "source": [
        "#Proč se používájí: \"\"\" text\"\"\"?"
      ],
      "execution_count": null,
      "outputs": []
    },
    {
      "cell_type": "code",
      "metadata": {
        "cellView": "form",
        "id": "-U57DUGAZ7ca"
      },
      "source": [
        "#@title\n",
        "Pouzijeme je pro zápis delšího textu"
      ],
      "execution_count": null,
      "outputs": []
    },
    {
      "cell_type": "code",
      "metadata": {
        "id": "0iGo7ukDXIAD"
      },
      "source": [
        "#Převeď číslo: 6 na string pomocí str()\r\n"
      ],
      "execution_count": null,
      "outputs": []
    },
    {
      "cell_type": "code",
      "metadata": {
        "cellView": "form",
        "id": "TB11hVZFXOan"
      },
      "source": [
        "#@title\n",
        "str(6)"
      ],
      "execution_count": null,
      "outputs": []
    },
    {
      "cell_type": "code",
      "metadata": {
        "id": "eXiXRoqIRJsc"
      },
      "source": [
        "#Ulož tento text: \"Zkousim praci s textem\" do proměnné text\r\n",
        "\r\n",
        "#ps: Nezapomeń na úvozovky"
      ],
      "execution_count": null,
      "outputs": []
    },
    {
      "cell_type": "code",
      "metadata": {
        "cellView": "form",
        "id": "c6dzb_EZW7qx"
      },
      "source": [
        "#@title\n",
        "text = \"Zkousim praci s textem\""
      ],
      "execution_count": null,
      "outputs": []
    },
    {
      "cell_type": "code",
      "metadata": {
        "id": "2sVDrRm5Xi3E"
      },
      "source": [
        "#Zjisti datový typ proměnné text :) "
      ],
      "execution_count": null,
      "outputs": []
    },
    {
      "cell_type": "code",
      "metadata": {
        "cellView": "form",
        "id": "8YP7F4Z4Xs2d"
      },
      "source": [
        "#@title\n",
        "type(text)"
      ],
      "execution_count": null,
      "outputs": []
    },
    {
      "cell_type": "code",
      "metadata": {
        "id": "OF2qMySjXvPt"
      },
      "source": [
        "#Vypiš 50 x \"-\"\r\n"
      ],
      "execution_count": null,
      "outputs": []
    },
    {
      "cell_type": "code",
      "metadata": {
        "cellView": "form",
        "id": "g655_qd5YBUc"
      },
      "source": [
        "#@title\n",
        "50 * \"-\""
      ],
      "execution_count": null,
      "outputs": []
    },
    {
      "cell_type": "code",
      "metadata": {
        "id": "2BAAX4v6YKed"
      },
      "source": [
        "#Spoj svoje jméno a přijmení do jednoho textu."
      ],
      "execution_count": null,
      "outputs": []
    },
    {
      "cell_type": "code",
      "metadata": {
        "cellView": "form",
        "id": "x5QPWl5FYScI"
      },
      "source": [
        "#@title\n",
        "\"Petr\" + \"Novak\""
      ],
      "execution_count": null,
      "outputs": []
    },
    {
      "cell_type": "code",
      "metadata": {
        "id": "17zsqQuuYYeB"
      },
      "source": [
        "#Spoj svoje jméno a přijmení do jednoho textu a ulož do proměnné text."
      ],
      "execution_count": null,
      "outputs": []
    },
    {
      "cell_type": "code",
      "metadata": {
        "cellView": "form",
        "id": "W7Q1J2uiYeJW"
      },
      "source": [
        "#@title\n",
        "text = \"Petr\" + \"Novak\""
      ],
      "execution_count": null,
      "outputs": []
    },
    {
      "cell_type": "code",
      "metadata": {
        "id": "9I-N_dIRYhbp"
      },
      "source": [
        "#Preced cilslo na text a vypis ho.\r\n",
        "cislo = 50"
      ],
      "execution_count": null,
      "outputs": []
    },
    {
      "cell_type": "code",
      "metadata": {
        "cellView": "form",
        "id": "_ZbIz_UVYzrL"
      },
      "source": [
        "#@title\n",
        "print(str(cislo))"
      ],
      "execution_count": null,
      "outputs": []
    },
    {
      "cell_type": "code",
      "metadata": {
        "id": "rouKyIHyY7So"
      },
      "source": [
        "#Ze stringu několika písmen udělej list písmen.\r\n",
        "string = \"abcdefg\""
      ],
      "execution_count": null,
      "outputs": []
    },
    {
      "cell_type": "code",
      "metadata": {
        "cellView": "form",
        "id": "H7gNp3dKZK__"
      },
      "source": [
        "#@title\n",
        "list(string)"
      ],
      "execution_count": null,
      "outputs": []
    },
    {
      "cell_type": "code",
      "metadata": {
        "id": "rHzWCLVwb1at"
      },
      "source": [
        "#Ze stringu několika písmen udělej tuple písmen.\r\n"
      ],
      "execution_count": null,
      "outputs": []
    },
    {
      "cell_type": "code",
      "metadata": {
        "cellView": "form",
        "id": "meZo-RIhera9"
      },
      "source": [
        "#@title\n",
        "tuple(string)"
      ],
      "execution_count": null,
      "outputs": []
    },
    {
      "cell_type": "code",
      "metadata": {
        "id": "P8PQXMQ_ewI0"
      },
      "source": [
        "#Zjisti jaké metody má string pomocí funkce dir\r\n"
      ],
      "execution_count": null,
      "outputs": []
    },
    {
      "cell_type": "code",
      "metadata": {
        "cellView": "form",
        "id": "ZL1DuULBe-68"
      },
      "source": [
        "#@title\n",
        "dir(\"text\")"
      ],
      "execution_count": null,
      "outputs": []
    },
    {
      "cell_type": "code",
      "metadata": {
        "id": "-C1iZpYQfD8A"
      },
      "source": [
        "#Zajímá tě víc? tak napis help(str) a zjisti co jednotlivé metody dělají.\r\n"
      ],
      "execution_count": null,
      "outputs": []
    },
    {
      "cell_type": "code",
      "metadata": {
        "cellView": "form",
        "id": "aoJVBW3IfPi-"
      },
      "source": [
        "#@title\n",
        "help(str)"
      ],
      "execution_count": null,
      "outputs": []
    },
    {
      "cell_type": "code",
      "metadata": {
        "id": "d7qXCpz2fRR8"
      },
      "source": [
        "#Do proměnné text ulož \"Text na zkoušku\""
      ],
      "execution_count": null,
      "outputs": []
    },
    {
      "cell_type": "code",
      "metadata": {
        "cellView": "form",
        "id": "aKK9asEjfpgP"
      },
      "source": [
        "#@title\n",
        "text = \"Text na zkoušku\""
      ],
      "execution_count": null,
      "outputs": []
    },
    {
      "cell_type": "code",
      "metadata": {
        "id": "f-HMSuwyfvbS"
      },
      "source": [
        "#Všechna písmena převeď na malá písmena.\r\n"
      ],
      "execution_count": null,
      "outputs": []
    },
    {
      "cell_type": "code",
      "metadata": {
        "cellView": "form",
        "id": "ysHGmTEpgCHM"
      },
      "source": [
        "#@title\n",
        "text.lower()"
      ],
      "execution_count": null,
      "outputs": []
    },
    {
      "cell_type": "code",
      "metadata": {
        "id": "8kHiTQmZgEuo"
      },
      "source": [
        "#Vypiš si původní text a zjisti jak vypadá! Je text měnitelný?\r\n"
      ],
      "execution_count": null,
      "outputs": []
    },
    {
      "cell_type": "code",
      "metadata": {
        "cellView": "form",
        "id": "Y0BkJyeNgRcO"
      },
      "source": [
        "#@title\n",
        "text\n",
        "#Neni"
      ],
      "execution_count": null,
      "outputs": []
    },
    {
      "cell_type": "code",
      "metadata": {
        "id": "JTb6J1yXgWWY"
      },
      "source": [
        "#Prvni pismeno každého slova bude velké.\r\n"
      ],
      "execution_count": null,
      "outputs": []
    },
    {
      "cell_type": "code",
      "metadata": {
        "cellView": "form",
        "id": "DZmpmcX7giuz"
      },
      "source": [
        "#@title\n",
        "text.title()"
      ],
      "execution_count": null,
      "outputs": []
    },
    {
      "cell_type": "code",
      "metadata": {
        "id": "hABlJgagglZy"
      },
      "source": [
        "#Všechna písmena budou velká\r\n"
      ],
      "execution_count": null,
      "outputs": []
    },
    {
      "cell_type": "code",
      "metadata": {
        "cellView": "form",
        "id": "LPmlkH_4g593"
      },
      "source": [
        "#@title\n",
        "text.upper()"
      ],
      "execution_count": null,
      "outputs": []
    },
    {
      "cell_type": "code",
      "metadata": {
        "id": "IIb5T9Ptg7_B"
      },
      "source": [
        "#V textu nahrad pismeno \"u\" za \"a\"\r\n"
      ],
      "execution_count": null,
      "outputs": []
    },
    {
      "cell_type": "code",
      "metadata": {
        "cellView": "form",
        "id": "r23dztqbhGD7"
      },
      "source": [
        "#@title\n",
        "text.replace(\"u\",\"a\")"
      ],
      "execution_count": null,
      "outputs": []
    },
    {
      "cell_type": "code",
      "metadata": {
        "id": "qPM4R6Q8hZLJ"
      },
      "source": [
        "#Kolikrat je pismeno \"u\" v textu?\r\n"
      ],
      "execution_count": null,
      "outputs": []
    },
    {
      "cell_type": "code",
      "metadata": {
        "cellView": "form",
        "id": "6lVDL2qvhkka"
      },
      "source": [
        "#@title\n",
        "text.cout(\"u\")"
      ],
      "execution_count": null,
      "outputs": []
    },
    {
      "cell_type": "code",
      "metadata": {
        "id": "KNjfDGEbhpeC"
      },
      "source": [
        "#Na jakém indexu se nachází písmeno \"u\"?\r\n"
      ],
      "execution_count": null,
      "outputs": []
    },
    {
      "cell_type": "code",
      "metadata": {
        "cellView": "form",
        "id": "l7MbhWe7h5XZ"
      },
      "source": [
        "#@title\n",
        "text.index(\"u\")"
      ],
      "execution_count": null,
      "outputs": []
    },
    {
      "cell_type": "code",
      "metadata": {
        "id": "8NZub92Wh8Wl"
      },
      "source": [
        "#Mám zadaný list písmen a rád bych je spojil momocí čárky. Jak to udělám? \r\n",
        "list_pismen = [\"a\",\"b\",\"c\",\"d\",\"e\",\"f\"]"
      ],
      "execution_count": null,
      "outputs": []
    },
    {
      "cell_type": "code",
      "metadata": {
        "cellView": "form",
        "id": "emAiLHk3iEff"
      },
      "source": [
        "#@title\n",
        "print(\",\".join(list_pismen))"
      ],
      "execution_count": null,
      "outputs": []
    },
    {
      "cell_type": "code",
      "metadata": {
        "id": "64BTpEaNiky3"
      },
      "source": [
        "#Mám proměnnou text = \"Ahoj\" a já bych si přál aby v této proměnné byla uložena jen malá písmena.\r\n",
        "text = \"Ahoj\""
      ],
      "execution_count": null,
      "outputs": []
    },
    {
      "cell_type": "code",
      "metadata": {
        "cellView": "form",
        "id": "q0TEE9QniysM"
      },
      "source": [
        "#@title\n",
        "text = text.lower()"
      ],
      "execution_count": null,
      "outputs": []
    },
    {
      "cell_type": "code",
      "metadata": {
        "id": "564LShvei1cx"
      },
      "source": [
        "#Zkus tento úkol zopakovat i s upper() a title().\r\n"
      ],
      "execution_count": null,
      "outputs": []
    },
    {
      "cell_type": "code",
      "metadata": {
        "id": "2NHvctEuvx9_"
      },
      "source": [
        ""
      ],
      "execution_count": null,
      "outputs": []
    },
    {
      "cell_type": "code",
      "metadata": {
        "colab": {
          "base_uri": "https://localhost:8080/"
        },
        "id": "eHwv2HPOTeaI",
        "cellView": "form",
        "outputId": "29a6e674-6332-4af9-80a2-b24e02e896ca"
      },
      "source": [
        "#@title\n",
        "print(f\"{text}\")"
      ],
      "execution_count": null,
      "outputs": [
        {
          "output_type": "stream",
          "text": [
            "Python\n"
          ],
          "name": "stdout"
        }
      ]
    },
    {
      "cell_type": "code",
      "metadata": {
        "id": "alD1xg8nv3v1"
      },
      "source": [
        "#Vlož tyto tři proměnné do textu:\"Tohle je moje jmeno: [] a  []. Je ti celkem []   \"  \r\n",
        "# a vypis ho.\r\n",
        "#Použíj několik způsobů.\r\n",
        "\r\n",
        "jmeno = \"Jakub\"\r\n",
        "prijmeni = \"Valenta\"\r\n",
        "vek = 26"
      ],
      "execution_count": null,
      "outputs": []
    },
    {
      "cell_type": "code",
      "metadata": {
        "cellView": "form",
        "id": "yDFtACGDwE6L"
      },
      "source": [
        "#@title\n",
        "#a) \n",
        "print(\"Tohle je moje jmeno: \" + jmeno + \" a \" + prijmeni + \". Je ti celkem \" + str(vek))\n",
        "#b)\n",
        "print(f\"Tohle je moje jmeno: {jmeno} a {prijmeni}. Je mi celkem  {vek}\") \n",
        "#c)\n",
        "print(\"Tohle je moje jmeno:\", jmeno, \"a\", prijmeni , \". Je ti celkem\", vek)"
      ],
      "execution_count": null,
      "outputs": []
    },
    {
      "cell_type": "code",
      "metadata": {
        "id": "wUxE__Sxz3Qc"
      },
      "source": [
        "#Jak formatovat text? ><^"
      ],
      "execution_count": null,
      "outputs": []
    },
    {
      "cell_type": "code",
      "metadata": {
        "cellView": "form",
        "id": "GIBDjrjX0SJz"
      },
      "source": [
        "#@title\n",
        "#doprava  promena:cim mam vyplnit zbytek > kolik budu chcit prostoru \n",
        "#doleva  promena:cim mam vyplnit zbytek < kolik budu chcit prostoru\n",
        "#nastřed  promena:cim mam vyplnit zbytek ^ kolik budu chcit prostoru  "
      ],
      "execution_count": null,
      "outputs": []
    },
    {
      "cell_type": "code",
      "metadata": {
        "id": "y_ejy6Z8zONr"
      },
      "source": [
        "#Naformatuj text takto: |+++++++++++++++++++++++++++++++++++++++++++++Jakub|"
      ],
      "execution_count": null,
      "outputs": []
    },
    {
      "cell_type": "code",
      "metadata": {
        "id": "ZEedtexIzmAc",
        "cellView": "form"
      },
      "source": [
        "#@title\n",
        "print(f\"|{jmeno:+>50}|\")"
      ],
      "execution_count": null,
      "outputs": []
    },
    {
      "cell_type": "code",
      "metadata": {
        "id": "F8W9ygVWzxRx"
      },
      "source": [
        "#Naformatuj text takto: |Valenta*******************************************|"
      ],
      "execution_count": null,
      "outputs": []
    },
    {
      "cell_type": "code",
      "metadata": {
        "cellView": "form",
        "id": "YMv7IhXXzeh1"
      },
      "source": [
        "#@title\n",
        "print(f\"|{prijmeni:*<50}|\")\n"
      ],
      "execution_count": null,
      "outputs": []
    },
    {
      "cell_type": "code",
      "metadata": {
        "id": "MZNqfD0YzuM5"
      },
      "source": [
        "#Naformatuj text takto:|/////////////////////Valenta//////////////////////|"
      ],
      "execution_count": null,
      "outputs": []
    },
    {
      "cell_type": "code",
      "metadata": {
        "cellView": "form",
        "id": "l6SGp4kazfWb"
      },
      "source": [
        "#@title\n",
        "print(f\"|{prijmeni:/^50}|\")"
      ],
      "execution_count": null,
      "outputs": []
    },
    {
      "cell_type": "code",
      "metadata": {
        "id": "6ebFTJLP05eC"
      },
      "source": [
        "#Naformatuj cislo tak, aby mělo kladné znaménko"
      ],
      "execution_count": null,
      "outputs": []
    },
    {
      "cell_type": "code",
      "metadata": {
        "colab": {
          "base_uri": "https://localhost:8080/",
          "height": 35
        },
        "id": "Ml19xET72BdG",
        "cellView": "form",
        "outputId": "5346e528-4a22-4d0b-b679-f1edf084f9f9"
      },
      "source": [
        "#@title\n",
        "cislo = 50\n",
        "f'|{cislo:+}|'"
      ],
      "execution_count": null,
      "outputs": [
        {
          "output_type": "execute_result",
          "data": {
            "application/vnd.google.colaboratory.intrinsic+json": {
              "type": "string"
            },
            "text/plain": [
              "'|+50|'"
            ]
          },
          "metadata": {
            "tags": []
          },
          "execution_count": 20
        }
      ]
    },
    {
      "cell_type": "code",
      "metadata": {
        "id": "C-ECIL6W1C_-"
      },
      "source": [
        "#Naformátuj tak, aby mělo číslo kladné znaménko, když je kladné a záporné, když je záporné."
      ],
      "execution_count": null,
      "outputs": []
    },
    {
      "cell_type": "code",
      "metadata": {
        "id": "ISAve2Yq2bXO",
        "cellView": "form"
      },
      "source": [
        "#@title\n",
        "#a) Jeden řádek\n",
        "f'{cislo:+}' if cislo > 0 else f'{cislo:-}'\n",
        "#b) \n",
        "if cislo > 0:\n",
        "  print(f'{cislo:+}')\n",
        "else:\n",
        "  print(f'{cislo:-}')"
      ],
      "execution_count": null,
      "outputs": []
    },
    {
      "cell_type": "code",
      "metadata": {
        "id": "v_DzejLu14ZZ"
      },
      "source": [
        "#Pomocí metody ljust() 4xxxx"
      ],
      "execution_count": null,
      "outputs": []
    },
    {
      "cell_type": "code",
      "metadata": {
        "colab": {
          "base_uri": "https://localhost:8080/"
        },
        "id": "7qe_VViF2yo-",
        "cellView": "form",
        "outputId": "55c3ddd7-1ec6-4f3b-db2e-049f3aeb817e"
      },
      "source": [
        "#@title\n",
        "print(\"4\".ljust(5,\"x\"))"
      ],
      "execution_count": null,
      "outputs": [
        {
          "output_type": "stream",
          "text": [
            "4xxxx\n"
          ],
          "name": "stdout"
        }
      ]
    },
    {
      "cell_type": "code",
      "metadata": {
        "id": "vFRcyGJW2Ak7"
      },
      "source": [
        "#Pomocí metody rjust() xxxx4"
      ],
      "execution_count": null,
      "outputs": []
    },
    {
      "cell_type": "code",
      "metadata": {
        "colab": {
          "base_uri": "https://localhost:8080/"
        },
        "id": "X5GOixox25DR",
        "cellView": "form",
        "outputId": "a04f9d30-f8d3-4d2d-9204-7f2d097694c1"
      },
      "source": [
        "#@title\n",
        "print(\"4\".rjust(5,\"x\"))"
      ],
      "execution_count": null,
      "outputs": [
        {
          "output_type": "stream",
          "text": [
            "xxxx4\n"
          ],
          "name": "stdout"
        }
      ]
    },
    {
      "cell_type": "code",
      "metadata": {
        "id": "R1J7Jeft2Rrr"
      },
      "source": [
        "#Pomocí metody center() zarovnej  xx4xx"
      ],
      "execution_count": null,
      "outputs": []
    },
    {
      "cell_type": "code",
      "metadata": {
        "colab": {
          "base_uri": "https://localhost:8080/"
        },
        "id": "90wpmzwo26jS",
        "cellView": "form",
        "outputId": "33a28e32-0e8b-4c9a-8432-d7241a6676b3"
      },
      "source": [
        "#@title\n",
        "print(\"4\".center(5,\"x\"))"
      ],
      "execution_count": null,
      "outputs": [
        {
          "output_type": "stream",
          "text": [
            "xx4xx\n"
          ],
          "name": "stdout"
        }
      ]
    },
    {
      "cell_type": "code",
      "metadata": {
        "id": "th5LFSPikB9r"
      },
      "source": [
        "#Od jakého čísla indexujeme a jaké používáme závorky? \r\n"
      ],
      "execution_count": null,
      "outputs": []
    },
    {
      "cell_type": "code",
      "metadata": {
        "cellView": "form",
        "id": "YK1sEtLnkHSR"
      },
      "source": [
        "#@title\n",
        "0,[]"
      ],
      "execution_count": null,
      "outputs": []
    },
    {
      "cell_type": "code",
      "metadata": {
        "id": "OT5fg8Vwj3U3"
      },
      "source": [
        "#Co za písmeno se nachází na indexu 0?\r\n",
        "text = \"Python\""
      ],
      "execution_count": null,
      "outputs": []
    },
    {
      "cell_type": "code",
      "metadata": {
        "cellView": "form",
        "id": "haEb4ji1kcLa"
      },
      "source": [
        "#@title\n",
        "text[0]"
      ],
      "execution_count": null,
      "outputs": []
    },
    {
      "cell_type": "code",
      "metadata": {
        "id": "fS_2Y666k9PI"
      },
      "source": [
        "#Chtěl bych si vypsat text jen do třetího indexu!\r\n",
        "\r\n",
        "#PS: Dej si pozor! Neznamená to včetně třetího indexu"
      ],
      "execution_count": null,
      "outputs": []
    },
    {
      "cell_type": "code",
      "metadata": {
        "cellView": "form",
        "id": "7e-8euIzlHVi"
      },
      "source": [
        "#@title\n",
        "text[0:3]"
      ],
      "execution_count": null,
      "outputs": []
    },
    {
      "cell_type": "code",
      "metadata": {
        "id": "XDb4Hf75loK-"
      },
      "source": [
        "#Chtěl bych si vypsat text včetně třetího indexu!\r\n",
        "\r\n",
        "#PS: Dej si pozor! Tentokrát bude i třetí index"
      ],
      "execution_count": null,
      "outputs": []
    },
    {
      "cell_type": "code",
      "metadata": {
        "cellView": "form",
        "id": "L9eclIJElvaO"
      },
      "source": [
        "#@title\n",
        "text[0:4]"
      ],
      "execution_count": null,
      "outputs": []
    },
    {
      "cell_type": "code",
      "metadata": {
        "id": "tEU5E2VlngpE"
      },
      "source": [
        "#Vypiš každé druhé písmeno!\r\n"
      ],
      "execution_count": null,
      "outputs": []
    },
    {
      "cell_type": "code",
      "metadata": {
        "cellView": "form",
        "id": "mqGhefOqnotS"
      },
      "source": [
        "#@title\n",
        "text[::2]"
      ],
      "execution_count": null,
      "outputs": []
    },
    {
      "cell_type": "code",
      "metadata": {
        "id": "GeaSVCT4nriN"
      },
      "source": [
        "#Vypiš text pozadu.\r\n"
      ],
      "execution_count": null,
      "outputs": []
    },
    {
      "cell_type": "code",
      "metadata": {
        "cellView": "form",
        "id": "kMLhHLZXnyG6"
      },
      "source": [
        "#@title\n",
        "text[::-1]"
      ],
      "execution_count": null,
      "outputs": []
    },
    {
      "cell_type": "code",
      "metadata": {
        "id": "dCCafMRDooWW"
      },
      "source": [
        "#Jaké hodnoty má boolen?\r\n"
      ],
      "execution_count": null,
      "outputs": []
    },
    {
      "cell_type": "code",
      "metadata": {
        "cellView": "form",
        "id": "lf8cmxoQotX5"
      },
      "source": [
        "#@title\n",
        "True, False"
      ],
      "execution_count": null,
      "outputs": []
    },
    {
      "cell_type": "code",
      "metadata": {
        "id": "qYXle7Oaou-h"
      },
      "source": [
        "#Jak zjistím jestli se \"a\" přesně rovná \"a\"? Případně co my python vypíše?"
      ],
      "execution_count": null,
      "outputs": []
    },
    {
      "cell_type": "code",
      "metadata": {
        "colab": {
          "base_uri": "https://localhost:8080/"
        },
        "cellView": "form",
        "id": "tsHTUq_yo4Gv",
        "outputId": "f4cdffa9-cd3f-4c5e-af8a-23cd3a1c7973"
      },
      "source": [
        "#@title\n",
        "\"a\"==\"a\"\n",
        "#pravdivostni hodnotu"
      ],
      "execution_count": null,
      "outputs": [
        {
          "output_type": "execute_result",
          "data": {
            "text/plain": [
              "True"
            ]
          },
          "metadata": {
            "tags": []
          },
          "execution_count": 38
        }
      ]
    },
    {
      "cell_type": "code",
      "metadata": {
        "id": "bPcqvHfmqe9E"
      },
      "source": [
        "#Zeptej se jestli je a uvnitr textu  \"ahoj\"\r\n"
      ],
      "execution_count": null,
      "outputs": []
    },
    {
      "cell_type": "code",
      "metadata": {
        "cellView": "form",
        "id": "DewdATzcqlq0"
      },
      "source": [
        "#@title\n",
        "\"a\" in \"ahoj\""
      ],
      "execution_count": null,
      "outputs": []
    },
    {
      "cell_type": "code",
      "metadata": {
        "id": "fncGLwH9qoYT"
      },
      "source": [
        "#Zaptej se jestli je @ v kub@gmal.com\r\n"
      ],
      "execution_count": null,
      "outputs": []
    },
    {
      "cell_type": "code",
      "metadata": {
        "cellView": "form",
        "id": "G6hPgqMqqxdu"
      },
      "source": [
        "#@title\n",
        "\"@\" in \"kub@gmal.com\""
      ],
      "execution_count": null,
      "outputs": []
    },
    {
      "cell_type": "code",
      "metadata": {
        "id": "UhmweSBNq0VJ"
      },
      "source": [
        "#Zeptej se jestli je 40 větší než 30"
      ],
      "execution_count": null,
      "outputs": []
    },
    {
      "cell_type": "code",
      "metadata": {
        "cellView": "form",
        "id": "Vk_UROW1q-lr"
      },
      "source": [
        "#@title\n",
        "40 > 30"
      ],
      "execution_count": null,
      "outputs": []
    },
    {
      "cell_type": "code",
      "metadata": {
        "id": "V3hNIkVwrALq"
      },
      "source": [
        "#Zeptej se jestli je 40 menší než 30"
      ],
      "execution_count": null,
      "outputs": []
    },
    {
      "cell_type": "code",
      "metadata": {
        "cellView": "form",
        "id": "OMG5xjgDrDYK"
      },
      "source": [
        "#@title\n",
        "40 < 30"
      ],
      "execution_count": null,
      "outputs": []
    },
    {
      "cell_type": "code",
      "metadata": {
        "id": "tTL4eFymrFXS"
      },
      "source": [
        "#Zeptej se jestli se \"k\" a \"P\" sobě nerovnají!"
      ],
      "execution_count": null,
      "outputs": []
    },
    {
      "cell_type": "code",
      "metadata": {
        "cellView": "form",
        "id": "FgdegA5urLuP"
      },
      "source": [
        "#@title\n",
        "\"k\" != \"P\""
      ],
      "execution_count": null,
      "outputs": []
    },
    {
      "cell_type": "code",
      "metadata": {
        "id": "dp1kmIufnzpw"
      },
      "source": [
        "#Napiš krátký kod pro kontrolu palindromu:  \r\n",
        "#Pokud se jedná o palindrom tak program napíše True, jinak napíše False.\r\n"
      ],
      "execution_count": null,
      "outputs": []
    },
    {
      "cell_type": "code",
      "metadata": {
        "cellView": "form",
        "id": "MaX_QbYJomKY"
      },
      "source": [
        "#@title\n",
        "text = input(\"Zadej slovo: \")\n",
        "text[::-1] == text"
      ],
      "execution_count": null,
      "outputs": []
    },
    {
      "cell_type": "code",
      "metadata": {
        "id": "TVPH8YAwpAQY"
      },
      "source": [
        " #Napis kod palindromu pomocí podmínky.\r\n",
        "\r\n"
      ],
      "execution_count": null,
      "outputs": []
    },
    {
      "cell_type": "code",
      "metadata": {
        "cellView": "form",
        "id": "zwjEBAtapfpO"
      },
      "source": [
        "#@title\n",
        "if text[::-1] == text:\n",
        "  print(True)\n",
        "else:\n",
        "  print(False)"
      ],
      "execution_count": null,
      "outputs": []
    },
    {
      "cell_type": "code",
      "metadata": {
        "id": "C9852XElphMg"
      },
      "source": [
        "#Zkus tuto podmínku přepsat na jeden řádek.\r\n"
      ],
      "execution_count": null,
      "outputs": []
    },
    {
      "cell_type": "code",
      "metadata": {
        "cellView": "form",
        "id": "EDWuzHQ4prCL"
      },
      "source": [
        "#@title\n",
        "True if text[::-1] == text else False"
      ],
      "execution_count": null,
      "outputs": []
    },
    {
      "cell_type": "code",
      "metadata": {
        "id": "G0T6UPUUpsgP"
      },
      "source": [
        "#Napiš program, který tě:\r\n",
        "#- uvítá\r\n",
        "#- nachá si zadat slovo\r\n",
        "#- Vypíše jesli je slovo palindrom anebo ne!"
      ],
      "execution_count": null,
      "outputs": []
    },
    {
      "cell_type": "code",
      "metadata": {
        "cellView": "form",
        "id": "k-IXpYm4p-wx"
      },
      "source": [
        "#@title\n",
        "print(\"Vítej v této aplikaci, která ti řekne jestli se jedná o palindrom\")\n",
        "text = input(\"Zadej text: \")\n",
        "if text[::-1] == text:\n",
        "  print(\"Jedná se o palindrom\")\n",
        "else:\n",
        "  print(\"Nejedná se o palindrom\")"
      ],
      "execution_count": null,
      "outputs": []
    },
    {
      "cell_type": "code",
      "metadata": {
        "id": "K94LN_t3rVwU"
      },
      "source": [
        "#Přidej do našeho kodu elif a kontroluj jestli se alespoň rovnají první písmena.\r\n"
      ],
      "execution_count": null,
      "outputs": []
    },
    {
      "cell_type": "code",
      "metadata": {
        "cellView": "form",
        "id": "Yc7zAlU2rgUp"
      },
      "source": [
        "#@title\n",
        "print(\"Vítej v této aplikaci, která ti řekne jestli se jedná o palindrom\")\n",
        "text = input(\"Zadej text: \")\n",
        "if text[::-1] == text:\n",
        "  print(\"Jedná se o palindrom\")\n",
        "elif text[::-1][0] == text[0]:\n",
        "  print(\"Rovnají se alespoń první písmena\")\n",
        "else:\n",
        "  print(\"Nejedná se o palindrom\")"
      ],
      "execution_count": null,
      "outputs": []
    },
    {
      "cell_type": "markdown",
      "metadata": {
        "id": "CxIu3_Tg4OxC"
      },
      "source": [
        "# Kvíz"
      ]
    },
    {
      "cell_type": "code",
      "metadata": {
        "id": "Mj9P5wap4Q2n"
      },
      "source": [
        "#Dá se string rozdělit na jednotlivé znaky?\r\n",
        "\r\n",
        "#Co dělá metoda join?\r\n",
        "\r\n",
        "#Jak se dá sečíst string a int?\r\n",
        "\r\n",
        "#Jak se dá sečíst string a float?\r\n",
        "\r\n",
        "#Jak ze stringu uděláte list jednotlivých slov? "
      ],
      "execution_count": null,
      "outputs": []
    },
    {
      "cell_type": "code",
      "metadata": {
        "cellView": "form",
        "id": "U0RPFD9j44Oe"
      },
      "source": [
        "#@title\n",
        "#Dá se string rozdělit na jednotlivé znaky?\n",
        "Ano! Je intdexovatelný\n",
        "#Co dělá metoda join?\n",
        "Spojuje dle zvoleného znaku \"+\".join(...)\n",
        "#Jak se dá sečíst string a int?\n",
        "Když převedu na společný datový typ\n",
        "#Jak se dá sečíst string a float?\n",
        "Když převedu na společný datový typ\n",
        "#Jak ze stringu uděláte list jednotlivých slov? \n",
        "Pomocí metody split."
      ],
      "execution_count": null,
      "outputs": []
    },
    {
      "cell_type": "markdown",
      "metadata": {
        "id": "ISuZ1GaJN9PT"
      },
      "source": [
        "list"
      ]
    },
    {
      "cell_type": "code",
      "metadata": {
        "id": "LDN4PbEcN-0d"
      },
      "source": [
        ""
      ],
      "execution_count": null,
      "outputs": []
    },
    {
      "cell_type": "markdown",
      "metadata": {
        "id": "C5oVlrJFN_pt"
      },
      "source": [
        "tuple"
      ]
    },
    {
      "cell_type": "code",
      "metadata": {
        "id": "KB87ou_gOCdP"
      },
      "source": [
        ""
      ],
      "execution_count": null,
      "outputs": []
    },
    {
      "cell_type": "markdown",
      "metadata": {
        "id": "AD63cODNOi3N"
      },
      "source": [
        "dict"
      ]
    },
    {
      "cell_type": "code",
      "metadata": {
        "id": "d_JJBuhoOnfd"
      },
      "source": [
        ""
      ],
      "execution_count": null,
      "outputs": []
    },
    {
      "cell_type": "markdown",
      "metadata": {
        "id": "V19LLo3zOlYo"
      },
      "source": [
        "range"
      ]
    },
    {
      "cell_type": "code",
      "metadata": {
        "id": "zPRiGy0mOpsN"
      },
      "source": [
        ""
      ],
      "execution_count": null,
      "outputs": []
    },
    {
      "cell_type": "markdown",
      "metadata": {
        "id": "FOVtBW0IOqQo"
      },
      "source": [
        ""
      ]
    }
  ]
}